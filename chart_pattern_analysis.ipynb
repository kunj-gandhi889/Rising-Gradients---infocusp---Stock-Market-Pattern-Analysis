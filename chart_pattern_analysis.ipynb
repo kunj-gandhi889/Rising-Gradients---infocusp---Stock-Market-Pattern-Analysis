{
 "cells": [
  {
   "cell_type": "markdown",
   "metadata": {},
   "source": [
    "### Stock Chart Pattern Recognition "
   ]
  },
  {
   "attachments": {},
   "cell_type": "markdown",
   "metadata": {},
   "source": [
    "4 Patterns\n",
    "1. Double Top (DT)\n",
    "2. Double Bottom (DB)\n",
    "3. Head and Shoulders (HAS)\n",
    "4. Reverse Head and Shoulders (RHAS)"
   ]
  },
  {
   "cell_type": "code",
   "execution_count": 364,
   "metadata": {},
   "outputs": [],
   "source": [
    "import pandas as pd\n",
    "import tensorflow as tf\n",
    "import os\n",
    "import datetime\n",
    "import plotly.graph_objects as go\n",
    "import numpy as np\n",
    "import cv2\n",
    "import random\n",
    "import matplotlib.pyplot as plt"
   ]
  },
  {
   "attachments": {},
   "cell_type": "markdown",
   "metadata": {},
   "source": [
    "### Loading Data"
   ]
  },
  {
   "cell_type": "code",
   "execution_count": 56,
   "metadata": {},
   "outputs": [],
   "source": [
    "# all 4 batches of stock data\n",
    "df1 = pd.read_csv('SampleData.csv')\n",
    "df2 = pd.read_csv('SampleData2.csv')\n",
    "df3 = pd.read_csv('SampleData3.csv')\n",
    "df4 = pd.read_csv('SampleData4.csv')\n",
    "testdf = pd.read_csv('TestData.csv')"
   ]
  },
  {
   "cell_type": "code",
   "execution_count": 57,
   "metadata": {},
   "outputs": [],
   "source": [
    "# all 4 batches of pattern data which contains info. about when which pattern formed, patterni corresponds to dfi\n",
    "pattern1 = pd.read_csv('SampleDataGT.csv')\n",
    "pattern2 = pd.read_csv('SampleData2GT.csv')\n",
    "pattern3 = pd.read_csv('SampleData3GT.csv')\n",
    "pattern4 = pd.read_csv('SampleData4GT.csv')\n",
    "# generate TestDataGT having same information as any GT file from TestData after training the model"
   ]
  },
  {
   "cell_type": "code",
   "execution_count": 78,
   "metadata": {},
   "outputs": [
    {
     "name": "stdout",
     "output_type": "stream",
     "text": [
      "(21586, 6) (90, 4)\n",
      "(71967, 6) (295, 4)\n",
      "(43183, 6) (185, 4)\n",
      "(43178, 6) (195, 4)\n"
     ]
    }
   ],
   "source": [
    "print(df1.shape,pattern1.shape)\n",
    "print(df2.shape,pattern2.shape)\n",
    "print(df3.shape,pattern3.shape)\n",
    "print(df4.shape,pattern4.shape)"
   ]
  },
  {
   "cell_type": "code",
   "execution_count": 80,
   "metadata": {},
   "outputs": [
    {
     "data": {
      "text/plain": [
       "Index(['Unnamed: 0', 'open', 'close', 'high', 'low', 'date'], dtype='object')"
      ]
     },
     "execution_count": 80,
     "metadata": {},
     "output_type": "execute_result"
    }
   ],
   "source": [
    "df1.columns # unnamed one is an daily index of a stock in duration of 5 mins (72 segment, 0 to 71) some day may imbalance"
   ]
  },
  {
   "cell_type": "code",
   "execution_count": 81,
   "metadata": {},
   "outputs": [
    {
     "data": {
      "text/plain": [
       "Index(['Unnamed: 0', 'start', 'end', 'pattern'], dtype='object')"
      ]
     },
     "execution_count": 81,
     "metadata": {},
     "output_type": "execute_result"
    }
   ],
   "source": [
    "pattern1.columns"
   ]
  },
  {
   "attachments": {},
   "cell_type": "markdown",
   "metadata": {},
   "source": [
    "### UNDERSTANDING DATA FIRST"
   ]
  },
  {
   "cell_type": "code",
   "execution_count": 58,
   "metadata": {},
   "outputs": [
    {
     "data": {
      "text/html": [
       "<div>\n",
       "<style scoped>\n",
       "    .dataframe tbody tr th:only-of-type {\n",
       "        vertical-align: middle;\n",
       "    }\n",
       "\n",
       "    .dataframe tbody tr th {\n",
       "        vertical-align: top;\n",
       "    }\n",
       "\n",
       "    .dataframe thead th {\n",
       "        text-align: right;\n",
       "    }\n",
       "</style>\n",
       "<table border=\"1\" class=\"dataframe\">\n",
       "  <thead>\n",
       "    <tr style=\"text-align: right;\">\n",
       "      <th></th>\n",
       "      <th>Unnamed: 0</th>\n",
       "      <th>open</th>\n",
       "      <th>close</th>\n",
       "      <th>high</th>\n",
       "      <th>low</th>\n",
       "      <th>date</th>\n",
       "    </tr>\n",
       "  </thead>\n",
       "  <tbody>\n",
       "    <tr>\n",
       "      <th>0</th>\n",
       "      <td>0</td>\n",
       "      <td>1032.144200</td>\n",
       "      <td>1032.246108</td>\n",
       "      <td>1038.520819</td>\n",
       "      <td>1025.869489</td>\n",
       "      <td>2020-01-02 09:00:00</td>\n",
       "    </tr>\n",
       "    <tr>\n",
       "      <th>1</th>\n",
       "      <td>1</td>\n",
       "      <td>1032.246108</td>\n",
       "      <td>1032.417499</td>\n",
       "      <td>1040.101487</td>\n",
       "      <td>1024.562120</td>\n",
       "      <td>2020-01-02 09:05:00</td>\n",
       "    </tr>\n",
       "    <tr>\n",
       "      <th>2</th>\n",
       "      <td>2</td>\n",
       "      <td>1032.417499</td>\n",
       "      <td>1032.375497</td>\n",
       "      <td>1040.023616</td>\n",
       "      <td>1024.769380</td>\n",
       "      <td>2020-01-02 09:10:00</td>\n",
       "    </tr>\n",
       "    <tr>\n",
       "      <th>3</th>\n",
       "      <td>3</td>\n",
       "      <td>1032.375497</td>\n",
       "      <td>1032.398605</td>\n",
       "      <td>1033.532570</td>\n",
       "      <td>1031.241532</td>\n",
       "      <td>2020-01-02 09:15:00</td>\n",
       "    </tr>\n",
       "    <tr>\n",
       "      <th>4</th>\n",
       "      <td>4</td>\n",
       "      <td>1032.398605</td>\n",
       "      <td>1032.482789</td>\n",
       "      <td>1037.506628</td>\n",
       "      <td>1027.374766</td>\n",
       "      <td>2020-01-02 09:20:00</td>\n",
       "    </tr>\n",
       "    <tr>\n",
       "      <th>...</th>\n",
       "      <td>...</td>\n",
       "      <td>...</td>\n",
       "      <td>...</td>\n",
       "      <td>...</td>\n",
       "      <td>...</td>\n",
       "      <td>...</td>\n",
       "    </tr>\n",
       "    <tr>\n",
       "      <th>21581</th>\n",
       "      <td>67</td>\n",
       "      <td>1672.852023</td>\n",
       "      <td>1678.324194</td>\n",
       "      <td>1681.038031</td>\n",
       "      <td>1670.138186</td>\n",
       "      <td>2021-02-24 14:35:00</td>\n",
       "    </tr>\n",
       "    <tr>\n",
       "      <th>21582</th>\n",
       "      <td>68</td>\n",
       "      <td>1678.324194</td>\n",
       "      <td>1677.952490</td>\n",
       "      <td>1687.895346</td>\n",
       "      <td>1668.381338</td>\n",
       "      <td>2021-02-24 14:40:00</td>\n",
       "    </tr>\n",
       "    <tr>\n",
       "      <th>21583</th>\n",
       "      <td>69</td>\n",
       "      <td>1677.952490</td>\n",
       "      <td>1676.963826</td>\n",
       "      <td>1689.028256</td>\n",
       "      <td>1665.888061</td>\n",
       "      <td>2021-02-24 14:45:00</td>\n",
       "    </tr>\n",
       "    <tr>\n",
       "      <th>21584</th>\n",
       "      <td>70</td>\n",
       "      <td>1676.963826</td>\n",
       "      <td>1679.059744</td>\n",
       "      <td>1688.330764</td>\n",
       "      <td>1667.692807</td>\n",
       "      <td>2021-02-24 14:50:00</td>\n",
       "    </tr>\n",
       "    <tr>\n",
       "      <th>21585</th>\n",
       "      <td>71</td>\n",
       "      <td>1679.059744</td>\n",
       "      <td>1685.062412</td>\n",
       "      <td>1695.667444</td>\n",
       "      <td>1668.454713</td>\n",
       "      <td>2021-02-24 14:55:00</td>\n",
       "    </tr>\n",
       "  </tbody>\n",
       "</table>\n",
       "<p>21586 rows × 6 columns</p>\n",
       "</div>"
      ],
      "text/plain": [
       "       Unnamed: 0         open        close         high          low  \\\n",
       "0               0  1032.144200  1032.246108  1038.520819  1025.869489   \n",
       "1               1  1032.246108  1032.417499  1040.101487  1024.562120   \n",
       "2               2  1032.417499  1032.375497  1040.023616  1024.769380   \n",
       "3               3  1032.375497  1032.398605  1033.532570  1031.241532   \n",
       "4               4  1032.398605  1032.482789  1037.506628  1027.374766   \n",
       "...           ...          ...          ...          ...          ...   \n",
       "21581          67  1672.852023  1678.324194  1681.038031  1670.138186   \n",
       "21582          68  1678.324194  1677.952490  1687.895346  1668.381338   \n",
       "21583          69  1677.952490  1676.963826  1689.028256  1665.888061   \n",
       "21584          70  1676.963826  1679.059744  1688.330764  1667.692807   \n",
       "21585          71  1679.059744  1685.062412  1695.667444  1668.454713   \n",
       "\n",
       "                      date  \n",
       "0      2020-01-02 09:00:00  \n",
       "1      2020-01-02 09:05:00  \n",
       "2      2020-01-02 09:10:00  \n",
       "3      2020-01-02 09:15:00  \n",
       "4      2020-01-02 09:20:00  \n",
       "...                    ...  \n",
       "21581  2021-02-24 14:35:00  \n",
       "21582  2021-02-24 14:40:00  \n",
       "21583  2021-02-24 14:45:00  \n",
       "21584  2021-02-24 14:50:00  \n",
       "21585  2021-02-24 14:55:00  \n",
       "\n",
       "[21586 rows x 6 columns]"
      ]
     },
     "execution_count": 58,
     "metadata": {},
     "output_type": "execute_result"
    }
   ],
   "source": [
    "df1"
   ]
  },
  {
   "cell_type": "code",
   "execution_count": 84,
   "metadata": {},
   "outputs": [
    {
     "data": {
      "text/html": [
       "<div>\n",
       "<style scoped>\n",
       "    .dataframe tbody tr th:only-of-type {\n",
       "        vertical-align: middle;\n",
       "    }\n",
       "\n",
       "    .dataframe tbody tr th {\n",
       "        vertical-align: top;\n",
       "    }\n",
       "\n",
       "    .dataframe thead th {\n",
       "        text-align: right;\n",
       "    }\n",
       "</style>\n",
       "<table border=\"1\" class=\"dataframe\">\n",
       "  <thead>\n",
       "    <tr style=\"text-align: right;\">\n",
       "      <th></th>\n",
       "      <th>Unnamed: 0</th>\n",
       "      <th>start</th>\n",
       "      <th>end</th>\n",
       "      <th>pattern</th>\n",
       "    </tr>\n",
       "  </thead>\n",
       "  <tbody>\n",
       "    <tr>\n",
       "      <th>0</th>\n",
       "      <td>0</td>\n",
       "      <td>2020-01-08 10:50:00</td>\n",
       "      <td>2020-01-08 13:00:00</td>\n",
       "      <td>Reverse Head and shoulders</td>\n",
       "    </tr>\n",
       "    <tr>\n",
       "      <th>1</th>\n",
       "      <td>1</td>\n",
       "      <td>2020-01-09 10:40:00</td>\n",
       "      <td>2020-01-09 12:45:00</td>\n",
       "      <td>Head and shoulders</td>\n",
       "    </tr>\n",
       "    <tr>\n",
       "      <th>2</th>\n",
       "      <td>2</td>\n",
       "      <td>2020-01-15 12:45:00</td>\n",
       "      <td>2020-01-15 14:50:00</td>\n",
       "      <td>Head and shoulders</td>\n",
       "    </tr>\n",
       "    <tr>\n",
       "      <th>3</th>\n",
       "      <td>3</td>\n",
       "      <td>2020-01-16 11:00:00</td>\n",
       "      <td>2020-01-16 13:10:00</td>\n",
       "      <td>Reverse Head and shoulders</td>\n",
       "    </tr>\n",
       "    <tr>\n",
       "      <th>4</th>\n",
       "      <td>4</td>\n",
       "      <td>2020-01-20 12:05:00</td>\n",
       "      <td>2020-01-20 13:55:00</td>\n",
       "      <td>Head and shoulders</td>\n",
       "    </tr>\n",
       "    <tr>\n",
       "      <th>...</th>\n",
       "      <td>...</td>\n",
       "      <td>...</td>\n",
       "      <td>...</td>\n",
       "      <td>...</td>\n",
       "    </tr>\n",
       "    <tr>\n",
       "      <th>85</th>\n",
       "      <td>85</td>\n",
       "      <td>2021-02-09 12:50:00</td>\n",
       "      <td>2021-02-09 14:40:00</td>\n",
       "      <td>Head and shoulders</td>\n",
       "    </tr>\n",
       "    <tr>\n",
       "      <th>86</th>\n",
       "      <td>86</td>\n",
       "      <td>2021-02-10 12:20:00</td>\n",
       "      <td>2021-02-10 13:45:00</td>\n",
       "      <td>Double Bottom</td>\n",
       "    </tr>\n",
       "    <tr>\n",
       "      <th>87</th>\n",
       "      <td>87</td>\n",
       "      <td>2021-02-11 11:00:00</td>\n",
       "      <td>2021-02-11 12:50:00</td>\n",
       "      <td>Reverse Head and shoulders</td>\n",
       "    </tr>\n",
       "    <tr>\n",
       "      <th>88</th>\n",
       "      <td>88</td>\n",
       "      <td>2021-02-18 11:10:00</td>\n",
       "      <td>2021-02-18 13:20:00</td>\n",
       "      <td>Reverse Head and shoulders</td>\n",
       "    </tr>\n",
       "    <tr>\n",
       "      <th>89</th>\n",
       "      <td>89</td>\n",
       "      <td>2021-02-24 11:55:00</td>\n",
       "      <td>2021-02-24 13:10:00</td>\n",
       "      <td>Double Bottom</td>\n",
       "    </tr>\n",
       "  </tbody>\n",
       "</table>\n",
       "<p>90 rows × 4 columns</p>\n",
       "</div>"
      ],
      "text/plain": [
       "    Unnamed: 0                start                  end  \\\n",
       "0            0  2020-01-08 10:50:00  2020-01-08 13:00:00   \n",
       "1            1  2020-01-09 10:40:00  2020-01-09 12:45:00   \n",
       "2            2  2020-01-15 12:45:00  2020-01-15 14:50:00   \n",
       "3            3  2020-01-16 11:00:00  2020-01-16 13:10:00   \n",
       "4            4  2020-01-20 12:05:00  2020-01-20 13:55:00   \n",
       "..         ...                  ...                  ...   \n",
       "85          85  2021-02-09 12:50:00  2021-02-09 14:40:00   \n",
       "86          86  2021-02-10 12:20:00  2021-02-10 13:45:00   \n",
       "87          87  2021-02-11 11:00:00  2021-02-11 12:50:00   \n",
       "88          88  2021-02-18 11:10:00  2021-02-18 13:20:00   \n",
       "89          89  2021-02-24 11:55:00  2021-02-24 13:10:00   \n",
       "\n",
       "                       pattern  \n",
       "0   Reverse Head and shoulders  \n",
       "1           Head and shoulders  \n",
       "2           Head and shoulders  \n",
       "3   Reverse Head and shoulders  \n",
       "4           Head and shoulders  \n",
       "..                         ...  \n",
       "85          Head and shoulders  \n",
       "86               Double Bottom  \n",
       "87  Reverse Head and shoulders  \n",
       "88  Reverse Head and shoulders  \n",
       "89               Double Bottom  \n",
       "\n",
       "[90 rows x 4 columns]"
      ]
     },
     "execution_count": 84,
     "metadata": {},
     "output_type": "execute_result"
    }
   ],
   "source": [
    "pattern1"
   ]
  },
  {
   "attachments": {},
   "cell_type": "markdown",
   "metadata": {},
   "source": [
    "### SOME IRREGULAR TRADE DAY (< 72 Info)"
   ]
  },
  {
   "cell_type": "code",
   "execution_count": 95,
   "metadata": {},
   "outputs": [],
   "source": [
    "def irregularDay(dfx):\n",
    "    check = dfx.to_numpy()\n",
    "    count = 0\n",
    "    i=0\n",
    "    while(i<len(check)):\n",
    "        for j in range(i+1,i+72):\n",
    "            if(check[j][0]==0):\n",
    "                print(j-i,end=\" \")\n",
    "                i+=(j-i)\n",
    "                print(i)\n",
    "                break\n",
    "        else:\n",
    "            i+=72\n",
    "            count+=1\n",
    "    print(count)"
   ]
  },
  {
   "cell_type": "code",
   "execution_count": 96,
   "metadata": {},
   "outputs": [
    {
     "name": "stdout",
     "output_type": "stream",
     "text": [
      "69 11805\n",
      "61 12226\n",
      "298\n"
     ]
    }
   ],
   "source": [
    "# df1\n",
    "irregularDay(df1)"
   ]
  },
  {
   "cell_type": "code",
   "execution_count": 88,
   "metadata": {},
   "outputs": [
    {
     "data": {
      "text/plain": [
       "True"
      ]
     },
     "execution_count": 88,
     "metadata": {},
     "output_type": "execute_result"
    }
   ],
   "source": [
    "298*72 + 69 + 61 == len(df1) # except 2 days , every day has 72 stock data (starts at 9am and ends at 3pm)"
   ]
  },
  {
   "cell_type": "code",
   "execution_count": 98,
   "metadata": {},
   "outputs": [
    {
     "name": "stdout",
     "output_type": "stream",
     "text": [
      "67 2443\n",
      "70 36209\n",
      "70 37215\n",
      "57 64488\n",
      "63 64623\n",
      "995\n"
     ]
    }
   ],
   "source": [
    "# df2\n",
    "irregularDay(df2)"
   ]
  },
  {
   "cell_type": "code",
   "execution_count": 87,
   "metadata": {},
   "outputs": [
    {
     "data": {
      "text/plain": [
       "True"
      ]
     },
     "execution_count": 87,
     "metadata": {},
     "output_type": "execute_result"
    }
   ],
   "source": [
    "995*72 + 67 + 70 + 70 + 57 + 63 == len(df2) # 5 days"
   ]
  },
  {
   "cell_type": "code",
   "execution_count": 99,
   "metadata": {},
   "outputs": [
    {
     "name": "stdout",
     "output_type": "stream",
     "text": [
      "70 16342\n",
      "57 16543\n",
      "598\n"
     ]
    }
   ],
   "source": [
    "# df3\n",
    "irregularDay(df3)"
   ]
  },
  {
   "cell_type": "code",
   "execution_count": 90,
   "metadata": {},
   "outputs": [
    {
     "data": {
      "text/plain": [
       "True"
      ]
     },
     "execution_count": 90,
     "metadata": {},
     "output_type": "execute_result"
    }
   ],
   "source": [
    "598*72 + 70 + 57 == len(df3) # 2 days"
   ]
  },
  {
   "cell_type": "code",
   "execution_count": 100,
   "metadata": {},
   "outputs": [
    {
     "name": "stdout",
     "output_type": "stream",
     "text": [
      "69 2157\n",
      "61 18346\n",
      "64 41450\n",
      "597\n"
     ]
    }
   ],
   "source": [
    "# df4\n",
    "irregularDay(df4)"
   ]
  },
  {
   "cell_type": "code",
   "execution_count": 93,
   "metadata": {},
   "outputs": [
    {
     "data": {
      "text/plain": [
       "True"
      ]
     },
     "execution_count": 93,
     "metadata": {},
     "output_type": "execute_result"
    }
   ],
   "source": [
    "597*72 + 69 + 61 + 64 == len(df4) # 3 days"
   ]
  },
  {
   "attachments": {},
   "cell_type": "markdown",
   "metadata": {},
   "source": [
    "# EDA / PATTERN VISUALIZATION USING PLOTLY"
   ]
  },
  {
   "cell_type": "code",
   "execution_count": 61,
   "metadata": {},
   "outputs": [],
   "source": [
    "def draw_candlesticks(dfx,chart_title='',xaxis_rangeslider_visible=True,save=False,image='',show=True):\n",
    "    figx = go.Figure(go.Candlestick(x=dfx['date'],\n",
    "               open = dfx['open'],\n",
    "               close = dfx['close'],\n",
    "               high = dfx['high'],\n",
    "               low = dfx['low']),\n",
    "               go.Layout(title=chart_title)\n",
    "            )\n",
    "    figx.update_layout(xaxis_rangeslider_visible = xaxis_rangeslider_visible)\n",
    "    if show:\n",
    "        figx.show()\n",
    "    if save:\n",
    "        figx.write_image(os.path.join('StockImages',image),format='png')"
   ]
  },
  {
   "cell_type": "code",
   "execution_count": 83,
   "metadata": {},
   "outputs": [
    {
     "data": {
      "application/vnd.plotly.v1+json": {
       "config": {
        "plotlyServerURL": "https://plot.ly"
       },
       "data": [
        {
         "close": [
          1032.246108267532,
          1032.417498824829,
          1032.3754973739262,
          1032.3986045913712,
          1032.4827890145525,
          1032.5966896386878,
          1032.6942,
          1023.12186545521,
          1015.6947651935352,
          1009.7412021953032,
          992.0115376448769,
          999.3435112476328,
          983.9842,
          986.3878411198334,
          989.4994219977834,
          999.868623249294,
          1008.9262843380476,
          1003.1131424422952,
          1013.9988142758576,
          1019.8754838894964,
          1026.6741219414473,
          1024.7442,
          1024.6128181217152,
          1024.6362569817263,
          1024.169951090989,
          1024.3037204899845,
          1023.6678405022694,
          1023.4477791156104,
          1023.5196873371548,
          1023.432504319058,
          1023.0341999999998,
          1022.4060041288832,
          1017.0358406377376,
          1015.852537131052,
          1012.6744371936376,
          1008.6273533673924,
          999.6447519537946,
          990.4669776456824,
          991.8441999999998,
          1001.8346766297856,
          1002.6192896349064,
          1013.8703091564472,
          1014.6341999999996,
          1014.9545077668836,
          1018.4448538470858,
          1029.77942569997,
          1039.6877675594264,
          1044.9124418104211,
          1040.1579585968204,
          1047.1741999999997,
          1042.2589453350934,
          1037.020757584103,
          1018.3262216826786,
          1021.583013976091,
          1008.9841999999996,
          1013.0963997452532,
          1010.6257908080402,
          1013.4346385621928,
          1016.1778541385218,
          1019.516724253551,
          1025.822316677971,
          1029.7013259057355,
          1032.376817237332,
          1031.1041999999995,
          1027.407806109657,
          1027.2382656623072,
          1025.4207728016984,
          1012.0804087337837,
          1019.9739390132504,
          1013.2999459202622,
          1003.7836053266424,
          1008.5408850888514
         ],
         "high": [
          1038.5208189586217,
          1040.101487381555,
          1040.023615999888,
          1033.5325700515114,
          1037.5066278406357,
          1034.3903188602185,
          1040.7065532056313,
          1039.7800818623066,
          1024.1322037031991,
          1018.4312096478704,
          1010.7927811963748,
          1000.8895873164734,
          1007.3352094029658,
          994.6170641138244,
          997.0635009965664,
          1002.8201105660044,
          1013.148160666064,
          1010.786622040547,
          1022.3202796058968,
          1025.2448211816604,
          1032.4656893162944,
          1032.4736658555626,
          1025.4963029817814,
          1026.8140759948365,
          1029.9159362680043,
          1032.187107256898,
          1032.5423896474429,
          1026.408254002394,
          1024.8117222054943,
          1026.3170677985252,
          1028.6781865502833,
          1029.691804796618,
          1028.9901326838294,
          1021.9318167043634,
          1017.2893166272992,
          1016.7157355625352,
          1015.7517884319176,
          1003.8907559224832,
          998.1484139776314,
          1002.920597557062,
          1004.5429854371624,
          1021.4945504177016,
          1023.0226255418733,
          1015.3470528256064,
          1020.4563952373916,
          1034.3155472164517,
          1041.3888911918953,
          1048.0988936137846,
          1046.8612188608804,
          1053.9764182036015,
          1048.6320483029992,
          1046.7209041623803,
          1039.4775111456124,
          1021.9980293129344,
          1029.109925443091,
          1017.5280344727166,
          1014.4139306630656,
          1013.794224259046,
          1018.772869953376,
          1024.5293426280634,
          1032.128468641225,
          1029.8109912877344,
          1036.5675830976054,
          1036.2227541104394,
          1039.0976039448162,
          1028.4445489360442,
          1033.128951109928,
          1025.9440321932163,
          1026.9123974464494,
          1021.0633693851104,
          1021.5717463721758,
          1014.974120651828
         ],
         "low": [
          1025.8694893089105,
          1024.562119710806,
          1024.769380198867,
          1031.241531913786,
          1027.374765765288,
          1030.6891597930216,
          1024.5843364330565,
          1016.0359835929032,
          1014.684426945546,
          1007.004757740968,
          990.9599586438052,
          990.4654615760362,
          975.9925018446668,
          975.7549770060087,
          978.8237621210504,
          986.547934681073,
          995.6467469212776,
          1001.2528047397956,
          994.791677112256,
          1008.6294769836936,
          1014.0839165146494,
          1018.9446560858846,
          1023.8607151399336,
          1022.4349991086052,
          1018.8902718047108,
          1016.2865643240752,
          1015.429171344811,
          1020.7073656154856,
          1022.1557442472708,
          1020.6351238576876,
          1017.7885177687745,
          1015.7483993322652,
          1010.4517120827916,
          1010.9565610644264,
          1011.2376576973904,
          1004.5860549984944,
          992.5203168892692,
          986.2209736769936,
          984.1627636680508,
          990.7582790727232,
          999.9109808275296,
          994.995048373652,
          1005.4818836145736,
          1014.2416549412768,
          1012.9429663765776,
          1013.9087323306042,
          1028.0783020675012,
          1036.501315756063,
          1038.2091815463614,
          1033.3557403932186,
          1040.8010970320938,
          1032.5587987568158,
          1015.8694681211692,
          1017.9112063458352,
          1001.4572885329997,
          1004.5525652725362,
          1009.3082598902276,
          1010.266205111187,
          1010.8396227473386,
          1011.1652357640094,
          1013.210572290297,
          1025.712651295972,
          1025.5105600454622,
          1027.2582631268922,
          1019.4144021648405,
          1026.20152283592,
          1019.5300873540776,
          1011.5571493422656,
          1005.1419503005844,
          1012.2105155484024,
          995.5118048747288,
          997.3503697636656
         ],
         "open": [
          1032.1442,
          1032.246108267532,
          1032.417498824829,
          1032.3754973739262,
          1032.3986045913712,
          1032.4827890145525,
          1032.5966896386878,
          1032.6942,
          1023.12186545521,
          1015.6947651935352,
          1009.7412021953032,
          992.0115376448769,
          999.3435112476328,
          983.9842,
          986.3878411198334,
          989.4994219977834,
          999.868623249294,
          1008.9262843380476,
          1003.1131424422952,
          1013.9988142758576,
          1019.8754838894964,
          1026.6741219414473,
          1024.7442,
          1024.6128181217152,
          1024.6362569817263,
          1024.169951090989,
          1024.3037204899845,
          1023.6678405022694,
          1023.4477791156104,
          1023.5196873371548,
          1023.432504319058,
          1023.0341999999998,
          1022.4060041288832,
          1017.0358406377376,
          1015.852537131052,
          1012.6744371936376,
          1008.6273533673924,
          999.6447519537946,
          990.4669776456824,
          991.8441999999998,
          1001.8346766297856,
          1002.6192896349064,
          1013.8703091564472,
          1014.6341999999996,
          1014.9545077668836,
          1018.4448538470858,
          1029.77942569997,
          1039.6877675594264,
          1044.9124418104211,
          1040.1579585968204,
          1047.1741999999997,
          1042.2589453350934,
          1037.020757584103,
          1018.3262216826786,
          1021.583013976091,
          1008.9841999999996,
          1013.0963997452532,
          1010.6257908080402,
          1013.4346385621928,
          1016.1778541385218,
          1019.516724253551,
          1025.822316677971,
          1029.7013259057355,
          1032.376817237332,
          1031.1041999999995,
          1027.407806109657,
          1027.2382656623072,
          1025.4207728016984,
          1012.0804087337837,
          1019.9739390132504,
          1013.2999459202622,
          1003.7836053266424
         ],
         "type": "candlestick",
         "x": [
          "2020-01-02 09:00:00",
          "2020-01-02 09:05:00",
          "2020-01-02 09:10:00",
          "2020-01-02 09:15:00",
          "2020-01-02 09:20:00",
          "2020-01-02 09:25:00",
          "2020-01-02 09:30:00",
          "2020-01-02 09:35:00",
          "2020-01-02 09:40:00",
          "2020-01-02 09:45:00",
          "2020-01-02 09:50:00",
          "2020-01-02 09:55:00",
          "2020-01-02 10:00:00",
          "2020-01-02 10:05:00",
          "2020-01-02 10:10:00",
          "2020-01-02 10:15:00",
          "2020-01-02 10:20:00",
          "2020-01-02 10:25:00",
          "2020-01-02 10:30:00",
          "2020-01-02 10:35:00",
          "2020-01-02 10:40:00",
          "2020-01-02 10:45:00",
          "2020-01-02 10:50:00",
          "2020-01-02 10:55:00",
          "2020-01-02 11:00:00",
          "2020-01-02 11:05:00",
          "2020-01-02 11:10:00",
          "2020-01-02 11:15:00",
          "2020-01-02 11:20:00",
          "2020-01-02 11:25:00",
          "2020-01-02 11:30:00",
          "2020-01-02 11:35:00",
          "2020-01-02 11:40:00",
          "2020-01-02 11:45:00",
          "2020-01-02 11:50:00",
          "2020-01-02 11:55:00",
          "2020-01-02 12:00:00",
          "2020-01-02 12:05:00",
          "2020-01-02 12:10:00",
          "2020-01-02 12:15:00",
          "2020-01-02 12:20:00",
          "2020-01-02 12:25:00",
          "2020-01-02 12:30:00",
          "2020-01-02 12:35:00",
          "2020-01-02 12:40:00",
          "2020-01-02 12:45:00",
          "2020-01-02 12:50:00",
          "2020-01-02 12:55:00",
          "2020-01-02 13:00:00",
          "2020-01-02 13:05:00",
          "2020-01-02 13:10:00",
          "2020-01-02 13:15:00",
          "2020-01-02 13:20:00",
          "2020-01-02 13:25:00",
          "2020-01-02 13:30:00",
          "2020-01-02 13:35:00",
          "2020-01-02 13:40:00",
          "2020-01-02 13:45:00",
          "2020-01-02 13:50:00",
          "2020-01-02 13:55:00",
          "2020-01-02 14:00:00",
          "2020-01-02 14:05:00",
          "2020-01-02 14:10:00",
          "2020-01-02 14:15:00",
          "2020-01-02 14:20:00",
          "2020-01-02 14:25:00",
          "2020-01-02 14:30:00",
          "2020-01-02 14:35:00",
          "2020-01-02 14:40:00",
          "2020-01-02 14:45:00",
          "2020-01-02 14:50:00",
          "2020-01-02 14:55:00"
         ]
        }
       ],
       "layout": {
        "template": {
         "data": {
          "bar": [
           {
            "error_x": {
             "color": "#2a3f5f"
            },
            "error_y": {
             "color": "#2a3f5f"
            },
            "marker": {
             "line": {
              "color": "#E5ECF6",
              "width": 0.5
             },
             "pattern": {
              "fillmode": "overlay",
              "size": 10,
              "solidity": 0.2
             }
            },
            "type": "bar"
           }
          ],
          "barpolar": [
           {
            "marker": {
             "line": {
              "color": "#E5ECF6",
              "width": 0.5
             },
             "pattern": {
              "fillmode": "overlay",
              "size": 10,
              "solidity": 0.2
             }
            },
            "type": "barpolar"
           }
          ],
          "carpet": [
           {
            "aaxis": {
             "endlinecolor": "#2a3f5f",
             "gridcolor": "white",
             "linecolor": "white",
             "minorgridcolor": "white",
             "startlinecolor": "#2a3f5f"
            },
            "baxis": {
             "endlinecolor": "#2a3f5f",
             "gridcolor": "white",
             "linecolor": "white",
             "minorgridcolor": "white",
             "startlinecolor": "#2a3f5f"
            },
            "type": "carpet"
           }
          ],
          "choropleth": [
           {
            "colorbar": {
             "outlinewidth": 0,
             "ticks": ""
            },
            "type": "choropleth"
           }
          ],
          "contour": [
           {
            "colorbar": {
             "outlinewidth": 0,
             "ticks": ""
            },
            "colorscale": [
             [
              0,
              "#0d0887"
             ],
             [
              0.1111111111111111,
              "#46039f"
             ],
             [
              0.2222222222222222,
              "#7201a8"
             ],
             [
              0.3333333333333333,
              "#9c179e"
             ],
             [
              0.4444444444444444,
              "#bd3786"
             ],
             [
              0.5555555555555556,
              "#d8576b"
             ],
             [
              0.6666666666666666,
              "#ed7953"
             ],
             [
              0.7777777777777778,
              "#fb9f3a"
             ],
             [
              0.8888888888888888,
              "#fdca26"
             ],
             [
              1,
              "#f0f921"
             ]
            ],
            "type": "contour"
           }
          ],
          "contourcarpet": [
           {
            "colorbar": {
             "outlinewidth": 0,
             "ticks": ""
            },
            "type": "contourcarpet"
           }
          ],
          "heatmap": [
           {
            "colorbar": {
             "outlinewidth": 0,
             "ticks": ""
            },
            "colorscale": [
             [
              0,
              "#0d0887"
             ],
             [
              0.1111111111111111,
              "#46039f"
             ],
             [
              0.2222222222222222,
              "#7201a8"
             ],
             [
              0.3333333333333333,
              "#9c179e"
             ],
             [
              0.4444444444444444,
              "#bd3786"
             ],
             [
              0.5555555555555556,
              "#d8576b"
             ],
             [
              0.6666666666666666,
              "#ed7953"
             ],
             [
              0.7777777777777778,
              "#fb9f3a"
             ],
             [
              0.8888888888888888,
              "#fdca26"
             ],
             [
              1,
              "#f0f921"
             ]
            ],
            "type": "heatmap"
           }
          ],
          "heatmapgl": [
           {
            "colorbar": {
             "outlinewidth": 0,
             "ticks": ""
            },
            "colorscale": [
             [
              0,
              "#0d0887"
             ],
             [
              0.1111111111111111,
              "#46039f"
             ],
             [
              0.2222222222222222,
              "#7201a8"
             ],
             [
              0.3333333333333333,
              "#9c179e"
             ],
             [
              0.4444444444444444,
              "#bd3786"
             ],
             [
              0.5555555555555556,
              "#d8576b"
             ],
             [
              0.6666666666666666,
              "#ed7953"
             ],
             [
              0.7777777777777778,
              "#fb9f3a"
             ],
             [
              0.8888888888888888,
              "#fdca26"
             ],
             [
              1,
              "#f0f921"
             ]
            ],
            "type": "heatmapgl"
           }
          ],
          "histogram": [
           {
            "marker": {
             "pattern": {
              "fillmode": "overlay",
              "size": 10,
              "solidity": 0.2
             }
            },
            "type": "histogram"
           }
          ],
          "histogram2d": [
           {
            "colorbar": {
             "outlinewidth": 0,
             "ticks": ""
            },
            "colorscale": [
             [
              0,
              "#0d0887"
             ],
             [
              0.1111111111111111,
              "#46039f"
             ],
             [
              0.2222222222222222,
              "#7201a8"
             ],
             [
              0.3333333333333333,
              "#9c179e"
             ],
             [
              0.4444444444444444,
              "#bd3786"
             ],
             [
              0.5555555555555556,
              "#d8576b"
             ],
             [
              0.6666666666666666,
              "#ed7953"
             ],
             [
              0.7777777777777778,
              "#fb9f3a"
             ],
             [
              0.8888888888888888,
              "#fdca26"
             ],
             [
              1,
              "#f0f921"
             ]
            ],
            "type": "histogram2d"
           }
          ],
          "histogram2dcontour": [
           {
            "colorbar": {
             "outlinewidth": 0,
             "ticks": ""
            },
            "colorscale": [
             [
              0,
              "#0d0887"
             ],
             [
              0.1111111111111111,
              "#46039f"
             ],
             [
              0.2222222222222222,
              "#7201a8"
             ],
             [
              0.3333333333333333,
              "#9c179e"
             ],
             [
              0.4444444444444444,
              "#bd3786"
             ],
             [
              0.5555555555555556,
              "#d8576b"
             ],
             [
              0.6666666666666666,
              "#ed7953"
             ],
             [
              0.7777777777777778,
              "#fb9f3a"
             ],
             [
              0.8888888888888888,
              "#fdca26"
             ],
             [
              1,
              "#f0f921"
             ]
            ],
            "type": "histogram2dcontour"
           }
          ],
          "mesh3d": [
           {
            "colorbar": {
             "outlinewidth": 0,
             "ticks": ""
            },
            "type": "mesh3d"
           }
          ],
          "parcoords": [
           {
            "line": {
             "colorbar": {
              "outlinewidth": 0,
              "ticks": ""
             }
            },
            "type": "parcoords"
           }
          ],
          "pie": [
           {
            "automargin": true,
            "type": "pie"
           }
          ],
          "scatter": [
           {
            "fillpattern": {
             "fillmode": "overlay",
             "size": 10,
             "solidity": 0.2
            },
            "type": "scatter"
           }
          ],
          "scatter3d": [
           {
            "line": {
             "colorbar": {
              "outlinewidth": 0,
              "ticks": ""
             }
            },
            "marker": {
             "colorbar": {
              "outlinewidth": 0,
              "ticks": ""
             }
            },
            "type": "scatter3d"
           }
          ],
          "scattercarpet": [
           {
            "marker": {
             "colorbar": {
              "outlinewidth": 0,
              "ticks": ""
             }
            },
            "type": "scattercarpet"
           }
          ],
          "scattergeo": [
           {
            "marker": {
             "colorbar": {
              "outlinewidth": 0,
              "ticks": ""
             }
            },
            "type": "scattergeo"
           }
          ],
          "scattergl": [
           {
            "marker": {
             "colorbar": {
              "outlinewidth": 0,
              "ticks": ""
             }
            },
            "type": "scattergl"
           }
          ],
          "scattermapbox": [
           {
            "marker": {
             "colorbar": {
              "outlinewidth": 0,
              "ticks": ""
             }
            },
            "type": "scattermapbox"
           }
          ],
          "scatterpolar": [
           {
            "marker": {
             "colorbar": {
              "outlinewidth": 0,
              "ticks": ""
             }
            },
            "type": "scatterpolar"
           }
          ],
          "scatterpolargl": [
           {
            "marker": {
             "colorbar": {
              "outlinewidth": 0,
              "ticks": ""
             }
            },
            "type": "scatterpolargl"
           }
          ],
          "scatterternary": [
           {
            "marker": {
             "colorbar": {
              "outlinewidth": 0,
              "ticks": ""
             }
            },
            "type": "scatterternary"
           }
          ],
          "surface": [
           {
            "colorbar": {
             "outlinewidth": 0,
             "ticks": ""
            },
            "colorscale": [
             [
              0,
              "#0d0887"
             ],
             [
              0.1111111111111111,
              "#46039f"
             ],
             [
              0.2222222222222222,
              "#7201a8"
             ],
             [
              0.3333333333333333,
              "#9c179e"
             ],
             [
              0.4444444444444444,
              "#bd3786"
             ],
             [
              0.5555555555555556,
              "#d8576b"
             ],
             [
              0.6666666666666666,
              "#ed7953"
             ],
             [
              0.7777777777777778,
              "#fb9f3a"
             ],
             [
              0.8888888888888888,
              "#fdca26"
             ],
             [
              1,
              "#f0f921"
             ]
            ],
            "type": "surface"
           }
          ],
          "table": [
           {
            "cells": {
             "fill": {
              "color": "#EBF0F8"
             },
             "line": {
              "color": "white"
             }
            },
            "header": {
             "fill": {
              "color": "#C8D4E3"
             },
             "line": {
              "color": "white"
             }
            },
            "type": "table"
           }
          ]
         },
         "layout": {
          "annotationdefaults": {
           "arrowcolor": "#2a3f5f",
           "arrowhead": 0,
           "arrowwidth": 1
          },
          "autotypenumbers": "strict",
          "coloraxis": {
           "colorbar": {
            "outlinewidth": 0,
            "ticks": ""
           }
          },
          "colorscale": {
           "diverging": [
            [
             0,
             "#8e0152"
            ],
            [
             0.1,
             "#c51b7d"
            ],
            [
             0.2,
             "#de77ae"
            ],
            [
             0.3,
             "#f1b6da"
            ],
            [
             0.4,
             "#fde0ef"
            ],
            [
             0.5,
             "#f7f7f7"
            ],
            [
             0.6,
             "#e6f5d0"
            ],
            [
             0.7,
             "#b8e186"
            ],
            [
             0.8,
             "#7fbc41"
            ],
            [
             0.9,
             "#4d9221"
            ],
            [
             1,
             "#276419"
            ]
           ],
           "sequential": [
            [
             0,
             "#0d0887"
            ],
            [
             0.1111111111111111,
             "#46039f"
            ],
            [
             0.2222222222222222,
             "#7201a8"
            ],
            [
             0.3333333333333333,
             "#9c179e"
            ],
            [
             0.4444444444444444,
             "#bd3786"
            ],
            [
             0.5555555555555556,
             "#d8576b"
            ],
            [
             0.6666666666666666,
             "#ed7953"
            ],
            [
             0.7777777777777778,
             "#fb9f3a"
            ],
            [
             0.8888888888888888,
             "#fdca26"
            ],
            [
             1,
             "#f0f921"
            ]
           ],
           "sequentialminus": [
            [
             0,
             "#0d0887"
            ],
            [
             0.1111111111111111,
             "#46039f"
            ],
            [
             0.2222222222222222,
             "#7201a8"
            ],
            [
             0.3333333333333333,
             "#9c179e"
            ],
            [
             0.4444444444444444,
             "#bd3786"
            ],
            [
             0.5555555555555556,
             "#d8576b"
            ],
            [
             0.6666666666666666,
             "#ed7953"
            ],
            [
             0.7777777777777778,
             "#fb9f3a"
            ],
            [
             0.8888888888888888,
             "#fdca26"
            ],
            [
             1,
             "#f0f921"
            ]
           ]
          },
          "colorway": [
           "#636efa",
           "#EF553B",
           "#00cc96",
           "#ab63fa",
           "#FFA15A",
           "#19d3f3",
           "#FF6692",
           "#B6E880",
           "#FF97FF",
           "#FECB52"
          ],
          "font": {
           "color": "#2a3f5f"
          },
          "geo": {
           "bgcolor": "white",
           "lakecolor": "white",
           "landcolor": "#E5ECF6",
           "showlakes": true,
           "showland": true,
           "subunitcolor": "white"
          },
          "hoverlabel": {
           "align": "left"
          },
          "hovermode": "closest",
          "mapbox": {
           "style": "light"
          },
          "paper_bgcolor": "white",
          "plot_bgcolor": "#E5ECF6",
          "polar": {
           "angularaxis": {
            "gridcolor": "white",
            "linecolor": "white",
            "ticks": ""
           },
           "bgcolor": "#E5ECF6",
           "radialaxis": {
            "gridcolor": "white",
            "linecolor": "white",
            "ticks": ""
           }
          },
          "scene": {
           "xaxis": {
            "backgroundcolor": "#E5ECF6",
            "gridcolor": "white",
            "gridwidth": 2,
            "linecolor": "white",
            "showbackground": true,
            "ticks": "",
            "zerolinecolor": "white"
           },
           "yaxis": {
            "backgroundcolor": "#E5ECF6",
            "gridcolor": "white",
            "gridwidth": 2,
            "linecolor": "white",
            "showbackground": true,
            "ticks": "",
            "zerolinecolor": "white"
           },
           "zaxis": {
            "backgroundcolor": "#E5ECF6",
            "gridcolor": "white",
            "gridwidth": 2,
            "linecolor": "white",
            "showbackground": true,
            "ticks": "",
            "zerolinecolor": "white"
           }
          },
          "shapedefaults": {
           "line": {
            "color": "#2a3f5f"
           }
          },
          "ternary": {
           "aaxis": {
            "gridcolor": "white",
            "linecolor": "white",
            "ticks": ""
           },
           "baxis": {
            "gridcolor": "white",
            "linecolor": "white",
            "ticks": ""
           },
           "bgcolor": "#E5ECF6",
           "caxis": {
            "gridcolor": "white",
            "linecolor": "white",
            "ticks": ""
           }
          },
          "title": {
           "x": 0.05
          },
          "xaxis": {
           "automargin": true,
           "gridcolor": "white",
           "linecolor": "white",
           "ticks": "",
           "title": {
            "standoff": 15
           },
           "zerolinecolor": "white",
           "zerolinewidth": 2
          },
          "yaxis": {
           "automargin": true,
           "gridcolor": "white",
           "linecolor": "white",
           "ticks": "",
           "title": {
            "standoff": 15
           },
           "zerolinecolor": "white",
           "zerolinewidth": 2
          }
         }
        },
        "title": {
         "text": "No Pattern"
        },
        "xaxis": {
         "rangeslider": {
          "visible": true
         }
        }
       }
      }
     },
     "metadata": {},
     "output_type": "display_data"
    }
   ],
   "source": [
    "dfa = df1.iloc[:72,:]\n",
    "draw_candlesticks(dfa,'No Pattern',save=True,image='../dummy.png')"
   ]
  },
  {
   "cell_type": "code",
   "execution_count": 63,
   "metadata": {},
   "outputs": [
    {
     "data": {
      "text/plain": [
       "287    2020-01-07 14:55:00\n",
       "288    2020-01-08 09:00:00\n",
       "Name: date, dtype: object"
      ]
     },
     "execution_count": 63,
     "metadata": {},
     "output_type": "execute_result"
    }
   ],
   "source": [
    "df1['date'].iloc[287:289]"
   ]
  },
  {
   "cell_type": "code",
   "execution_count": 64,
   "metadata": {},
   "outputs": [
    {
     "data": {
      "application/vnd.plotly.v1+json": {
       "config": {
        "plotlyServerURL": "https://plot.ly"
       },
       "data": [
        {
         "close": [
          795.6385636553224,
          794.9015893541394,
          790.391084088594,
          781.0782943541893,
          782.3571461881336,
          782.3361995484915,
          782.6139955309819,
          774.4521791338359,
          773.139081876244,
          773.2427804512796,
          764.8004790863561,
          767.9376407446271,
          759.144937490031,
          756.1853038267975,
          747.6889103115196,
          745.7825006065126,
          745.4090818762439,
          742.5318317319328,
          725.1217857002046,
          730.8567507585132,
          725.5787353048283,
          711.509081876244,
          699.9825765012989,
          696.6026675035703,
          682.1927931332345,
          669.1539976229021,
          680.3769681158052,
          691.4111855287183,
          698.317273484841,
          704.422919398341,
          710.7205043888006,
          701.1459730398653,
          688.6365210091955,
          682.2139476576722,
          658.2220548027796,
          655.2456685525935,
          662.7275714144318,
          684.309414241103,
          701.4753442355855,
          711.4717108516443,
          696.371101921077,
          698.2262978124386,
          692.9953071825054,
          686.106382928454,
          688.3165099990092,
          695.7410099223603,
          701.7002821410515,
          713.7305728042755,
          710.4842066927573,
          712.8164797944759,
          710.1171726684337,
          710.5149226374655,
          708.7808362645108,
          705.377881915045,
          704.8915458277919,
          703.9305728042756,
          699.7791625547493,
          701.0625789951763,
          697.1615175266697,
          696.715687592507,
          696.3344876519242,
          694.8329773730457,
          692.4422461777068,
          694.3809945592229,
          690.4905728042755,
          691.4608380686872,
          692.0631125371199,
          692.3300078683096,
          691.4944011384429,
          692.9343029535744,
          693.8291877207197,
          693.6974854356358
         ],
         "high": [
          800.9903200337249,
          798.9505833566728,
          797.7166282709875,
          791.9457235246812,
          785.8234723675878,
          782.7298173738948,
          786.983426783126,
          784.3035139876166,
          774.6910408479101,
          778.6157838985712,
          775.0181740625609,
          774.5087535089825,
          771.2998136461904,
          763.4570012410621,
          756.5946815205143,
          752.8164000779373,
          746.2667967077941,
          746.1717449717546,
          742.892241584848,
          734.731346794225,
          731.1905572807715,
          731.9682772505216,
          712.7850157272035,
          704.7973537479191,
          697.9579838374817,
          687.936311323622,
          681.0241782741697,
          696.394319328695,
          700.6613942200001,
          706.6157253244843,
          714.391262410029,
          709.5784125632687,
          701.9182885139884,
          691.4571263079838,
          688.6680246352312,
          658.8801847316643,
          669.573840163176,
          688.9473386063634,
          702.1056476803398,
          714.2575518858185,
          704.7366484953902,
          701.1297009556986,
          702.2136916496248,
          695.7483259511022,
          691.6150174799217,
          699.3394143480627,
          701.9422805936074,
          714.862053909485,
          716.4551736896531,
          715.0544395055127,
          716.7317643315462,
          717.3182542239962,
          710.8672030805795,
          711.7658638422103,
          706.3617324465831,
          710.8284223389951,
          704.8778477376835,
          701.3708842746242,
          707.1127234975165,
          700.6682702849968,
          701.6871176156078,
          698.7868697654283,
          701.7720807454293,
          700.2457860876455,
          696.4513028954472,
          692.8840371969889,
          695.6682263465548,
          694.3768908539809,
          696.3056749867169,
          695.4474347471295,
          697.5306715213245,
          700.3688524581039
         ],
         "low": [
          791.1373254978415,
          791.589569652789,
          787.5760451717459,
          779.5236549181021,
          777.6119681747351,
          781.9635283627304,
          777.9667682963475,
          772.7626606772012,
          772.9002201621697,
          767.7660784289524,
          763.0250854750748,
          758.2293663220006,
          755.7827645884677,
          751.8732400757664,
          747.2795326178028,
          740.655010840095,
          744.9247857749624,
          741.7691686364221,
          724.7613758472894,
          721.2471896644927,
          725.24492878257,
          705.1195399305507,
          698.7066426503394,
          691.78789025695,
          680.8374767993231,
          663.4104794325146,
          676.0508335014375,
          675.3938343158285,
          689.0670647935592,
          696.1244675586978,
          700.7521613771127,
          695.584035509157,
          687.8642055350724,
          679.3933423588838,
          651.7679778252206,
          654.5875386237088,
          649.2441891757984,
          658.0896470491715,
          683.6791107963487,
          698.6895032014112,
          695.4021033430519,
          693.467698777817,
          689.0079133453191,
          683.3533641598572,
          682.8769000722397,
          684.7181055733067,
          695.4990114698044,
          700.5688010358421,
          707.7596058073798,
          708.2462469817204,
          706.2018881313634,
          703.313841081903,
          708.4285558213967,
          702.3928543373455,
          703.9076952962538,
          697.9936962930724,
          698.8318876213414,
          699.4708572753013,
          691.1113730243295,
          693.20893483418,
          691.3630576288234,
          692.3805952595416,
          685.5031428053231,
          686.5774546492843,
          688.4202644680513,
          689.0673736759738,
          687.8557242592523,
          690.0162295514486,
          687.5187340200356,
          688.9812693448878,
          689.2328191529696,
          687.1578206982516
         ],
         "open": [
          796.489081876244,
          795.6385636553224,
          794.9015893541394,
          790.391084088594,
          781.0782943541893,
          782.3571461881336,
          782.3361995484915,
          782.6139955309819,
          774.4521791338359,
          773.139081876244,
          773.2427804512796,
          764.8004790863561,
          767.9376407446271,
          759.144937490031,
          756.1853038267975,
          747.6889103115196,
          745.7825006065126,
          745.4090818762439,
          742.5318317319328,
          725.1217857002046,
          730.8567507585132,
          725.5787353048283,
          711.509081876244,
          699.9825765012989,
          696.6026675035703,
          682.1927931332345,
          676.698043659802,
          680.3769681158052,
          691.4111855287183,
          698.317273484841,
          704.422919398341,
          704.0164750325604,
          701.1459730398653,
          688.6365210091955,
          682.2139476576722,
          658.2220548027796,
          656.0904579245425,
          662.7275714144318,
          684.309414241103,
          701.4753442355855,
          703.7676499173651,
          696.371101921077,
          698.2262978124386,
          692.9953071825054,
          686.1754075531521,
          688.3165099990092,
          695.7410099223603,
          701.7002821410515,
          713.7305728042755,
          710.4842066927573,
          712.8164797944759,
          710.1171726684337,
          710.5149226374655,
          708.7808362645108,
          705.377881915045,
          704.8915458277919,
          703.9305728042756,
          699.7791625547493,
          701.0625789951763,
          697.1615175266697,
          696.715687592507,
          696.3344876519242,
          694.8329773730457,
          692.4422461777068,
          694.3809945592229,
          690.4905728042755,
          691.4608380686872,
          692.0631125371199,
          692.3300078683096,
          691.4944011384429,
          692.9343029535744,
          693.8291877207197
         ],
         "type": "candlestick",
         "x": [
          "2020-01-08 09:00:00",
          "2020-01-08 09:05:00",
          "2020-01-08 09:10:00",
          "2020-01-08 09:15:00",
          "2020-01-08 09:20:00",
          "2020-01-08 09:25:00",
          "2020-01-08 09:30:00",
          "2020-01-08 09:35:00",
          "2020-01-08 09:40:00",
          "2020-01-08 09:45:00",
          "2020-01-08 09:50:00",
          "2020-01-08 09:55:00",
          "2020-01-08 10:00:00",
          "2020-01-08 10:05:00",
          "2020-01-08 10:10:00",
          "2020-01-08 10:15:00",
          "2020-01-08 10:20:00",
          "2020-01-08 10:25:00",
          "2020-01-08 10:30:00",
          "2020-01-08 10:35:00",
          "2020-01-08 10:40:00",
          "2020-01-08 10:45:00",
          "2020-01-08 10:50:00",
          "2020-01-08 10:55:00",
          "2020-01-08 11:00:00",
          "2020-01-08 11:05:00",
          "2020-01-08 11:10:00",
          "2020-01-08 11:15:00",
          "2020-01-08 11:20:00",
          "2020-01-08 11:25:00",
          "2020-01-08 11:30:00",
          "2020-01-08 11:35:00",
          "2020-01-08 11:40:00",
          "2020-01-08 11:45:00",
          "2020-01-08 11:50:00",
          "2020-01-08 11:55:00",
          "2020-01-08 12:00:00",
          "2020-01-08 12:05:00",
          "2020-01-08 12:10:00",
          "2020-01-08 12:15:00",
          "2020-01-08 12:20:00",
          "2020-01-08 12:25:00",
          "2020-01-08 12:30:00",
          "2020-01-08 12:35:00",
          "2020-01-08 12:40:00",
          "2020-01-08 12:45:00",
          "2020-01-08 12:50:00",
          "2020-01-08 12:55:00",
          "2020-01-08 13:00:00",
          "2020-01-08 13:05:00",
          "2020-01-08 13:10:00",
          "2020-01-08 13:15:00",
          "2020-01-08 13:20:00",
          "2020-01-08 13:25:00",
          "2020-01-08 13:30:00",
          "2020-01-08 13:35:00",
          "2020-01-08 13:40:00",
          "2020-01-08 13:45:00",
          "2020-01-08 13:50:00",
          "2020-01-08 13:55:00",
          "2020-01-08 14:00:00",
          "2020-01-08 14:05:00",
          "2020-01-08 14:10:00",
          "2020-01-08 14:15:00",
          "2020-01-08 14:20:00",
          "2020-01-08 14:25:00",
          "2020-01-08 14:30:00",
          "2020-01-08 14:35:00",
          "2020-01-08 14:40:00",
          "2020-01-08 14:45:00",
          "2020-01-08 14:50:00",
          "2020-01-08 14:55:00"
         ]
        }
       ],
       "layout": {
        "template": {
         "data": {
          "bar": [
           {
            "error_x": {
             "color": "#2a3f5f"
            },
            "error_y": {
             "color": "#2a3f5f"
            },
            "marker": {
             "line": {
              "color": "#E5ECF6",
              "width": 0.5
             },
             "pattern": {
              "fillmode": "overlay",
              "size": 10,
              "solidity": 0.2
             }
            },
            "type": "bar"
           }
          ],
          "barpolar": [
           {
            "marker": {
             "line": {
              "color": "#E5ECF6",
              "width": 0.5
             },
             "pattern": {
              "fillmode": "overlay",
              "size": 10,
              "solidity": 0.2
             }
            },
            "type": "barpolar"
           }
          ],
          "carpet": [
           {
            "aaxis": {
             "endlinecolor": "#2a3f5f",
             "gridcolor": "white",
             "linecolor": "white",
             "minorgridcolor": "white",
             "startlinecolor": "#2a3f5f"
            },
            "baxis": {
             "endlinecolor": "#2a3f5f",
             "gridcolor": "white",
             "linecolor": "white",
             "minorgridcolor": "white",
             "startlinecolor": "#2a3f5f"
            },
            "type": "carpet"
           }
          ],
          "choropleth": [
           {
            "colorbar": {
             "outlinewidth": 0,
             "ticks": ""
            },
            "type": "choropleth"
           }
          ],
          "contour": [
           {
            "colorbar": {
             "outlinewidth": 0,
             "ticks": ""
            },
            "colorscale": [
             [
              0,
              "#0d0887"
             ],
             [
              0.1111111111111111,
              "#46039f"
             ],
             [
              0.2222222222222222,
              "#7201a8"
             ],
             [
              0.3333333333333333,
              "#9c179e"
             ],
             [
              0.4444444444444444,
              "#bd3786"
             ],
             [
              0.5555555555555556,
              "#d8576b"
             ],
             [
              0.6666666666666666,
              "#ed7953"
             ],
             [
              0.7777777777777778,
              "#fb9f3a"
             ],
             [
              0.8888888888888888,
              "#fdca26"
             ],
             [
              1,
              "#f0f921"
             ]
            ],
            "type": "contour"
           }
          ],
          "contourcarpet": [
           {
            "colorbar": {
             "outlinewidth": 0,
             "ticks": ""
            },
            "type": "contourcarpet"
           }
          ],
          "heatmap": [
           {
            "colorbar": {
             "outlinewidth": 0,
             "ticks": ""
            },
            "colorscale": [
             [
              0,
              "#0d0887"
             ],
             [
              0.1111111111111111,
              "#46039f"
             ],
             [
              0.2222222222222222,
              "#7201a8"
             ],
             [
              0.3333333333333333,
              "#9c179e"
             ],
             [
              0.4444444444444444,
              "#bd3786"
             ],
             [
              0.5555555555555556,
              "#d8576b"
             ],
             [
              0.6666666666666666,
              "#ed7953"
             ],
             [
              0.7777777777777778,
              "#fb9f3a"
             ],
             [
              0.8888888888888888,
              "#fdca26"
             ],
             [
              1,
              "#f0f921"
             ]
            ],
            "type": "heatmap"
           }
          ],
          "heatmapgl": [
           {
            "colorbar": {
             "outlinewidth": 0,
             "ticks": ""
            },
            "colorscale": [
             [
              0,
              "#0d0887"
             ],
             [
              0.1111111111111111,
              "#46039f"
             ],
             [
              0.2222222222222222,
              "#7201a8"
             ],
             [
              0.3333333333333333,
              "#9c179e"
             ],
             [
              0.4444444444444444,
              "#bd3786"
             ],
             [
              0.5555555555555556,
              "#d8576b"
             ],
             [
              0.6666666666666666,
              "#ed7953"
             ],
             [
              0.7777777777777778,
              "#fb9f3a"
             ],
             [
              0.8888888888888888,
              "#fdca26"
             ],
             [
              1,
              "#f0f921"
             ]
            ],
            "type": "heatmapgl"
           }
          ],
          "histogram": [
           {
            "marker": {
             "pattern": {
              "fillmode": "overlay",
              "size": 10,
              "solidity": 0.2
             }
            },
            "type": "histogram"
           }
          ],
          "histogram2d": [
           {
            "colorbar": {
             "outlinewidth": 0,
             "ticks": ""
            },
            "colorscale": [
             [
              0,
              "#0d0887"
             ],
             [
              0.1111111111111111,
              "#46039f"
             ],
             [
              0.2222222222222222,
              "#7201a8"
             ],
             [
              0.3333333333333333,
              "#9c179e"
             ],
             [
              0.4444444444444444,
              "#bd3786"
             ],
             [
              0.5555555555555556,
              "#d8576b"
             ],
             [
              0.6666666666666666,
              "#ed7953"
             ],
             [
              0.7777777777777778,
              "#fb9f3a"
             ],
             [
              0.8888888888888888,
              "#fdca26"
             ],
             [
              1,
              "#f0f921"
             ]
            ],
            "type": "histogram2d"
           }
          ],
          "histogram2dcontour": [
           {
            "colorbar": {
             "outlinewidth": 0,
             "ticks": ""
            },
            "colorscale": [
             [
              0,
              "#0d0887"
             ],
             [
              0.1111111111111111,
              "#46039f"
             ],
             [
              0.2222222222222222,
              "#7201a8"
             ],
             [
              0.3333333333333333,
              "#9c179e"
             ],
             [
              0.4444444444444444,
              "#bd3786"
             ],
             [
              0.5555555555555556,
              "#d8576b"
             ],
             [
              0.6666666666666666,
              "#ed7953"
             ],
             [
              0.7777777777777778,
              "#fb9f3a"
             ],
             [
              0.8888888888888888,
              "#fdca26"
             ],
             [
              1,
              "#f0f921"
             ]
            ],
            "type": "histogram2dcontour"
           }
          ],
          "mesh3d": [
           {
            "colorbar": {
             "outlinewidth": 0,
             "ticks": ""
            },
            "type": "mesh3d"
           }
          ],
          "parcoords": [
           {
            "line": {
             "colorbar": {
              "outlinewidth": 0,
              "ticks": ""
             }
            },
            "type": "parcoords"
           }
          ],
          "pie": [
           {
            "automargin": true,
            "type": "pie"
           }
          ],
          "scatter": [
           {
            "fillpattern": {
             "fillmode": "overlay",
             "size": 10,
             "solidity": 0.2
            },
            "type": "scatter"
           }
          ],
          "scatter3d": [
           {
            "line": {
             "colorbar": {
              "outlinewidth": 0,
              "ticks": ""
             }
            },
            "marker": {
             "colorbar": {
              "outlinewidth": 0,
              "ticks": ""
             }
            },
            "type": "scatter3d"
           }
          ],
          "scattercarpet": [
           {
            "marker": {
             "colorbar": {
              "outlinewidth": 0,
              "ticks": ""
             }
            },
            "type": "scattercarpet"
           }
          ],
          "scattergeo": [
           {
            "marker": {
             "colorbar": {
              "outlinewidth": 0,
              "ticks": ""
             }
            },
            "type": "scattergeo"
           }
          ],
          "scattergl": [
           {
            "marker": {
             "colorbar": {
              "outlinewidth": 0,
              "ticks": ""
             }
            },
            "type": "scattergl"
           }
          ],
          "scattermapbox": [
           {
            "marker": {
             "colorbar": {
              "outlinewidth": 0,
              "ticks": ""
             }
            },
            "type": "scattermapbox"
           }
          ],
          "scatterpolar": [
           {
            "marker": {
             "colorbar": {
              "outlinewidth": 0,
              "ticks": ""
             }
            },
            "type": "scatterpolar"
           }
          ],
          "scatterpolargl": [
           {
            "marker": {
             "colorbar": {
              "outlinewidth": 0,
              "ticks": ""
             }
            },
            "type": "scatterpolargl"
           }
          ],
          "scatterternary": [
           {
            "marker": {
             "colorbar": {
              "outlinewidth": 0,
              "ticks": ""
             }
            },
            "type": "scatterternary"
           }
          ],
          "surface": [
           {
            "colorbar": {
             "outlinewidth": 0,
             "ticks": ""
            },
            "colorscale": [
             [
              0,
              "#0d0887"
             ],
             [
              0.1111111111111111,
              "#46039f"
             ],
             [
              0.2222222222222222,
              "#7201a8"
             ],
             [
              0.3333333333333333,
              "#9c179e"
             ],
             [
              0.4444444444444444,
              "#bd3786"
             ],
             [
              0.5555555555555556,
              "#d8576b"
             ],
             [
              0.6666666666666666,
              "#ed7953"
             ],
             [
              0.7777777777777778,
              "#fb9f3a"
             ],
             [
              0.8888888888888888,
              "#fdca26"
             ],
             [
              1,
              "#f0f921"
             ]
            ],
            "type": "surface"
           }
          ],
          "table": [
           {
            "cells": {
             "fill": {
              "color": "#EBF0F8"
             },
             "line": {
              "color": "white"
             }
            },
            "header": {
             "fill": {
              "color": "#C8D4E3"
             },
             "line": {
              "color": "white"
             }
            },
            "type": "table"
           }
          ]
         },
         "layout": {
          "annotationdefaults": {
           "arrowcolor": "#2a3f5f",
           "arrowhead": 0,
           "arrowwidth": 1
          },
          "autotypenumbers": "strict",
          "coloraxis": {
           "colorbar": {
            "outlinewidth": 0,
            "ticks": ""
           }
          },
          "colorscale": {
           "diverging": [
            [
             0,
             "#8e0152"
            ],
            [
             0.1,
             "#c51b7d"
            ],
            [
             0.2,
             "#de77ae"
            ],
            [
             0.3,
             "#f1b6da"
            ],
            [
             0.4,
             "#fde0ef"
            ],
            [
             0.5,
             "#f7f7f7"
            ],
            [
             0.6,
             "#e6f5d0"
            ],
            [
             0.7,
             "#b8e186"
            ],
            [
             0.8,
             "#7fbc41"
            ],
            [
             0.9,
             "#4d9221"
            ],
            [
             1,
             "#276419"
            ]
           ],
           "sequential": [
            [
             0,
             "#0d0887"
            ],
            [
             0.1111111111111111,
             "#46039f"
            ],
            [
             0.2222222222222222,
             "#7201a8"
            ],
            [
             0.3333333333333333,
             "#9c179e"
            ],
            [
             0.4444444444444444,
             "#bd3786"
            ],
            [
             0.5555555555555556,
             "#d8576b"
            ],
            [
             0.6666666666666666,
             "#ed7953"
            ],
            [
             0.7777777777777778,
             "#fb9f3a"
            ],
            [
             0.8888888888888888,
             "#fdca26"
            ],
            [
             1,
             "#f0f921"
            ]
           ],
           "sequentialminus": [
            [
             0,
             "#0d0887"
            ],
            [
             0.1111111111111111,
             "#46039f"
            ],
            [
             0.2222222222222222,
             "#7201a8"
            ],
            [
             0.3333333333333333,
             "#9c179e"
            ],
            [
             0.4444444444444444,
             "#bd3786"
            ],
            [
             0.5555555555555556,
             "#d8576b"
            ],
            [
             0.6666666666666666,
             "#ed7953"
            ],
            [
             0.7777777777777778,
             "#fb9f3a"
            ],
            [
             0.8888888888888888,
             "#fdca26"
            ],
            [
             1,
             "#f0f921"
            ]
           ]
          },
          "colorway": [
           "#636efa",
           "#EF553B",
           "#00cc96",
           "#ab63fa",
           "#FFA15A",
           "#19d3f3",
           "#FF6692",
           "#B6E880",
           "#FF97FF",
           "#FECB52"
          ],
          "font": {
           "color": "#2a3f5f"
          },
          "geo": {
           "bgcolor": "white",
           "lakecolor": "white",
           "landcolor": "#E5ECF6",
           "showlakes": true,
           "showland": true,
           "subunitcolor": "white"
          },
          "hoverlabel": {
           "align": "left"
          },
          "hovermode": "closest",
          "mapbox": {
           "style": "light"
          },
          "paper_bgcolor": "white",
          "plot_bgcolor": "#E5ECF6",
          "polar": {
           "angularaxis": {
            "gridcolor": "white",
            "linecolor": "white",
            "ticks": ""
           },
           "bgcolor": "#E5ECF6",
           "radialaxis": {
            "gridcolor": "white",
            "linecolor": "white",
            "ticks": ""
           }
          },
          "scene": {
           "xaxis": {
            "backgroundcolor": "#E5ECF6",
            "gridcolor": "white",
            "gridwidth": 2,
            "linecolor": "white",
            "showbackground": true,
            "ticks": "",
            "zerolinecolor": "white"
           },
           "yaxis": {
            "backgroundcolor": "#E5ECF6",
            "gridcolor": "white",
            "gridwidth": 2,
            "linecolor": "white",
            "showbackground": true,
            "ticks": "",
            "zerolinecolor": "white"
           },
           "zaxis": {
            "backgroundcolor": "#E5ECF6",
            "gridcolor": "white",
            "gridwidth": 2,
            "linecolor": "white",
            "showbackground": true,
            "ticks": "",
            "zerolinecolor": "white"
           }
          },
          "shapedefaults": {
           "line": {
            "color": "#2a3f5f"
           }
          },
          "ternary": {
           "aaxis": {
            "gridcolor": "white",
            "linecolor": "white",
            "ticks": ""
           },
           "baxis": {
            "gridcolor": "white",
            "linecolor": "white",
            "ticks": ""
           },
           "bgcolor": "#E5ECF6",
           "caxis": {
            "gridcolor": "white",
            "linecolor": "white",
            "ticks": ""
           }
          },
          "title": {
           "x": 0.05
          },
          "xaxis": {
           "automargin": true,
           "gridcolor": "white",
           "linecolor": "white",
           "ticks": "",
           "title": {
            "standoff": 15
           },
           "zerolinecolor": "white",
           "zerolinewidth": 2
          },
          "yaxis": {
           "automargin": true,
           "gridcolor": "white",
           "linecolor": "white",
           "ticks": "",
           "title": {
            "standoff": 15
           },
           "zerolinecolor": "white",
           "zerolinewidth": 2
          }
         }
        },
        "title": {
         "text": "Reverse Head and Shoulder"
        },
        "xaxis": {
         "rangeslider": {
          "visible": false
         }
        }
       }
      }
     },
     "metadata": {},
     "output_type": "display_data"
    }
   ],
   "source": [
    "dfb = df1.iloc[288:288+72]\n",
    "draw_candlesticks(dfb,'Reverse Head and Shoulder',xaxis_rangeslider_visible=False)"
   ]
  },
  {
   "cell_type": "code",
   "execution_count": 65,
   "metadata": {},
   "outputs": [
    {
     "data": {
      "text/plain": [
       "359    2020-01-08 14:55:00\n",
       "360    2020-01-09 09:00:00\n",
       "Name: date, dtype: object"
      ]
     },
     "execution_count": 65,
     "metadata": {},
     "output_type": "execute_result"
    }
   ],
   "source": [
    "df1['date'].iloc[359:361]"
   ]
  },
  {
   "cell_type": "code",
   "execution_count": 66,
   "metadata": {},
   "outputs": [
    {
     "data": {
      "application/vnd.plotly.v1+json": {
       "config": {
        "plotlyServerURL": "https://plot.ly"
       },
       "data": [
        {
         "close": [
          694.600345303419,
          698.7350231318699,
          701.3870153777989,
          704.1062217170916,
          705.1992577051086,
          708.7574854356358,
          711.6855395679243,
          711.6143825894245,
          714.7613030145523,
          716.8721234531544,
          717.5381206594313,
          717.1551731078125,
          719.0274854356358,
          718.8295478038581,
          720.4453477920152,
          722.6817483689056,
          723.2050461619643,
          724.0538712404821,
          724.6783271068549,
          725.8674854356358,
          730.4258133134413,
          745.1127863273309,
          748.9257695330542,
          741.2663955920854,
          739.9702232544549,
          737.4647791793897,
          737.4028900751492,
          732.8171551160261,
          738.3459543868898,
          765.0669648342682,
          770.159471438771,
          760.5681712301855,
          755.7513531725828,
          741.0991252297083,
          733.4774096893968,
          735.1259911655263,
          742.7815691270532,
          745.5931484910085,
          751.9169626329576,
          752.3910319084906,
          746.2121786151822,
          740.9282961580775,
          731.8735228722363,
          720.8776727842229,
          720.1578263588989,
          720.1691291114065,
          720.2016471432775,
          720.2402301876044,
          720.27732579995,
          720.2934392755525,
          720.3378263588988,
          718.2093732753528,
          712.4127797514382,
          712.6023628127211,
          705.4202192401337,
          708.9137826603921,
          702.4378263588989,
          702.4408579989374,
          702.4829867165677,
          702.4975463423481,
          702.4910320363568,
          702.5759722603204,
          702.5569119090012,
          702.5878263588988,
          701.6984172711035,
          701.0202308667218,
          699.3558005071621,
          696.3700934744944,
          696.4867238786564,
          694.6124202439152,
          694.7278263588988,
          694.5424779671399
         ],
         "high": [
          695.5260160512591,
          700.648904995521,
          703.276862088186,
          706.6829347103047,
          710.6169169786187,
          710.7839555082146,
          713.084350789032,
          716.1880957363124,
          716.7551639580944,
          717.2289925462065,
          722.0494132107871,
          720.3440596183517,
          722.2530979626156,
          720.7303025561835,
          722.9716862578697,
          725.3433625232632,
          726.8987923326661,
          728.3397070580914,
          728.1691107838654,
          727.0368322523791,
          734.9633239972051,
          750.2526247082851,
          751.8010052928894,
          751.6112908421024,
          746.8161882831339,
          742.778513169194,
          742.699653369124,
          739.9518545652005,
          738.9318365159994,
          767.693184978497,
          774.6418669463492,
          769.6533979480421,
          763.4463690427432,
          757.3920057439344,
          745.0105027552363,
          738.9517821681322,
          743.5763298624529,
          746.2798456392766,
          753.6256580783233,
          752.7997674213145,
          750.2673203798956,
          748.0857685923075,
          746.6921710196578,
          736.2075521340864,
          722.9324734211535,
          720.967677210851,
          723.0058973359297,
          720.5839793955396,
          724.6620626772112,
          722.119347088762,
          720.6490779368986,
          722.007163347695,
          719.6282286428855,
          717.1015031413523,
          715.8259767316555,
          711.0606799016999,
          710.5382013861678,
          704.5760244481006,
          703.0166614908018,
          703.3621804307445,
          707.9156842007545,
          707.8050359591496,
          708.1422798414075,
          703.4274512501543,
          706.1444974470069,
          703.350043086006,
          702.918769038252,
          702.704333461886,
          698.4112245093407,
          697.7417484281784,
          696.0074031729072,
          696.4343440191236
         ],
         "low": [
          692.7718146877957,
          692.6864634397679,
          696.8451764214827,
          698.8103023845857,
          698.6885624435814,
          703.1727876325298,
          707.358674214528,
          707.1118264210363,
          709.6205216458824,
          714.4044339215001,
          712.3608309017986,
          714.3492341488922,
          713.9295605808327,
          717.1267306833104,
          716.3032093380036,
          717.7837336376576,
          718.9880021982038,
          718.919210344355,
          720.5630875634715,
          723.5089802901116,
          721.329974751872,
          725.2859749324871,
          742.2375505674958,
          736.0118346016733,
          734.4204305634064,
          734.6564892646506,
          732.1680158854149,
          730.2681906259749,
          733.1123964796501,
          735.719734242661,
          760.58456932669,
          759.684555436199,
          752.8731553600251,
          739.4584726583566,
          729.5660321638688,
          730.2816963339458,
          734.3312304301267,
          742.0948719787851,
          743.8844530456428,
          751.5082271201337,
          746.0985243488963,
          739.0547061809522,
          726.109648010656,
          716.5436435223728,
          718.1030257219683,
          719.3592782594544,
          717.3648789187542,
          719.8578979353423,
          715.8554933103431,
          718.4514179867405,
          719.9821876975527,
          716.5400362865566,
          710.9939243839056,
          707.913639422807,
          702.1966053211994,
          703.273321998826,
          700.8134076331232,
          700.3026599097357,
          701.9071832247033,
          701.6183526281712,
          697.0728941779504,
          697.2619683375277,
          696.9906043279142,
          701.7172870177458,
          698.1417461829955,
          699.3686050518193,
          697.457262335632,
          693.0215605197706,
          694.4455928438101,
          693.3573956943932,
          693.3328434299068,
          692.8359603069151
         ],
         "open": [
          693.6974854356358,
          694.600345303419,
          698.7350231318699,
          701.3870153777989,
          704.1062217170916,
          705.1992577051086,
          708.7574854356358,
          711.6855395679243,
          711.6143825894245,
          714.7613030145523,
          716.8721234531544,
          717.5381206594313,
          717.1551731078125,
          719.0274854356358,
          718.8295478038581,
          720.4453477920152,
          722.6817483689056,
          723.2050461619643,
          724.0538712404821,
          724.6783271068549,
          725.8674854356358,
          730.4258133134413,
          745.1127863273309,
          746.3567298516904,
          741.2663955920854,
          739.9702232544549,
          737.4647791793897,
          737.4028900751492,
          733.6982786087597,
          738.3459543868898,
          765.0669648342682,
          768.7697821540556,
          760.5681712301855,
          755.7513531725828,
          741.0991252297083,
          734.1074873365517,
          735.1259911655263,
          742.7815691270532,
          745.5931484910085,
          751.9169626329576,
          750.1536661136097,
          746.2121786151822,
          740.9282961580775,
          731.8735228722363,
          720.8776727842229,
          720.1578263588989,
          720.1691291114065,
          720.2016471432775,
          720.2402301876044,
          720.27732579995,
          720.2934392755525,
          720.3378263588988,
          718.2093732753528,
          712.4127797514382,
          712.6023628127211,
          705.4202192401337,
          708.9137826603921,
          702.4378263588989,
          702.4408579989374,
          702.4829867165677,
          702.4975463423481,
          702.4910320363568,
          702.5759722603204,
          702.5569119090012,
          702.5878263588988,
          701.6984172711035,
          701.0202308667218,
          699.3558005071621,
          696.3700934744944,
          696.4867238786564,
          694.6124202439152,
          694.7278263588988
         ],
         "type": "candlestick",
         "x": [
          "2020-01-09 09:00:00",
          "2020-01-09 09:05:00",
          "2020-01-09 09:10:00",
          "2020-01-09 09:15:00",
          "2020-01-09 09:20:00",
          "2020-01-09 09:25:00",
          "2020-01-09 09:30:00",
          "2020-01-09 09:35:00",
          "2020-01-09 09:40:00",
          "2020-01-09 09:45:00",
          "2020-01-09 09:50:00",
          "2020-01-09 09:55:00",
          "2020-01-09 10:00:00",
          "2020-01-09 10:05:00",
          "2020-01-09 10:10:00",
          "2020-01-09 10:15:00",
          "2020-01-09 10:20:00",
          "2020-01-09 10:25:00",
          "2020-01-09 10:30:00",
          "2020-01-09 10:35:00",
          "2020-01-09 10:40:00",
          "2020-01-09 10:45:00",
          "2020-01-09 10:50:00",
          "2020-01-09 10:55:00",
          "2020-01-09 11:00:00",
          "2020-01-09 11:05:00",
          "2020-01-09 11:10:00",
          "2020-01-09 11:15:00",
          "2020-01-09 11:20:00",
          "2020-01-09 11:25:00",
          "2020-01-09 11:30:00",
          "2020-01-09 11:35:00",
          "2020-01-09 11:40:00",
          "2020-01-09 11:45:00",
          "2020-01-09 11:50:00",
          "2020-01-09 11:55:00",
          "2020-01-09 12:00:00",
          "2020-01-09 12:05:00",
          "2020-01-09 12:10:00",
          "2020-01-09 12:15:00",
          "2020-01-09 12:20:00",
          "2020-01-09 12:25:00",
          "2020-01-09 12:30:00",
          "2020-01-09 12:35:00",
          "2020-01-09 12:40:00",
          "2020-01-09 12:45:00",
          "2020-01-09 12:50:00",
          "2020-01-09 12:55:00",
          "2020-01-09 13:00:00",
          "2020-01-09 13:05:00",
          "2020-01-09 13:10:00",
          "2020-01-09 13:15:00",
          "2020-01-09 13:20:00",
          "2020-01-09 13:25:00",
          "2020-01-09 13:30:00",
          "2020-01-09 13:35:00",
          "2020-01-09 13:40:00",
          "2020-01-09 13:45:00",
          "2020-01-09 13:50:00",
          "2020-01-09 13:55:00",
          "2020-01-09 14:00:00",
          "2020-01-09 14:05:00",
          "2020-01-09 14:10:00",
          "2020-01-09 14:15:00",
          "2020-01-09 14:20:00",
          "2020-01-09 14:25:00",
          "2020-01-09 14:30:00",
          "2020-01-09 14:35:00",
          "2020-01-09 14:40:00",
          "2020-01-09 14:45:00",
          "2020-01-09 14:50:00",
          "2020-01-09 14:55:00"
         ]
        }
       ],
       "layout": {
        "template": {
         "data": {
          "bar": [
           {
            "error_x": {
             "color": "#2a3f5f"
            },
            "error_y": {
             "color": "#2a3f5f"
            },
            "marker": {
             "line": {
              "color": "#E5ECF6",
              "width": 0.5
             },
             "pattern": {
              "fillmode": "overlay",
              "size": 10,
              "solidity": 0.2
             }
            },
            "type": "bar"
           }
          ],
          "barpolar": [
           {
            "marker": {
             "line": {
              "color": "#E5ECF6",
              "width": 0.5
             },
             "pattern": {
              "fillmode": "overlay",
              "size": 10,
              "solidity": 0.2
             }
            },
            "type": "barpolar"
           }
          ],
          "carpet": [
           {
            "aaxis": {
             "endlinecolor": "#2a3f5f",
             "gridcolor": "white",
             "linecolor": "white",
             "minorgridcolor": "white",
             "startlinecolor": "#2a3f5f"
            },
            "baxis": {
             "endlinecolor": "#2a3f5f",
             "gridcolor": "white",
             "linecolor": "white",
             "minorgridcolor": "white",
             "startlinecolor": "#2a3f5f"
            },
            "type": "carpet"
           }
          ],
          "choropleth": [
           {
            "colorbar": {
             "outlinewidth": 0,
             "ticks": ""
            },
            "type": "choropleth"
           }
          ],
          "contour": [
           {
            "colorbar": {
             "outlinewidth": 0,
             "ticks": ""
            },
            "colorscale": [
             [
              0,
              "#0d0887"
             ],
             [
              0.1111111111111111,
              "#46039f"
             ],
             [
              0.2222222222222222,
              "#7201a8"
             ],
             [
              0.3333333333333333,
              "#9c179e"
             ],
             [
              0.4444444444444444,
              "#bd3786"
             ],
             [
              0.5555555555555556,
              "#d8576b"
             ],
             [
              0.6666666666666666,
              "#ed7953"
             ],
             [
              0.7777777777777778,
              "#fb9f3a"
             ],
             [
              0.8888888888888888,
              "#fdca26"
             ],
             [
              1,
              "#f0f921"
             ]
            ],
            "type": "contour"
           }
          ],
          "contourcarpet": [
           {
            "colorbar": {
             "outlinewidth": 0,
             "ticks": ""
            },
            "type": "contourcarpet"
           }
          ],
          "heatmap": [
           {
            "colorbar": {
             "outlinewidth": 0,
             "ticks": ""
            },
            "colorscale": [
             [
              0,
              "#0d0887"
             ],
             [
              0.1111111111111111,
              "#46039f"
             ],
             [
              0.2222222222222222,
              "#7201a8"
             ],
             [
              0.3333333333333333,
              "#9c179e"
             ],
             [
              0.4444444444444444,
              "#bd3786"
             ],
             [
              0.5555555555555556,
              "#d8576b"
             ],
             [
              0.6666666666666666,
              "#ed7953"
             ],
             [
              0.7777777777777778,
              "#fb9f3a"
             ],
             [
              0.8888888888888888,
              "#fdca26"
             ],
             [
              1,
              "#f0f921"
             ]
            ],
            "type": "heatmap"
           }
          ],
          "heatmapgl": [
           {
            "colorbar": {
             "outlinewidth": 0,
             "ticks": ""
            },
            "colorscale": [
             [
              0,
              "#0d0887"
             ],
             [
              0.1111111111111111,
              "#46039f"
             ],
             [
              0.2222222222222222,
              "#7201a8"
             ],
             [
              0.3333333333333333,
              "#9c179e"
             ],
             [
              0.4444444444444444,
              "#bd3786"
             ],
             [
              0.5555555555555556,
              "#d8576b"
             ],
             [
              0.6666666666666666,
              "#ed7953"
             ],
             [
              0.7777777777777778,
              "#fb9f3a"
             ],
             [
              0.8888888888888888,
              "#fdca26"
             ],
             [
              1,
              "#f0f921"
             ]
            ],
            "type": "heatmapgl"
           }
          ],
          "histogram": [
           {
            "marker": {
             "pattern": {
              "fillmode": "overlay",
              "size": 10,
              "solidity": 0.2
             }
            },
            "type": "histogram"
           }
          ],
          "histogram2d": [
           {
            "colorbar": {
             "outlinewidth": 0,
             "ticks": ""
            },
            "colorscale": [
             [
              0,
              "#0d0887"
             ],
             [
              0.1111111111111111,
              "#46039f"
             ],
             [
              0.2222222222222222,
              "#7201a8"
             ],
             [
              0.3333333333333333,
              "#9c179e"
             ],
             [
              0.4444444444444444,
              "#bd3786"
             ],
             [
              0.5555555555555556,
              "#d8576b"
             ],
             [
              0.6666666666666666,
              "#ed7953"
             ],
             [
              0.7777777777777778,
              "#fb9f3a"
             ],
             [
              0.8888888888888888,
              "#fdca26"
             ],
             [
              1,
              "#f0f921"
             ]
            ],
            "type": "histogram2d"
           }
          ],
          "histogram2dcontour": [
           {
            "colorbar": {
             "outlinewidth": 0,
             "ticks": ""
            },
            "colorscale": [
             [
              0,
              "#0d0887"
             ],
             [
              0.1111111111111111,
              "#46039f"
             ],
             [
              0.2222222222222222,
              "#7201a8"
             ],
             [
              0.3333333333333333,
              "#9c179e"
             ],
             [
              0.4444444444444444,
              "#bd3786"
             ],
             [
              0.5555555555555556,
              "#d8576b"
             ],
             [
              0.6666666666666666,
              "#ed7953"
             ],
             [
              0.7777777777777778,
              "#fb9f3a"
             ],
             [
              0.8888888888888888,
              "#fdca26"
             ],
             [
              1,
              "#f0f921"
             ]
            ],
            "type": "histogram2dcontour"
           }
          ],
          "mesh3d": [
           {
            "colorbar": {
             "outlinewidth": 0,
             "ticks": ""
            },
            "type": "mesh3d"
           }
          ],
          "parcoords": [
           {
            "line": {
             "colorbar": {
              "outlinewidth": 0,
              "ticks": ""
             }
            },
            "type": "parcoords"
           }
          ],
          "pie": [
           {
            "automargin": true,
            "type": "pie"
           }
          ],
          "scatter": [
           {
            "fillpattern": {
             "fillmode": "overlay",
             "size": 10,
             "solidity": 0.2
            },
            "type": "scatter"
           }
          ],
          "scatter3d": [
           {
            "line": {
             "colorbar": {
              "outlinewidth": 0,
              "ticks": ""
             }
            },
            "marker": {
             "colorbar": {
              "outlinewidth": 0,
              "ticks": ""
             }
            },
            "type": "scatter3d"
           }
          ],
          "scattercarpet": [
           {
            "marker": {
             "colorbar": {
              "outlinewidth": 0,
              "ticks": ""
             }
            },
            "type": "scattercarpet"
           }
          ],
          "scattergeo": [
           {
            "marker": {
             "colorbar": {
              "outlinewidth": 0,
              "ticks": ""
             }
            },
            "type": "scattergeo"
           }
          ],
          "scattergl": [
           {
            "marker": {
             "colorbar": {
              "outlinewidth": 0,
              "ticks": ""
             }
            },
            "type": "scattergl"
           }
          ],
          "scattermapbox": [
           {
            "marker": {
             "colorbar": {
              "outlinewidth": 0,
              "ticks": ""
             }
            },
            "type": "scattermapbox"
           }
          ],
          "scatterpolar": [
           {
            "marker": {
             "colorbar": {
              "outlinewidth": 0,
              "ticks": ""
             }
            },
            "type": "scatterpolar"
           }
          ],
          "scatterpolargl": [
           {
            "marker": {
             "colorbar": {
              "outlinewidth": 0,
              "ticks": ""
             }
            },
            "type": "scatterpolargl"
           }
          ],
          "scatterternary": [
           {
            "marker": {
             "colorbar": {
              "outlinewidth": 0,
              "ticks": ""
             }
            },
            "type": "scatterternary"
           }
          ],
          "surface": [
           {
            "colorbar": {
             "outlinewidth": 0,
             "ticks": ""
            },
            "colorscale": [
             [
              0,
              "#0d0887"
             ],
             [
              0.1111111111111111,
              "#46039f"
             ],
             [
              0.2222222222222222,
              "#7201a8"
             ],
             [
              0.3333333333333333,
              "#9c179e"
             ],
             [
              0.4444444444444444,
              "#bd3786"
             ],
             [
              0.5555555555555556,
              "#d8576b"
             ],
             [
              0.6666666666666666,
              "#ed7953"
             ],
             [
              0.7777777777777778,
              "#fb9f3a"
             ],
             [
              0.8888888888888888,
              "#fdca26"
             ],
             [
              1,
              "#f0f921"
             ]
            ],
            "type": "surface"
           }
          ],
          "table": [
           {
            "cells": {
             "fill": {
              "color": "#EBF0F8"
             },
             "line": {
              "color": "white"
             }
            },
            "header": {
             "fill": {
              "color": "#C8D4E3"
             },
             "line": {
              "color": "white"
             }
            },
            "type": "table"
           }
          ]
         },
         "layout": {
          "annotationdefaults": {
           "arrowcolor": "#2a3f5f",
           "arrowhead": 0,
           "arrowwidth": 1
          },
          "autotypenumbers": "strict",
          "coloraxis": {
           "colorbar": {
            "outlinewidth": 0,
            "ticks": ""
           }
          },
          "colorscale": {
           "diverging": [
            [
             0,
             "#8e0152"
            ],
            [
             0.1,
             "#c51b7d"
            ],
            [
             0.2,
             "#de77ae"
            ],
            [
             0.3,
             "#f1b6da"
            ],
            [
             0.4,
             "#fde0ef"
            ],
            [
             0.5,
             "#f7f7f7"
            ],
            [
             0.6,
             "#e6f5d0"
            ],
            [
             0.7,
             "#b8e186"
            ],
            [
             0.8,
             "#7fbc41"
            ],
            [
             0.9,
             "#4d9221"
            ],
            [
             1,
             "#276419"
            ]
           ],
           "sequential": [
            [
             0,
             "#0d0887"
            ],
            [
             0.1111111111111111,
             "#46039f"
            ],
            [
             0.2222222222222222,
             "#7201a8"
            ],
            [
             0.3333333333333333,
             "#9c179e"
            ],
            [
             0.4444444444444444,
             "#bd3786"
            ],
            [
             0.5555555555555556,
             "#d8576b"
            ],
            [
             0.6666666666666666,
             "#ed7953"
            ],
            [
             0.7777777777777778,
             "#fb9f3a"
            ],
            [
             0.8888888888888888,
             "#fdca26"
            ],
            [
             1,
             "#f0f921"
            ]
           ],
           "sequentialminus": [
            [
             0,
             "#0d0887"
            ],
            [
             0.1111111111111111,
             "#46039f"
            ],
            [
             0.2222222222222222,
             "#7201a8"
            ],
            [
             0.3333333333333333,
             "#9c179e"
            ],
            [
             0.4444444444444444,
             "#bd3786"
            ],
            [
             0.5555555555555556,
             "#d8576b"
            ],
            [
             0.6666666666666666,
             "#ed7953"
            ],
            [
             0.7777777777777778,
             "#fb9f3a"
            ],
            [
             0.8888888888888888,
             "#fdca26"
            ],
            [
             1,
             "#f0f921"
            ]
           ]
          },
          "colorway": [
           "#636efa",
           "#EF553B",
           "#00cc96",
           "#ab63fa",
           "#FFA15A",
           "#19d3f3",
           "#FF6692",
           "#B6E880",
           "#FF97FF",
           "#FECB52"
          ],
          "font": {
           "color": "#2a3f5f"
          },
          "geo": {
           "bgcolor": "white",
           "lakecolor": "white",
           "landcolor": "#E5ECF6",
           "showlakes": true,
           "showland": true,
           "subunitcolor": "white"
          },
          "hoverlabel": {
           "align": "left"
          },
          "hovermode": "closest",
          "mapbox": {
           "style": "light"
          },
          "paper_bgcolor": "white",
          "plot_bgcolor": "#E5ECF6",
          "polar": {
           "angularaxis": {
            "gridcolor": "white",
            "linecolor": "white",
            "ticks": ""
           },
           "bgcolor": "#E5ECF6",
           "radialaxis": {
            "gridcolor": "white",
            "linecolor": "white",
            "ticks": ""
           }
          },
          "scene": {
           "xaxis": {
            "backgroundcolor": "#E5ECF6",
            "gridcolor": "white",
            "gridwidth": 2,
            "linecolor": "white",
            "showbackground": true,
            "ticks": "",
            "zerolinecolor": "white"
           },
           "yaxis": {
            "backgroundcolor": "#E5ECF6",
            "gridcolor": "white",
            "gridwidth": 2,
            "linecolor": "white",
            "showbackground": true,
            "ticks": "",
            "zerolinecolor": "white"
           },
           "zaxis": {
            "backgroundcolor": "#E5ECF6",
            "gridcolor": "white",
            "gridwidth": 2,
            "linecolor": "white",
            "showbackground": true,
            "ticks": "",
            "zerolinecolor": "white"
           }
          },
          "shapedefaults": {
           "line": {
            "color": "#2a3f5f"
           }
          },
          "ternary": {
           "aaxis": {
            "gridcolor": "white",
            "linecolor": "white",
            "ticks": ""
           },
           "baxis": {
            "gridcolor": "white",
            "linecolor": "white",
            "ticks": ""
           },
           "bgcolor": "#E5ECF6",
           "caxis": {
            "gridcolor": "white",
            "linecolor": "white",
            "ticks": ""
           }
          },
          "title": {
           "x": 0.05
          },
          "xaxis": {
           "automargin": true,
           "gridcolor": "white",
           "linecolor": "white",
           "ticks": "",
           "title": {
            "standoff": 15
           },
           "zerolinecolor": "white",
           "zerolinewidth": 2
          },
          "yaxis": {
           "automargin": true,
           "gridcolor": "white",
           "linecolor": "white",
           "ticks": "",
           "title": {
            "standoff": 15
           },
           "zerolinecolor": "white",
           "zerolinewidth": 2
          }
         }
        },
        "title": {
         "text": "Head and Shoulder"
        },
        "xaxis": {
         "rangeslider": {
          "visible": false
         }
        }
       }
      }
     },
     "metadata": {},
     "output_type": "display_data"
    }
   ],
   "source": [
    "dfc = df1.iloc[360:360+72]\n",
    "draw_candlesticks(dfc,'Head and Shoulder',xaxis_rangeslider_visible=False)"
   ]
  },
  {
   "cell_type": "code",
   "execution_count": 67,
   "metadata": {},
   "outputs": [
    {
     "data": {
      "text/plain": [
       "1079    2020-01-22 14:55:00\n",
       "1080    2020-01-23 09:00:00\n",
       "Name: date, dtype: object"
      ]
     },
     "execution_count": 67,
     "metadata": {},
     "output_type": "execute_result"
    }
   ],
   "source": [
    "df1['date'].iloc[1079:1081]"
   ]
  },
  {
   "cell_type": "code",
   "execution_count": 68,
   "metadata": {},
   "outputs": [
    {
     "data": {
      "application/vnd.plotly.v1+json": {
       "config": {
        "plotlyServerURL": "https://plot.ly"
       },
       "data": [
        {
         "close": [
          608.2483976819625,
          611.454621266642,
          613.8556912006105,
          614.6208994294268,
          612.0307704171021,
          615.137328620039,
          618.583934968579,
          619.0496602005709,
          621.4555609053494,
          621.9106376540879,
          623.2423223891427,
          623.623934968579,
          624.0962127237228,
          625.3256048316738,
          628.1876376950752,
          631.8372708138459,
          636.4583588531452,
          637.743934968579,
          643.4459262039069,
          639.0868490543633,
          645.0737304867997,
          647.9653905944327,
          648.4927176958348,
          649.8209110637465,
          653.730998252755,
          652.2311039320487,
          656.453934968579,
          668.5363598736681,
          666.2569754144713,
          673.5254867881669,
          686.2871473990967,
          681.9413185975902,
          678.5463295635799,
          673.7674777865409,
          669.8507396842155,
          678.2585566745945,
          688.6470346069342,
          692.7507015724196,
          685.9513543493199,
          677.2991488491713,
          668.7001930132647,
          662.0371875779335,
          655.4445309785625,
          655.2803234843029,
          650.3675657894488,
          655.54800894889,
          650.7916993585268,
          644.8700475830431,
          642.832664576539,
          641.4671875779335,
          641.7621634753452,
          642.9227744624002,
          644.7048851111182,
          643.3617189602497,
          645.8500449103415,
          646.7262158060157,
          646.8736052246228,
          646.5464282929566,
          647.5271875779334,
          650.6817181092965,
          650.1774464263618,
          652.2930421672104,
          657.224713094147,
          655.5994162770874,
          658.7671875779334,
          658.4744414863208,
          654.9054547839246,
          653.94095461154,
          653.1677584375594,
          652.679557681124,
          651.4871875779335,
          652.1562742445042
         ],
         "high": [
          608.6638367035594,
          612.3374772157108,
          617.4909491382502,
          616.9315293625004,
          617.5215186048969,
          619.6434063045629,
          623.2116030250182,
          619.0671195398289,
          623.4396844325458,
          624.6709707296391,
          626.4668306027056,
          627.7450654641721,
          625.5260782871627,
          629.9792719294344,
          630.6148561160511,
          635.9511069552116,
          638.4817699128533,
          639.9754692281037,
          648.270529533439,
          643.9932844788672,
          646.5840904354287,
          650.1242665872263,
          653.0930426052423,
          653.3838543101364,
          657.6784950681991,
          656.2730000195137,
          657.6906530752599,
          672.3382931985147,
          670.7939111718847,
          674.5239831909893,
          691.272556476417,
          685.135704077808,
          685.5984439259599,
          681.8485506717964,
          677.5156612782345,
          682.8280940640184,
          693.7761109233766,
          692.8762839353354,
          694.7341203976506,
          690.7883410124566,
          680.8453987553079,
          668.7248824704557,
          665.8606210159924,
          656.4102605358335,
          655.7158424930452,
          659.6271836526503,
          658.2750867120658,
          653.2625721282392,
          649.7425764278729,
          643.7741902415133,
          645.5755831299762,
          643.7532771312997,
          648.5908429667267,
          646.2150510369161,
          649.6828825231474,
          648.3676692150848,
          647.8975778135382,
          649.6509793489175,
          649.4557523034562,
          655.0474660476373,
          651.7096491004664,
          654.1660431851899,
          657.4624645177752,
          661.7776135493935,
          661.1590256998996,
          662.3497576144774,
          662.9537330177722,
          658.2727883886929,
          654.2941349278657,
          657.2183738157623,
          657.8161857465989,
          655.9602443812552
         ],
         "low": [
          604.8084959469821,
          607.3655417328937,
          607.8193633290023,
          611.5450612675369,
          609.130151241632,
          607.5246927325783,
          610.5096605635998,
          618.566475629321,
          617.0655366733745,
          618.6952278297982,
          618.686129440525,
          619.1211918935496,
          622.1940694051391,
          619.4425456259622,
          622.8983864106979,
          624.0738015537095,
          629.8138597541378,
          634.2268245936204,
          632.9193316390468,
          638.539490779403,
          637.5764891057343,
          642.9148544940061,
          643.3650656850252,
          644.929774449445,
          645.8734142483023,
          649.6891021652899,
          650.9943858253678,
          652.6520016437323,
          663.9994241162547,
          665.2584790116489,
          668.5400777108466,
          681.4146392627193,
          674.8892042352102,
          670.4652566783244,
          666.1025561925219,
          668.2957459533696,
          673.1294803581521,
          688.5214522440184,
          680.7602364234996,
          672.4621621860346,
          665.153943107128,
          662.0124981207425,
          651.6210975405037,
          654.314593927032,
          649.9320467807065,
          646.2883910856885,
          648.064621595351,
          642.3991748133307,
          637.9601357317091,
          640.5256619129591,
          637.6537679233026,
          640.9316608064457,
          639.0368166067917,
          641.8515530344519,
          639.5288813474438,
          644.2085915012724,
          645.7022432171003,
          643.7690541686619,
          644.6178635674339,
          643.1614396395927,
          649.1495154351919,
          648.3044454083823,
          652.0552907435822,
          651.0465158218408,
          653.2075781551212,
          654.8918714497768,
          650.4261632524732,
          650.5736210067716,
          652.8145781212337,
          648.6289423029211,
          646.3505595124586,
          647.6832174411825
         ],
         "open": [
          605.223934968579,
          608.2483976819625,
          611.454621266642,
          613.8556912006105,
          614.6208994294268,
          612.0307704171021,
          615.137328620039,
          618.583934968579,
          619.0496602005709,
          621.4555609053494,
          621.9106376540879,
          623.2423223891427,
          623.623934968579,
          624.0962127237228,
          625.3256048316738,
          628.1876376950752,
          631.8372708138459,
          636.4583588531452,
          637.743934968579,
          643.4459262039069,
          639.0868490543633,
          645.0737304867997,
          647.9653905944327,
          648.4927176958348,
          649.8209110637465,
          653.730998252755,
          652.2311039320487,
          656.453934968579,
          668.5363598736681,
          666.2569754144713,
          673.5254867881669,
          684.6090247429371,
          681.9413185975902,
          678.5463295635799,
          673.7674777865409,
          672.8652833427935,
          678.2585566745945,
          688.6470346069342,
          689.5430024718303,
          685.9513543493199,
          677.2991488491713,
          668.7001930132647,
          662.0371875779335,
          655.4445309785625,
          655.2803234843029,
          650.3675657894488,
          655.54800894889,
          650.7916993585268,
          644.8700475830431,
          642.832664576539,
          641.4671875779335,
          641.7621634753452,
          642.9227744624002,
          644.7048851111182,
          643.3617189602497,
          645.8500449103415,
          646.7262158060157,
          646.8736052246228,
          646.5464282929566,
          647.5271875779334,
          650.6817181092965,
          650.1774464263618,
          652.2930421672104,
          657.224713094147,
          655.5994162770874,
          658.7671875779334,
          658.4744414863208,
          654.9054547839246,
          653.94095461154,
          653.1677584375594,
          652.679557681124,
          651.4871875779335
         ],
         "type": "candlestick",
         "x": [
          "2020-01-23 09:00:00",
          "2020-01-23 09:05:00",
          "2020-01-23 09:10:00",
          "2020-01-23 09:15:00",
          "2020-01-23 09:20:00",
          "2020-01-23 09:25:00",
          "2020-01-23 09:30:00",
          "2020-01-23 09:35:00",
          "2020-01-23 09:40:00",
          "2020-01-23 09:45:00",
          "2020-01-23 09:50:00",
          "2020-01-23 09:55:00",
          "2020-01-23 10:00:00",
          "2020-01-23 10:05:00",
          "2020-01-23 10:10:00",
          "2020-01-23 10:15:00",
          "2020-01-23 10:20:00",
          "2020-01-23 10:25:00",
          "2020-01-23 10:30:00",
          "2020-01-23 10:35:00",
          "2020-01-23 10:40:00",
          "2020-01-23 10:45:00",
          "2020-01-23 10:50:00",
          "2020-01-23 10:55:00",
          "2020-01-23 11:00:00",
          "2020-01-23 11:05:00",
          "2020-01-23 11:10:00",
          "2020-01-23 11:15:00",
          "2020-01-23 11:20:00",
          "2020-01-23 11:25:00",
          "2020-01-23 11:30:00",
          "2020-01-23 11:35:00",
          "2020-01-23 11:40:00",
          "2020-01-23 11:45:00",
          "2020-01-23 11:50:00",
          "2020-01-23 11:55:00",
          "2020-01-23 12:00:00",
          "2020-01-23 12:05:00",
          "2020-01-23 12:10:00",
          "2020-01-23 12:15:00",
          "2020-01-23 12:20:00",
          "2020-01-23 12:25:00",
          "2020-01-23 12:30:00",
          "2020-01-23 12:35:00",
          "2020-01-23 12:40:00",
          "2020-01-23 12:45:00",
          "2020-01-23 12:50:00",
          "2020-01-23 12:55:00",
          "2020-01-23 13:00:00",
          "2020-01-23 13:05:00",
          "2020-01-23 13:10:00",
          "2020-01-23 13:15:00",
          "2020-01-23 13:20:00",
          "2020-01-23 13:25:00",
          "2020-01-23 13:30:00",
          "2020-01-23 13:35:00",
          "2020-01-23 13:40:00",
          "2020-01-23 13:45:00",
          "2020-01-23 13:50:00",
          "2020-01-23 13:55:00",
          "2020-01-23 14:00:00",
          "2020-01-23 14:05:00",
          "2020-01-23 14:10:00",
          "2020-01-23 14:15:00",
          "2020-01-23 14:20:00",
          "2020-01-23 14:25:00",
          "2020-01-23 14:30:00",
          "2020-01-23 14:35:00",
          "2020-01-23 14:40:00",
          "2020-01-23 14:45:00",
          "2020-01-23 14:50:00",
          "2020-01-23 14:55:00"
         ]
        }
       ],
       "layout": {
        "template": {
         "data": {
          "bar": [
           {
            "error_x": {
             "color": "#2a3f5f"
            },
            "error_y": {
             "color": "#2a3f5f"
            },
            "marker": {
             "line": {
              "color": "#E5ECF6",
              "width": 0.5
             },
             "pattern": {
              "fillmode": "overlay",
              "size": 10,
              "solidity": 0.2
             }
            },
            "type": "bar"
           }
          ],
          "barpolar": [
           {
            "marker": {
             "line": {
              "color": "#E5ECF6",
              "width": 0.5
             },
             "pattern": {
              "fillmode": "overlay",
              "size": 10,
              "solidity": 0.2
             }
            },
            "type": "barpolar"
           }
          ],
          "carpet": [
           {
            "aaxis": {
             "endlinecolor": "#2a3f5f",
             "gridcolor": "white",
             "linecolor": "white",
             "minorgridcolor": "white",
             "startlinecolor": "#2a3f5f"
            },
            "baxis": {
             "endlinecolor": "#2a3f5f",
             "gridcolor": "white",
             "linecolor": "white",
             "minorgridcolor": "white",
             "startlinecolor": "#2a3f5f"
            },
            "type": "carpet"
           }
          ],
          "choropleth": [
           {
            "colorbar": {
             "outlinewidth": 0,
             "ticks": ""
            },
            "type": "choropleth"
           }
          ],
          "contour": [
           {
            "colorbar": {
             "outlinewidth": 0,
             "ticks": ""
            },
            "colorscale": [
             [
              0,
              "#0d0887"
             ],
             [
              0.1111111111111111,
              "#46039f"
             ],
             [
              0.2222222222222222,
              "#7201a8"
             ],
             [
              0.3333333333333333,
              "#9c179e"
             ],
             [
              0.4444444444444444,
              "#bd3786"
             ],
             [
              0.5555555555555556,
              "#d8576b"
             ],
             [
              0.6666666666666666,
              "#ed7953"
             ],
             [
              0.7777777777777778,
              "#fb9f3a"
             ],
             [
              0.8888888888888888,
              "#fdca26"
             ],
             [
              1,
              "#f0f921"
             ]
            ],
            "type": "contour"
           }
          ],
          "contourcarpet": [
           {
            "colorbar": {
             "outlinewidth": 0,
             "ticks": ""
            },
            "type": "contourcarpet"
           }
          ],
          "heatmap": [
           {
            "colorbar": {
             "outlinewidth": 0,
             "ticks": ""
            },
            "colorscale": [
             [
              0,
              "#0d0887"
             ],
             [
              0.1111111111111111,
              "#46039f"
             ],
             [
              0.2222222222222222,
              "#7201a8"
             ],
             [
              0.3333333333333333,
              "#9c179e"
             ],
             [
              0.4444444444444444,
              "#bd3786"
             ],
             [
              0.5555555555555556,
              "#d8576b"
             ],
             [
              0.6666666666666666,
              "#ed7953"
             ],
             [
              0.7777777777777778,
              "#fb9f3a"
             ],
             [
              0.8888888888888888,
              "#fdca26"
             ],
             [
              1,
              "#f0f921"
             ]
            ],
            "type": "heatmap"
           }
          ],
          "heatmapgl": [
           {
            "colorbar": {
             "outlinewidth": 0,
             "ticks": ""
            },
            "colorscale": [
             [
              0,
              "#0d0887"
             ],
             [
              0.1111111111111111,
              "#46039f"
             ],
             [
              0.2222222222222222,
              "#7201a8"
             ],
             [
              0.3333333333333333,
              "#9c179e"
             ],
             [
              0.4444444444444444,
              "#bd3786"
             ],
             [
              0.5555555555555556,
              "#d8576b"
             ],
             [
              0.6666666666666666,
              "#ed7953"
             ],
             [
              0.7777777777777778,
              "#fb9f3a"
             ],
             [
              0.8888888888888888,
              "#fdca26"
             ],
             [
              1,
              "#f0f921"
             ]
            ],
            "type": "heatmapgl"
           }
          ],
          "histogram": [
           {
            "marker": {
             "pattern": {
              "fillmode": "overlay",
              "size": 10,
              "solidity": 0.2
             }
            },
            "type": "histogram"
           }
          ],
          "histogram2d": [
           {
            "colorbar": {
             "outlinewidth": 0,
             "ticks": ""
            },
            "colorscale": [
             [
              0,
              "#0d0887"
             ],
             [
              0.1111111111111111,
              "#46039f"
             ],
             [
              0.2222222222222222,
              "#7201a8"
             ],
             [
              0.3333333333333333,
              "#9c179e"
             ],
             [
              0.4444444444444444,
              "#bd3786"
             ],
             [
              0.5555555555555556,
              "#d8576b"
             ],
             [
              0.6666666666666666,
              "#ed7953"
             ],
             [
              0.7777777777777778,
              "#fb9f3a"
             ],
             [
              0.8888888888888888,
              "#fdca26"
             ],
             [
              1,
              "#f0f921"
             ]
            ],
            "type": "histogram2d"
           }
          ],
          "histogram2dcontour": [
           {
            "colorbar": {
             "outlinewidth": 0,
             "ticks": ""
            },
            "colorscale": [
             [
              0,
              "#0d0887"
             ],
             [
              0.1111111111111111,
              "#46039f"
             ],
             [
              0.2222222222222222,
              "#7201a8"
             ],
             [
              0.3333333333333333,
              "#9c179e"
             ],
             [
              0.4444444444444444,
              "#bd3786"
             ],
             [
              0.5555555555555556,
              "#d8576b"
             ],
             [
              0.6666666666666666,
              "#ed7953"
             ],
             [
              0.7777777777777778,
              "#fb9f3a"
             ],
             [
              0.8888888888888888,
              "#fdca26"
             ],
             [
              1,
              "#f0f921"
             ]
            ],
            "type": "histogram2dcontour"
           }
          ],
          "mesh3d": [
           {
            "colorbar": {
             "outlinewidth": 0,
             "ticks": ""
            },
            "type": "mesh3d"
           }
          ],
          "parcoords": [
           {
            "line": {
             "colorbar": {
              "outlinewidth": 0,
              "ticks": ""
             }
            },
            "type": "parcoords"
           }
          ],
          "pie": [
           {
            "automargin": true,
            "type": "pie"
           }
          ],
          "scatter": [
           {
            "fillpattern": {
             "fillmode": "overlay",
             "size": 10,
             "solidity": 0.2
            },
            "type": "scatter"
           }
          ],
          "scatter3d": [
           {
            "line": {
             "colorbar": {
              "outlinewidth": 0,
              "ticks": ""
             }
            },
            "marker": {
             "colorbar": {
              "outlinewidth": 0,
              "ticks": ""
             }
            },
            "type": "scatter3d"
           }
          ],
          "scattercarpet": [
           {
            "marker": {
             "colorbar": {
              "outlinewidth": 0,
              "ticks": ""
             }
            },
            "type": "scattercarpet"
           }
          ],
          "scattergeo": [
           {
            "marker": {
             "colorbar": {
              "outlinewidth": 0,
              "ticks": ""
             }
            },
            "type": "scattergeo"
           }
          ],
          "scattergl": [
           {
            "marker": {
             "colorbar": {
              "outlinewidth": 0,
              "ticks": ""
             }
            },
            "type": "scattergl"
           }
          ],
          "scattermapbox": [
           {
            "marker": {
             "colorbar": {
              "outlinewidth": 0,
              "ticks": ""
             }
            },
            "type": "scattermapbox"
           }
          ],
          "scatterpolar": [
           {
            "marker": {
             "colorbar": {
              "outlinewidth": 0,
              "ticks": ""
             }
            },
            "type": "scatterpolar"
           }
          ],
          "scatterpolargl": [
           {
            "marker": {
             "colorbar": {
              "outlinewidth": 0,
              "ticks": ""
             }
            },
            "type": "scatterpolargl"
           }
          ],
          "scatterternary": [
           {
            "marker": {
             "colorbar": {
              "outlinewidth": 0,
              "ticks": ""
             }
            },
            "type": "scatterternary"
           }
          ],
          "surface": [
           {
            "colorbar": {
             "outlinewidth": 0,
             "ticks": ""
            },
            "colorscale": [
             [
              0,
              "#0d0887"
             ],
             [
              0.1111111111111111,
              "#46039f"
             ],
             [
              0.2222222222222222,
              "#7201a8"
             ],
             [
              0.3333333333333333,
              "#9c179e"
             ],
             [
              0.4444444444444444,
              "#bd3786"
             ],
             [
              0.5555555555555556,
              "#d8576b"
             ],
             [
              0.6666666666666666,
              "#ed7953"
             ],
             [
              0.7777777777777778,
              "#fb9f3a"
             ],
             [
              0.8888888888888888,
              "#fdca26"
             ],
             [
              1,
              "#f0f921"
             ]
            ],
            "type": "surface"
           }
          ],
          "table": [
           {
            "cells": {
             "fill": {
              "color": "#EBF0F8"
             },
             "line": {
              "color": "white"
             }
            },
            "header": {
             "fill": {
              "color": "#C8D4E3"
             },
             "line": {
              "color": "white"
             }
            },
            "type": "table"
           }
          ]
         },
         "layout": {
          "annotationdefaults": {
           "arrowcolor": "#2a3f5f",
           "arrowhead": 0,
           "arrowwidth": 1
          },
          "autotypenumbers": "strict",
          "coloraxis": {
           "colorbar": {
            "outlinewidth": 0,
            "ticks": ""
           }
          },
          "colorscale": {
           "diverging": [
            [
             0,
             "#8e0152"
            ],
            [
             0.1,
             "#c51b7d"
            ],
            [
             0.2,
             "#de77ae"
            ],
            [
             0.3,
             "#f1b6da"
            ],
            [
             0.4,
             "#fde0ef"
            ],
            [
             0.5,
             "#f7f7f7"
            ],
            [
             0.6,
             "#e6f5d0"
            ],
            [
             0.7,
             "#b8e186"
            ],
            [
             0.8,
             "#7fbc41"
            ],
            [
             0.9,
             "#4d9221"
            ],
            [
             1,
             "#276419"
            ]
           ],
           "sequential": [
            [
             0,
             "#0d0887"
            ],
            [
             0.1111111111111111,
             "#46039f"
            ],
            [
             0.2222222222222222,
             "#7201a8"
            ],
            [
             0.3333333333333333,
             "#9c179e"
            ],
            [
             0.4444444444444444,
             "#bd3786"
            ],
            [
             0.5555555555555556,
             "#d8576b"
            ],
            [
             0.6666666666666666,
             "#ed7953"
            ],
            [
             0.7777777777777778,
             "#fb9f3a"
            ],
            [
             0.8888888888888888,
             "#fdca26"
            ],
            [
             1,
             "#f0f921"
            ]
           ],
           "sequentialminus": [
            [
             0,
             "#0d0887"
            ],
            [
             0.1111111111111111,
             "#46039f"
            ],
            [
             0.2222222222222222,
             "#7201a8"
            ],
            [
             0.3333333333333333,
             "#9c179e"
            ],
            [
             0.4444444444444444,
             "#bd3786"
            ],
            [
             0.5555555555555556,
             "#d8576b"
            ],
            [
             0.6666666666666666,
             "#ed7953"
            ],
            [
             0.7777777777777778,
             "#fb9f3a"
            ],
            [
             0.8888888888888888,
             "#fdca26"
            ],
            [
             1,
             "#f0f921"
            ]
           ]
          },
          "colorway": [
           "#636efa",
           "#EF553B",
           "#00cc96",
           "#ab63fa",
           "#FFA15A",
           "#19d3f3",
           "#FF6692",
           "#B6E880",
           "#FF97FF",
           "#FECB52"
          ],
          "font": {
           "color": "#2a3f5f"
          },
          "geo": {
           "bgcolor": "white",
           "lakecolor": "white",
           "landcolor": "#E5ECF6",
           "showlakes": true,
           "showland": true,
           "subunitcolor": "white"
          },
          "hoverlabel": {
           "align": "left"
          },
          "hovermode": "closest",
          "mapbox": {
           "style": "light"
          },
          "paper_bgcolor": "white",
          "plot_bgcolor": "#E5ECF6",
          "polar": {
           "angularaxis": {
            "gridcolor": "white",
            "linecolor": "white",
            "ticks": ""
           },
           "bgcolor": "#E5ECF6",
           "radialaxis": {
            "gridcolor": "white",
            "linecolor": "white",
            "ticks": ""
           }
          },
          "scene": {
           "xaxis": {
            "backgroundcolor": "#E5ECF6",
            "gridcolor": "white",
            "gridwidth": 2,
            "linecolor": "white",
            "showbackground": true,
            "ticks": "",
            "zerolinecolor": "white"
           },
           "yaxis": {
            "backgroundcolor": "#E5ECF6",
            "gridcolor": "white",
            "gridwidth": 2,
            "linecolor": "white",
            "showbackground": true,
            "ticks": "",
            "zerolinecolor": "white"
           },
           "zaxis": {
            "backgroundcolor": "#E5ECF6",
            "gridcolor": "white",
            "gridwidth": 2,
            "linecolor": "white",
            "showbackground": true,
            "ticks": "",
            "zerolinecolor": "white"
           }
          },
          "shapedefaults": {
           "line": {
            "color": "#2a3f5f"
           }
          },
          "ternary": {
           "aaxis": {
            "gridcolor": "white",
            "linecolor": "white",
            "ticks": ""
           },
           "baxis": {
            "gridcolor": "white",
            "linecolor": "white",
            "ticks": ""
           },
           "bgcolor": "#E5ECF6",
           "caxis": {
            "gridcolor": "white",
            "linecolor": "white",
            "ticks": ""
           }
          },
          "title": {
           "x": 0.05
          },
          "xaxis": {
           "automargin": true,
           "gridcolor": "white",
           "linecolor": "white",
           "ticks": "",
           "title": {
            "standoff": 15
           },
           "zerolinecolor": "white",
           "zerolinewidth": 2
          },
          "yaxis": {
           "automargin": true,
           "gridcolor": "white",
           "linecolor": "white",
           "ticks": "",
           "title": {
            "standoff": 15
           },
           "zerolinecolor": "white",
           "zerolinewidth": 2
          }
         }
        },
        "title": {
         "text": "Double Top"
        },
        "xaxis": {
         "rangeslider": {
          "visible": false
         }
        }
       }
      }
     },
     "metadata": {},
     "output_type": "display_data"
    }
   ],
   "source": [
    "dfd = df1.iloc[1080:1080+72]\n",
    "draw_candlesticks(dfd,'Double Top',xaxis_rangeslider_visible=False)"
   ]
  },
  {
   "cell_type": "code",
   "execution_count": 69,
   "metadata": {},
   "outputs": [
    {
     "data": {
      "text/plain": [
       "6839    2020-05-13 14:55:00\n",
       "6840    2020-05-14 09:00:00\n",
       "Name: date, dtype: object"
      ]
     },
     "execution_count": 69,
     "metadata": {},
     "output_type": "execute_result"
    }
   ],
   "source": [
    "df1['date'].iloc[6839:6841]"
   ]
  },
  {
   "cell_type": "code",
   "execution_count": 70,
   "metadata": {},
   "outputs": [
    {
     "data": {
      "application/vnd.plotly.v1+json": {
       "config": {
        "plotlyServerURL": "https://plot.ly"
       },
       "data": [
        {
         "close": [
          382.7417185429568,
          384.43624898921615,
          378.2587383430278,
          376.0320179252489,
          375.7119896508826,
          375.1513185082072,
          373.51451427179154,
          371.7000964703356,
          371.5720179252489,
          370.5390705866876,
          366.9201086873649,
          368.8537496775811,
          365.10313061178505,
          364.4572497064353,
          363.52261258114055,
          359.1220179252489,
          352.23194358254653,
          346.31799036160106,
          346.231298440937,
          338.1823458090057,
          341.97230492590035,
          343.8045785391061,
          347.19233468921715,
          348.0675640109318,
          350.3345554456373,
          344.4771867555168,
          337.4276997112295,
          334.0646891405698,
          348.7911232966523,
          352.8614057194218,
          350.78021378975666,
          359.07093238422993,
          370.454799918899,
          371.2324875021894,
          371.3305270716792,
          373.9095526977822,
          375.3903966258542,
          375.7287279959629,
          376.4347999188991,
          376.7062838217784,
          376.6835999842342,
          377.2981676700775,
          377.9965673046283,
          377.6537501751323,
          378.2847999188991,
          381.8085341077705,
          379.0566696540282,
          381.2485297896399,
          383.2219177059541,
          384.63610655042,
          387.9754869102932,
          389.5947999188991,
          389.2509757207866,
          388.7410888020544,
          388.54759939281246,
          387.9575565680095,
          387.2468936120836,
          386.3160210716457,
          386.4147999188991,
          385.44032401669295,
          390.4081945715489,
          393.87802522986607,
          395.2231491296626,
          399.68149822643227,
          399.9251867314104,
          401.09169047199487,
          404.9047999188991,
          404.881154260581,
          405.6445181121042,
          406.07251761997054,
          406.7965492772983,
          407.1486876067361
         ],
         "high": [
          390.5122883428545,
          386.5090603639362,
          387.06941676743327,
          378.6005385644757,
          378.2319916864419,
          375.951383502334,
          376.11913155273567,
          375.5858348321896,
          374.613930925693,
          372.6620634035857,
          372.0996725952304,
          370.3038077310532,
          369.0984428839676,
          368.19990696232645,
          364.6346953160042,
          365.6320989931249,
          362.3495118735832,
          354.3827985500506,
          346.9989581793534,
          346.4863626290978,
          344.320116226314,
          345.3426930270126,
          347.5317536817946,
          349.99495593817994,
          351.7454551184132,
          348.9778932991117,
          345.4729645289604,
          337.96622944026257,
          349.72849256905783,
          355.06158702692335,
          353.50948837653385,
          360.2546686576504,
          371.8169754601831,
          371.96253616631645,
          373.6298823022359,
          374.8864889247514,
          376.0167978012242,
          377.5177817572255,
          377.2515489819687,
          378.4356255007812,
          378.0438633753093,
          378.469566197784,
          378.7884556523272,
          378.12570467533,
          380.247826611602,
          382.2676019221817,
          383.4365236143871,
          381.99066441100166,
          385.3868491703853,
          385.0135923976008,
          389.7100191770899,
          391.3000553861556,
          392.29055837553295,
          390.51106049605056,
          389.6241670926731,
          389.9321137460026,
          389.8688813552082,
          390.2979574255999,
          388.2117982123355,
          387.5860788123809,
          391.2437759811623,
          394.80841321277614,
          396.9829662643676,
          401.0377135574264,
          400.1415272385149,
          403.7261163670945,
          407.67816215030047,
          407.6750821381851,
          407.8431525721622,
          406.5915078342962,
          407.2000125350814,
          408.6587591521845
         ],
         "low": [
          380.4614481253511,
          380.6689071682367,
          375.6255705648107,
          375.690217703801,
          373.5120158896896,
          374.9119246567558,
          372.54670122726304,
          369.62877590993753,
          368.65818346989136,
          369.4490251083508,
          365.3595066788221,
          365.47005063389287,
          364.85843740539855,
          361.3604733558939,
          363.3451669715716,
          357.01253151326455,
          349.0044496342122,
          344.167135394097,
          345.55033062318466,
          337.9272816208449,
          339.0664316351972,
          340.43419043799383,
          343.46515954652864,
          345.264942761969,
          346.6566643381559,
          344.1877609335228,
          336.4319219377859,
          333.5261594115367,
          333.71968912679847,
          346.59094198915074,
          350.1321311326446,
          349.5964775163362,
          357.7087568429459,
          369.724751254772,
          368.9331322716327,
          370.35359084471,
          373.2831515224122,
          373.6013428645916,
          374.9119789328933,
          374.7054582398962,
          375.3460204307032,
          375.5122014565277,
          376.5062793223786,
          377.5246128044306,
          375.6907234824294,
          377.8257321044879,
          377.4286801474117,
          378.3145350326665,
          379.0835983252088,
          382.8444318587733,
          382.9015742836232,
          386.2702314430367,
          386.5552172641527,
          387.4810040267904,
          387.66452110219376,
          386.5730422148193,
          385.3355688248849,
          383.2649572581294,
          384.51902277820926,
          384.26904512321113,
          384.6047426070795,
          389.4778065886388,
          392.118208095161,
          393.86693379866847,
          399.46515771932775,
          397.2907608363108,
          398.3183282405935,
          402.1108720412951,
          402.6825198005231,
          405.12552789777857,
          405.66905436218747,
          405.2864777318499
         ],
         "open": [
          388.2320179252488,
          382.7417185429568,
          384.43624898921615,
          378.2587383430278,
          376.0320179252489,
          375.7119896508826,
          375.1513185082072,
          373.51451427179154,
          371.7000964703356,
          371.5720179252489,
          370.5390705866876,
          366.9201086873649,
          368.8537496775811,
          365.10313061178505,
          364.4572497064353,
          363.52261258114055,
          359.1220179252489,
          352.23194358254653,
          346.31799036160106,
          346.231298440937,
          341.41424293561084,
          341.97230492590035,
          343.8045785391061,
          347.19233468921715,
          348.0675640109318,
          348.6884674771177,
          344.4771867555168,
          337.4276997112295,
          334.657058399204,
          348.7911232966523,
          352.8614057194218,
          350.78021378975666,
          359.07093238422993,
          370.454799918899,
          371.2324875021894,
          371.3305270716792,
          373.9095526977822,
          375.3903966258542,
          375.7287279959629,
          376.4347999188991,
          376.7062838217784,
          376.6835999842342,
          377.2981676700775,
          377.9965673046283,
          377.6537501751323,
          378.2847999188991,
          381.8085341077705,
          379.0566696540282,
          381.2485297896399,
          383.2219177059541,
          384.63610655042,
          387.9754869102932,
          389.5947999188991,
          389.2509757207866,
          388.7410888020544,
          388.54759939281246,
          387.9575565680095,
          387.2468936120836,
          386.3160210716457,
          386.4147999188991,
          385.44032401669295,
          390.4081945715489,
          393.87802522986607,
          395.2231491296626,
          399.68149822643227,
          399.9251867314104,
          401.09169047199487,
          404.9047999188991,
          404.881154260581,
          405.6445181121042,
          406.07251761997054,
          406.7965492772983
         ],
         "type": "candlestick",
         "x": [
          "2020-05-14 09:00:00",
          "2020-05-14 09:05:00",
          "2020-05-14 09:10:00",
          "2020-05-14 09:15:00",
          "2020-05-14 09:20:00",
          "2020-05-14 09:25:00",
          "2020-05-14 09:30:00",
          "2020-05-14 09:35:00",
          "2020-05-14 09:40:00",
          "2020-05-14 09:45:00",
          "2020-05-14 09:50:00",
          "2020-05-14 09:55:00",
          "2020-05-14 10:00:00",
          "2020-05-14 10:05:00",
          "2020-05-14 10:10:00",
          "2020-05-14 10:15:00",
          "2020-05-14 10:20:00",
          "2020-05-14 10:25:00",
          "2020-05-14 10:30:00",
          "2020-05-14 10:35:00",
          "2020-05-14 10:40:00",
          "2020-05-14 10:45:00",
          "2020-05-14 10:50:00",
          "2020-05-14 10:55:00",
          "2020-05-14 11:00:00",
          "2020-05-14 11:05:00",
          "2020-05-14 11:10:00",
          "2020-05-14 11:15:00",
          "2020-05-14 11:20:00",
          "2020-05-14 11:25:00",
          "2020-05-14 11:30:00",
          "2020-05-14 11:35:00",
          "2020-05-14 11:40:00",
          "2020-05-14 11:45:00",
          "2020-05-14 11:50:00",
          "2020-05-14 11:55:00",
          "2020-05-14 12:00:00",
          "2020-05-14 12:05:00",
          "2020-05-14 12:10:00",
          "2020-05-14 12:15:00",
          "2020-05-14 12:20:00",
          "2020-05-14 12:25:00",
          "2020-05-14 12:30:00",
          "2020-05-14 12:35:00",
          "2020-05-14 12:40:00",
          "2020-05-14 12:45:00",
          "2020-05-14 12:50:00",
          "2020-05-14 12:55:00",
          "2020-05-14 13:00:00",
          "2020-05-14 13:05:00",
          "2020-05-14 13:10:00",
          "2020-05-14 13:15:00",
          "2020-05-14 13:20:00",
          "2020-05-14 13:25:00",
          "2020-05-14 13:30:00",
          "2020-05-14 13:35:00",
          "2020-05-14 13:40:00",
          "2020-05-14 13:45:00",
          "2020-05-14 13:50:00",
          "2020-05-14 13:55:00",
          "2020-05-14 14:00:00",
          "2020-05-14 14:05:00",
          "2020-05-14 14:10:00",
          "2020-05-14 14:15:00",
          "2020-05-14 14:20:00",
          "2020-05-14 14:25:00",
          "2020-05-14 14:30:00",
          "2020-05-14 14:35:00",
          "2020-05-14 14:40:00",
          "2020-05-14 14:45:00",
          "2020-05-14 14:50:00",
          "2020-05-14 14:55:00"
         ]
        }
       ],
       "layout": {
        "template": {
         "data": {
          "bar": [
           {
            "error_x": {
             "color": "#2a3f5f"
            },
            "error_y": {
             "color": "#2a3f5f"
            },
            "marker": {
             "line": {
              "color": "#E5ECF6",
              "width": 0.5
             },
             "pattern": {
              "fillmode": "overlay",
              "size": 10,
              "solidity": 0.2
             }
            },
            "type": "bar"
           }
          ],
          "barpolar": [
           {
            "marker": {
             "line": {
              "color": "#E5ECF6",
              "width": 0.5
             },
             "pattern": {
              "fillmode": "overlay",
              "size": 10,
              "solidity": 0.2
             }
            },
            "type": "barpolar"
           }
          ],
          "carpet": [
           {
            "aaxis": {
             "endlinecolor": "#2a3f5f",
             "gridcolor": "white",
             "linecolor": "white",
             "minorgridcolor": "white",
             "startlinecolor": "#2a3f5f"
            },
            "baxis": {
             "endlinecolor": "#2a3f5f",
             "gridcolor": "white",
             "linecolor": "white",
             "minorgridcolor": "white",
             "startlinecolor": "#2a3f5f"
            },
            "type": "carpet"
           }
          ],
          "choropleth": [
           {
            "colorbar": {
             "outlinewidth": 0,
             "ticks": ""
            },
            "type": "choropleth"
           }
          ],
          "contour": [
           {
            "colorbar": {
             "outlinewidth": 0,
             "ticks": ""
            },
            "colorscale": [
             [
              0,
              "#0d0887"
             ],
             [
              0.1111111111111111,
              "#46039f"
             ],
             [
              0.2222222222222222,
              "#7201a8"
             ],
             [
              0.3333333333333333,
              "#9c179e"
             ],
             [
              0.4444444444444444,
              "#bd3786"
             ],
             [
              0.5555555555555556,
              "#d8576b"
             ],
             [
              0.6666666666666666,
              "#ed7953"
             ],
             [
              0.7777777777777778,
              "#fb9f3a"
             ],
             [
              0.8888888888888888,
              "#fdca26"
             ],
             [
              1,
              "#f0f921"
             ]
            ],
            "type": "contour"
           }
          ],
          "contourcarpet": [
           {
            "colorbar": {
             "outlinewidth": 0,
             "ticks": ""
            },
            "type": "contourcarpet"
           }
          ],
          "heatmap": [
           {
            "colorbar": {
             "outlinewidth": 0,
             "ticks": ""
            },
            "colorscale": [
             [
              0,
              "#0d0887"
             ],
             [
              0.1111111111111111,
              "#46039f"
             ],
             [
              0.2222222222222222,
              "#7201a8"
             ],
             [
              0.3333333333333333,
              "#9c179e"
             ],
             [
              0.4444444444444444,
              "#bd3786"
             ],
             [
              0.5555555555555556,
              "#d8576b"
             ],
             [
              0.6666666666666666,
              "#ed7953"
             ],
             [
              0.7777777777777778,
              "#fb9f3a"
             ],
             [
              0.8888888888888888,
              "#fdca26"
             ],
             [
              1,
              "#f0f921"
             ]
            ],
            "type": "heatmap"
           }
          ],
          "heatmapgl": [
           {
            "colorbar": {
             "outlinewidth": 0,
             "ticks": ""
            },
            "colorscale": [
             [
              0,
              "#0d0887"
             ],
             [
              0.1111111111111111,
              "#46039f"
             ],
             [
              0.2222222222222222,
              "#7201a8"
             ],
             [
              0.3333333333333333,
              "#9c179e"
             ],
             [
              0.4444444444444444,
              "#bd3786"
             ],
             [
              0.5555555555555556,
              "#d8576b"
             ],
             [
              0.6666666666666666,
              "#ed7953"
             ],
             [
              0.7777777777777778,
              "#fb9f3a"
             ],
             [
              0.8888888888888888,
              "#fdca26"
             ],
             [
              1,
              "#f0f921"
             ]
            ],
            "type": "heatmapgl"
           }
          ],
          "histogram": [
           {
            "marker": {
             "pattern": {
              "fillmode": "overlay",
              "size": 10,
              "solidity": 0.2
             }
            },
            "type": "histogram"
           }
          ],
          "histogram2d": [
           {
            "colorbar": {
             "outlinewidth": 0,
             "ticks": ""
            },
            "colorscale": [
             [
              0,
              "#0d0887"
             ],
             [
              0.1111111111111111,
              "#46039f"
             ],
             [
              0.2222222222222222,
              "#7201a8"
             ],
             [
              0.3333333333333333,
              "#9c179e"
             ],
             [
              0.4444444444444444,
              "#bd3786"
             ],
             [
              0.5555555555555556,
              "#d8576b"
             ],
             [
              0.6666666666666666,
              "#ed7953"
             ],
             [
              0.7777777777777778,
              "#fb9f3a"
             ],
             [
              0.8888888888888888,
              "#fdca26"
             ],
             [
              1,
              "#f0f921"
             ]
            ],
            "type": "histogram2d"
           }
          ],
          "histogram2dcontour": [
           {
            "colorbar": {
             "outlinewidth": 0,
             "ticks": ""
            },
            "colorscale": [
             [
              0,
              "#0d0887"
             ],
             [
              0.1111111111111111,
              "#46039f"
             ],
             [
              0.2222222222222222,
              "#7201a8"
             ],
             [
              0.3333333333333333,
              "#9c179e"
             ],
             [
              0.4444444444444444,
              "#bd3786"
             ],
             [
              0.5555555555555556,
              "#d8576b"
             ],
             [
              0.6666666666666666,
              "#ed7953"
             ],
             [
              0.7777777777777778,
              "#fb9f3a"
             ],
             [
              0.8888888888888888,
              "#fdca26"
             ],
             [
              1,
              "#f0f921"
             ]
            ],
            "type": "histogram2dcontour"
           }
          ],
          "mesh3d": [
           {
            "colorbar": {
             "outlinewidth": 0,
             "ticks": ""
            },
            "type": "mesh3d"
           }
          ],
          "parcoords": [
           {
            "line": {
             "colorbar": {
              "outlinewidth": 0,
              "ticks": ""
             }
            },
            "type": "parcoords"
           }
          ],
          "pie": [
           {
            "automargin": true,
            "type": "pie"
           }
          ],
          "scatter": [
           {
            "fillpattern": {
             "fillmode": "overlay",
             "size": 10,
             "solidity": 0.2
            },
            "type": "scatter"
           }
          ],
          "scatter3d": [
           {
            "line": {
             "colorbar": {
              "outlinewidth": 0,
              "ticks": ""
             }
            },
            "marker": {
             "colorbar": {
              "outlinewidth": 0,
              "ticks": ""
             }
            },
            "type": "scatter3d"
           }
          ],
          "scattercarpet": [
           {
            "marker": {
             "colorbar": {
              "outlinewidth": 0,
              "ticks": ""
             }
            },
            "type": "scattercarpet"
           }
          ],
          "scattergeo": [
           {
            "marker": {
             "colorbar": {
              "outlinewidth": 0,
              "ticks": ""
             }
            },
            "type": "scattergeo"
           }
          ],
          "scattergl": [
           {
            "marker": {
             "colorbar": {
              "outlinewidth": 0,
              "ticks": ""
             }
            },
            "type": "scattergl"
           }
          ],
          "scattermapbox": [
           {
            "marker": {
             "colorbar": {
              "outlinewidth": 0,
              "ticks": ""
             }
            },
            "type": "scattermapbox"
           }
          ],
          "scatterpolar": [
           {
            "marker": {
             "colorbar": {
              "outlinewidth": 0,
              "ticks": ""
             }
            },
            "type": "scatterpolar"
           }
          ],
          "scatterpolargl": [
           {
            "marker": {
             "colorbar": {
              "outlinewidth": 0,
              "ticks": ""
             }
            },
            "type": "scatterpolargl"
           }
          ],
          "scatterternary": [
           {
            "marker": {
             "colorbar": {
              "outlinewidth": 0,
              "ticks": ""
             }
            },
            "type": "scatterternary"
           }
          ],
          "surface": [
           {
            "colorbar": {
             "outlinewidth": 0,
             "ticks": ""
            },
            "colorscale": [
             [
              0,
              "#0d0887"
             ],
             [
              0.1111111111111111,
              "#46039f"
             ],
             [
              0.2222222222222222,
              "#7201a8"
             ],
             [
              0.3333333333333333,
              "#9c179e"
             ],
             [
              0.4444444444444444,
              "#bd3786"
             ],
             [
              0.5555555555555556,
              "#d8576b"
             ],
             [
              0.6666666666666666,
              "#ed7953"
             ],
             [
              0.7777777777777778,
              "#fb9f3a"
             ],
             [
              0.8888888888888888,
              "#fdca26"
             ],
             [
              1,
              "#f0f921"
             ]
            ],
            "type": "surface"
           }
          ],
          "table": [
           {
            "cells": {
             "fill": {
              "color": "#EBF0F8"
             },
             "line": {
              "color": "white"
             }
            },
            "header": {
             "fill": {
              "color": "#C8D4E3"
             },
             "line": {
              "color": "white"
             }
            },
            "type": "table"
           }
          ]
         },
         "layout": {
          "annotationdefaults": {
           "arrowcolor": "#2a3f5f",
           "arrowhead": 0,
           "arrowwidth": 1
          },
          "autotypenumbers": "strict",
          "coloraxis": {
           "colorbar": {
            "outlinewidth": 0,
            "ticks": ""
           }
          },
          "colorscale": {
           "diverging": [
            [
             0,
             "#8e0152"
            ],
            [
             0.1,
             "#c51b7d"
            ],
            [
             0.2,
             "#de77ae"
            ],
            [
             0.3,
             "#f1b6da"
            ],
            [
             0.4,
             "#fde0ef"
            ],
            [
             0.5,
             "#f7f7f7"
            ],
            [
             0.6,
             "#e6f5d0"
            ],
            [
             0.7,
             "#b8e186"
            ],
            [
             0.8,
             "#7fbc41"
            ],
            [
             0.9,
             "#4d9221"
            ],
            [
             1,
             "#276419"
            ]
           ],
           "sequential": [
            [
             0,
             "#0d0887"
            ],
            [
             0.1111111111111111,
             "#46039f"
            ],
            [
             0.2222222222222222,
             "#7201a8"
            ],
            [
             0.3333333333333333,
             "#9c179e"
            ],
            [
             0.4444444444444444,
             "#bd3786"
            ],
            [
             0.5555555555555556,
             "#d8576b"
            ],
            [
             0.6666666666666666,
             "#ed7953"
            ],
            [
             0.7777777777777778,
             "#fb9f3a"
            ],
            [
             0.8888888888888888,
             "#fdca26"
            ],
            [
             1,
             "#f0f921"
            ]
           ],
           "sequentialminus": [
            [
             0,
             "#0d0887"
            ],
            [
             0.1111111111111111,
             "#46039f"
            ],
            [
             0.2222222222222222,
             "#7201a8"
            ],
            [
             0.3333333333333333,
             "#9c179e"
            ],
            [
             0.4444444444444444,
             "#bd3786"
            ],
            [
             0.5555555555555556,
             "#d8576b"
            ],
            [
             0.6666666666666666,
             "#ed7953"
            ],
            [
             0.7777777777777778,
             "#fb9f3a"
            ],
            [
             0.8888888888888888,
             "#fdca26"
            ],
            [
             1,
             "#f0f921"
            ]
           ]
          },
          "colorway": [
           "#636efa",
           "#EF553B",
           "#00cc96",
           "#ab63fa",
           "#FFA15A",
           "#19d3f3",
           "#FF6692",
           "#B6E880",
           "#FF97FF",
           "#FECB52"
          ],
          "font": {
           "color": "#2a3f5f"
          },
          "geo": {
           "bgcolor": "white",
           "lakecolor": "white",
           "landcolor": "#E5ECF6",
           "showlakes": true,
           "showland": true,
           "subunitcolor": "white"
          },
          "hoverlabel": {
           "align": "left"
          },
          "hovermode": "closest",
          "mapbox": {
           "style": "light"
          },
          "paper_bgcolor": "white",
          "plot_bgcolor": "#E5ECF6",
          "polar": {
           "angularaxis": {
            "gridcolor": "white",
            "linecolor": "white",
            "ticks": ""
           },
           "bgcolor": "#E5ECF6",
           "radialaxis": {
            "gridcolor": "white",
            "linecolor": "white",
            "ticks": ""
           }
          },
          "scene": {
           "xaxis": {
            "backgroundcolor": "#E5ECF6",
            "gridcolor": "white",
            "gridwidth": 2,
            "linecolor": "white",
            "showbackground": true,
            "ticks": "",
            "zerolinecolor": "white"
           },
           "yaxis": {
            "backgroundcolor": "#E5ECF6",
            "gridcolor": "white",
            "gridwidth": 2,
            "linecolor": "white",
            "showbackground": true,
            "ticks": "",
            "zerolinecolor": "white"
           },
           "zaxis": {
            "backgroundcolor": "#E5ECF6",
            "gridcolor": "white",
            "gridwidth": 2,
            "linecolor": "white",
            "showbackground": true,
            "ticks": "",
            "zerolinecolor": "white"
           }
          },
          "shapedefaults": {
           "line": {
            "color": "#2a3f5f"
           }
          },
          "ternary": {
           "aaxis": {
            "gridcolor": "white",
            "linecolor": "white",
            "ticks": ""
           },
           "baxis": {
            "gridcolor": "white",
            "linecolor": "white",
            "ticks": ""
           },
           "bgcolor": "#E5ECF6",
           "caxis": {
            "gridcolor": "white",
            "linecolor": "white",
            "ticks": ""
           }
          },
          "title": {
           "x": 0.05
          },
          "xaxis": {
           "automargin": true,
           "gridcolor": "white",
           "linecolor": "white",
           "ticks": "",
           "title": {
            "standoff": 15
           },
           "zerolinecolor": "white",
           "zerolinewidth": 2
          },
          "yaxis": {
           "automargin": true,
           "gridcolor": "white",
           "linecolor": "white",
           "ticks": "",
           "title": {
            "standoff": 15
           },
           "zerolinecolor": "white",
           "zerolinewidth": 2
          }
         }
        },
        "title": {
         "text": "Double Bottom"
        },
        "xaxis": {
         "rangeslider": {
          "visible": false
         }
        }
       }
      }
     },
     "metadata": {},
     "output_type": "display_data"
    }
   ],
   "source": [
    "dfe = df1.iloc[6840:6840+72]\n",
    "draw_candlesticks(dfe,'Double Bottom',xaxis_rangeslider_visible=False)"
   ]
  },
  {
   "cell_type": "code",
   "execution_count": 71,
   "metadata": {},
   "outputs": [
    {
     "name": "stdout",
     "output_type": "stream",
     "text": [
      "2020-01-02 09:00:00\n"
     ]
    },
    {
     "data": {
      "text/plain": [
       "Timestamp('2020-01-02 09:00:00')"
      ]
     },
     "execution_count": 71,
     "metadata": {},
     "output_type": "execute_result"
    }
   ],
   "source": [
    "# to work with datetime module\n",
    "print(datetime.datetime.strptime(df1['date'][0],'%Y-%m-%d %H:%M:%S'))\n",
    "df_date = pd.to_datetime(df1['date']) # another way to convert\n",
    "df_date[0] # df_date.dt.date gives date and df_date.dt.time gives time"
   ]
  },
  {
   "cell_type": "code",
   "execution_count": 72,
   "metadata": {},
   "outputs": [
    {
     "data": {
      "text/html": [
       "<div>\n",
       "<style scoped>\n",
       "    .dataframe tbody tr th:only-of-type {\n",
       "        vertical-align: middle;\n",
       "    }\n",
       "\n",
       "    .dataframe tbody tr th {\n",
       "        vertical-align: top;\n",
       "    }\n",
       "\n",
       "    .dataframe thead th {\n",
       "        text-align: right;\n",
       "    }\n",
       "</style>\n",
       "<table border=\"1\" class=\"dataframe\">\n",
       "  <thead>\n",
       "    <tr style=\"text-align: right;\">\n",
       "      <th></th>\n",
       "      <th>Unnamed: 0</th>\n",
       "      <th>open</th>\n",
       "      <th>close</th>\n",
       "      <th>high</th>\n",
       "      <th>low</th>\n",
       "      <th>date</th>\n",
       "    </tr>\n",
       "  </thead>\n",
       "  <tbody>\n",
       "    <tr>\n",
       "      <th>0</th>\n",
       "      <td>0</td>\n",
       "      <td>1032.144200</td>\n",
       "      <td>1032.246108</td>\n",
       "      <td>1038.520819</td>\n",
       "      <td>1025.869489</td>\n",
       "      <td>2020-01-02 09:00:00</td>\n",
       "    </tr>\n",
       "    <tr>\n",
       "      <th>1</th>\n",
       "      <td>1</td>\n",
       "      <td>1032.246108</td>\n",
       "      <td>1032.417499</td>\n",
       "      <td>1040.101487</td>\n",
       "      <td>1024.562120</td>\n",
       "      <td>2020-01-02 09:05:00</td>\n",
       "    </tr>\n",
       "    <tr>\n",
       "      <th>2</th>\n",
       "      <td>2</td>\n",
       "      <td>1032.417499</td>\n",
       "      <td>1032.375497</td>\n",
       "      <td>1040.023616</td>\n",
       "      <td>1024.769380</td>\n",
       "      <td>2020-01-02 09:10:00</td>\n",
       "    </tr>\n",
       "    <tr>\n",
       "      <th>3</th>\n",
       "      <td>3</td>\n",
       "      <td>1032.375497</td>\n",
       "      <td>1032.398605</td>\n",
       "      <td>1033.532570</td>\n",
       "      <td>1031.241532</td>\n",
       "      <td>2020-01-02 09:15:00</td>\n",
       "    </tr>\n",
       "    <tr>\n",
       "      <th>4</th>\n",
       "      <td>4</td>\n",
       "      <td>1032.398605</td>\n",
       "      <td>1032.482789</td>\n",
       "      <td>1037.506628</td>\n",
       "      <td>1027.374766</td>\n",
       "      <td>2020-01-02 09:20:00</td>\n",
       "    </tr>\n",
       "    <tr>\n",
       "      <th>...</th>\n",
       "      <td>...</td>\n",
       "      <td>...</td>\n",
       "      <td>...</td>\n",
       "      <td>...</td>\n",
       "      <td>...</td>\n",
       "      <td>...</td>\n",
       "    </tr>\n",
       "    <tr>\n",
       "      <th>21581</th>\n",
       "      <td>67</td>\n",
       "      <td>1672.852023</td>\n",
       "      <td>1678.324194</td>\n",
       "      <td>1681.038031</td>\n",
       "      <td>1670.138186</td>\n",
       "      <td>2021-02-24 14:35:00</td>\n",
       "    </tr>\n",
       "    <tr>\n",
       "      <th>21582</th>\n",
       "      <td>68</td>\n",
       "      <td>1678.324194</td>\n",
       "      <td>1677.952490</td>\n",
       "      <td>1687.895346</td>\n",
       "      <td>1668.381338</td>\n",
       "      <td>2021-02-24 14:40:00</td>\n",
       "    </tr>\n",
       "    <tr>\n",
       "      <th>21583</th>\n",
       "      <td>69</td>\n",
       "      <td>1677.952490</td>\n",
       "      <td>1676.963826</td>\n",
       "      <td>1689.028256</td>\n",
       "      <td>1665.888061</td>\n",
       "      <td>2021-02-24 14:45:00</td>\n",
       "    </tr>\n",
       "    <tr>\n",
       "      <th>21584</th>\n",
       "      <td>70</td>\n",
       "      <td>1676.963826</td>\n",
       "      <td>1679.059744</td>\n",
       "      <td>1688.330764</td>\n",
       "      <td>1667.692807</td>\n",
       "      <td>2021-02-24 14:50:00</td>\n",
       "    </tr>\n",
       "    <tr>\n",
       "      <th>21585</th>\n",
       "      <td>71</td>\n",
       "      <td>1679.059744</td>\n",
       "      <td>1685.062412</td>\n",
       "      <td>1695.667444</td>\n",
       "      <td>1668.454713</td>\n",
       "      <td>2021-02-24 14:55:00</td>\n",
       "    </tr>\n",
       "  </tbody>\n",
       "</table>\n",
       "<p>21586 rows × 6 columns</p>\n",
       "</div>"
      ],
      "text/plain": [
       "       Unnamed: 0         open        close         high          low  \\\n",
       "0               0  1032.144200  1032.246108  1038.520819  1025.869489   \n",
       "1               1  1032.246108  1032.417499  1040.101487  1024.562120   \n",
       "2               2  1032.417499  1032.375497  1040.023616  1024.769380   \n",
       "3               3  1032.375497  1032.398605  1033.532570  1031.241532   \n",
       "4               4  1032.398605  1032.482789  1037.506628  1027.374766   \n",
       "...           ...          ...          ...          ...          ...   \n",
       "21581          67  1672.852023  1678.324194  1681.038031  1670.138186   \n",
       "21582          68  1678.324194  1677.952490  1687.895346  1668.381338   \n",
       "21583          69  1677.952490  1676.963826  1689.028256  1665.888061   \n",
       "21584          70  1676.963826  1679.059744  1688.330764  1667.692807   \n",
       "21585          71  1679.059744  1685.062412  1695.667444  1668.454713   \n",
       "\n",
       "                      date  \n",
       "0      2020-01-02 09:00:00  \n",
       "1      2020-01-02 09:05:00  \n",
       "2      2020-01-02 09:10:00  \n",
       "3      2020-01-02 09:15:00  \n",
       "4      2020-01-02 09:20:00  \n",
       "...                    ...  \n",
       "21581  2021-02-24 14:35:00  \n",
       "21582  2021-02-24 14:40:00  \n",
       "21583  2021-02-24 14:45:00  \n",
       "21584  2021-02-24 14:50:00  \n",
       "21585  2021-02-24 14:55:00  \n",
       "\n",
       "[21586 rows x 6 columns]"
      ]
     },
     "execution_count": 72,
     "metadata": {},
     "output_type": "execute_result"
    }
   ],
   "source": [
    "df1"
   ]
  },
  {
   "cell_type": "code",
   "execution_count": 73,
   "metadata": {},
   "outputs": [
    {
     "name": "stdout",
     "output_type": "stream",
     "text": [
      "310 336\n"
     ]
    },
    {
     "data": {
      "application/vnd.plotly.v1+json": {
       "config": {
        "plotlyServerURL": "https://plot.ly"
       },
       "data": [
        {
         "close": [
          699.9825765012989,
          696.6026675035703,
          682.1927931332345,
          669.1539976229021,
          680.3769681158052,
          691.4111855287183,
          698.317273484841,
          704.422919398341,
          710.7205043888006,
          701.1459730398653,
          688.6365210091955,
          682.2139476576722,
          658.2220548027796,
          655.2456685525935,
          662.7275714144318,
          684.309414241103,
          701.4753442355855,
          711.4717108516443,
          696.371101921077,
          698.2262978124386,
          692.9953071825054,
          686.106382928454,
          688.3165099990092,
          695.7410099223603,
          701.7002821410515,
          713.7305728042755
         ],
         "high": [
          712.7850157272035,
          704.7973537479191,
          697.9579838374817,
          687.936311323622,
          681.0241782741697,
          696.394319328695,
          700.6613942200001,
          706.6157253244843,
          714.391262410029,
          709.5784125632687,
          701.9182885139884,
          691.4571263079838,
          688.6680246352312,
          658.8801847316643,
          669.573840163176,
          688.9473386063634,
          702.1056476803398,
          714.2575518858185,
          704.7366484953902,
          701.1297009556986,
          702.2136916496248,
          695.7483259511022,
          691.6150174799217,
          699.3394143480627,
          701.9422805936074,
          714.862053909485
         ],
         "low": [
          698.7066426503394,
          691.78789025695,
          680.8374767993231,
          663.4104794325146,
          676.0508335014375,
          675.3938343158285,
          689.0670647935592,
          696.1244675586978,
          700.7521613771127,
          695.584035509157,
          687.8642055350724,
          679.3933423588838,
          651.7679778252206,
          654.5875386237088,
          649.2441891757984,
          658.0896470491715,
          683.6791107963487,
          698.6895032014112,
          695.4021033430519,
          693.467698777817,
          689.0079133453191,
          683.3533641598572,
          682.8769000722397,
          684.7181055733067,
          695.4990114698044,
          700.5688010358421
         ],
         "open": [
          711.509081876244,
          699.9825765012989,
          696.6026675035703,
          682.1927931332345,
          676.698043659802,
          680.3769681158052,
          691.4111855287183,
          698.317273484841,
          704.422919398341,
          704.0164750325604,
          701.1459730398653,
          688.6365210091955,
          682.2139476576722,
          658.2220548027796,
          656.0904579245425,
          662.7275714144318,
          684.309414241103,
          701.4753442355855,
          703.7676499173651,
          696.371101921077,
          698.2262978124386,
          692.9953071825054,
          686.1754075531521,
          688.3165099990092,
          695.7410099223603,
          701.7002821410515
         ],
         "type": "candlestick",
         "x": [
          "2020-01-08 10:50:00",
          "2020-01-08 10:55:00",
          "2020-01-08 11:00:00",
          "2020-01-08 11:05:00",
          "2020-01-08 11:10:00",
          "2020-01-08 11:15:00",
          "2020-01-08 11:20:00",
          "2020-01-08 11:25:00",
          "2020-01-08 11:30:00",
          "2020-01-08 11:35:00",
          "2020-01-08 11:40:00",
          "2020-01-08 11:45:00",
          "2020-01-08 11:50:00",
          "2020-01-08 11:55:00",
          "2020-01-08 12:00:00",
          "2020-01-08 12:05:00",
          "2020-01-08 12:10:00",
          "2020-01-08 12:15:00",
          "2020-01-08 12:20:00",
          "2020-01-08 12:25:00",
          "2020-01-08 12:30:00",
          "2020-01-08 12:35:00",
          "2020-01-08 12:40:00",
          "2020-01-08 12:45:00",
          "2020-01-08 12:50:00",
          "2020-01-08 12:55:00"
         ]
        }
       ],
       "layout": {
        "template": {
         "data": {
          "bar": [
           {
            "error_x": {
             "color": "#2a3f5f"
            },
            "error_y": {
             "color": "#2a3f5f"
            },
            "marker": {
             "line": {
              "color": "#E5ECF6",
              "width": 0.5
             },
             "pattern": {
              "fillmode": "overlay",
              "size": 10,
              "solidity": 0.2
             }
            },
            "type": "bar"
           }
          ],
          "barpolar": [
           {
            "marker": {
             "line": {
              "color": "#E5ECF6",
              "width": 0.5
             },
             "pattern": {
              "fillmode": "overlay",
              "size": 10,
              "solidity": 0.2
             }
            },
            "type": "barpolar"
           }
          ],
          "carpet": [
           {
            "aaxis": {
             "endlinecolor": "#2a3f5f",
             "gridcolor": "white",
             "linecolor": "white",
             "minorgridcolor": "white",
             "startlinecolor": "#2a3f5f"
            },
            "baxis": {
             "endlinecolor": "#2a3f5f",
             "gridcolor": "white",
             "linecolor": "white",
             "minorgridcolor": "white",
             "startlinecolor": "#2a3f5f"
            },
            "type": "carpet"
           }
          ],
          "choropleth": [
           {
            "colorbar": {
             "outlinewidth": 0,
             "ticks": ""
            },
            "type": "choropleth"
           }
          ],
          "contour": [
           {
            "colorbar": {
             "outlinewidth": 0,
             "ticks": ""
            },
            "colorscale": [
             [
              0,
              "#0d0887"
             ],
             [
              0.1111111111111111,
              "#46039f"
             ],
             [
              0.2222222222222222,
              "#7201a8"
             ],
             [
              0.3333333333333333,
              "#9c179e"
             ],
             [
              0.4444444444444444,
              "#bd3786"
             ],
             [
              0.5555555555555556,
              "#d8576b"
             ],
             [
              0.6666666666666666,
              "#ed7953"
             ],
             [
              0.7777777777777778,
              "#fb9f3a"
             ],
             [
              0.8888888888888888,
              "#fdca26"
             ],
             [
              1,
              "#f0f921"
             ]
            ],
            "type": "contour"
           }
          ],
          "contourcarpet": [
           {
            "colorbar": {
             "outlinewidth": 0,
             "ticks": ""
            },
            "type": "contourcarpet"
           }
          ],
          "heatmap": [
           {
            "colorbar": {
             "outlinewidth": 0,
             "ticks": ""
            },
            "colorscale": [
             [
              0,
              "#0d0887"
             ],
             [
              0.1111111111111111,
              "#46039f"
             ],
             [
              0.2222222222222222,
              "#7201a8"
             ],
             [
              0.3333333333333333,
              "#9c179e"
             ],
             [
              0.4444444444444444,
              "#bd3786"
             ],
             [
              0.5555555555555556,
              "#d8576b"
             ],
             [
              0.6666666666666666,
              "#ed7953"
             ],
             [
              0.7777777777777778,
              "#fb9f3a"
             ],
             [
              0.8888888888888888,
              "#fdca26"
             ],
             [
              1,
              "#f0f921"
             ]
            ],
            "type": "heatmap"
           }
          ],
          "heatmapgl": [
           {
            "colorbar": {
             "outlinewidth": 0,
             "ticks": ""
            },
            "colorscale": [
             [
              0,
              "#0d0887"
             ],
             [
              0.1111111111111111,
              "#46039f"
             ],
             [
              0.2222222222222222,
              "#7201a8"
             ],
             [
              0.3333333333333333,
              "#9c179e"
             ],
             [
              0.4444444444444444,
              "#bd3786"
             ],
             [
              0.5555555555555556,
              "#d8576b"
             ],
             [
              0.6666666666666666,
              "#ed7953"
             ],
             [
              0.7777777777777778,
              "#fb9f3a"
             ],
             [
              0.8888888888888888,
              "#fdca26"
             ],
             [
              1,
              "#f0f921"
             ]
            ],
            "type": "heatmapgl"
           }
          ],
          "histogram": [
           {
            "marker": {
             "pattern": {
              "fillmode": "overlay",
              "size": 10,
              "solidity": 0.2
             }
            },
            "type": "histogram"
           }
          ],
          "histogram2d": [
           {
            "colorbar": {
             "outlinewidth": 0,
             "ticks": ""
            },
            "colorscale": [
             [
              0,
              "#0d0887"
             ],
             [
              0.1111111111111111,
              "#46039f"
             ],
             [
              0.2222222222222222,
              "#7201a8"
             ],
             [
              0.3333333333333333,
              "#9c179e"
             ],
             [
              0.4444444444444444,
              "#bd3786"
             ],
             [
              0.5555555555555556,
              "#d8576b"
             ],
             [
              0.6666666666666666,
              "#ed7953"
             ],
             [
              0.7777777777777778,
              "#fb9f3a"
             ],
             [
              0.8888888888888888,
              "#fdca26"
             ],
             [
              1,
              "#f0f921"
             ]
            ],
            "type": "histogram2d"
           }
          ],
          "histogram2dcontour": [
           {
            "colorbar": {
             "outlinewidth": 0,
             "ticks": ""
            },
            "colorscale": [
             [
              0,
              "#0d0887"
             ],
             [
              0.1111111111111111,
              "#46039f"
             ],
             [
              0.2222222222222222,
              "#7201a8"
             ],
             [
              0.3333333333333333,
              "#9c179e"
             ],
             [
              0.4444444444444444,
              "#bd3786"
             ],
             [
              0.5555555555555556,
              "#d8576b"
             ],
             [
              0.6666666666666666,
              "#ed7953"
             ],
             [
              0.7777777777777778,
              "#fb9f3a"
             ],
             [
              0.8888888888888888,
              "#fdca26"
             ],
             [
              1,
              "#f0f921"
             ]
            ],
            "type": "histogram2dcontour"
           }
          ],
          "mesh3d": [
           {
            "colorbar": {
             "outlinewidth": 0,
             "ticks": ""
            },
            "type": "mesh3d"
           }
          ],
          "parcoords": [
           {
            "line": {
             "colorbar": {
              "outlinewidth": 0,
              "ticks": ""
             }
            },
            "type": "parcoords"
           }
          ],
          "pie": [
           {
            "automargin": true,
            "type": "pie"
           }
          ],
          "scatter": [
           {
            "fillpattern": {
             "fillmode": "overlay",
             "size": 10,
             "solidity": 0.2
            },
            "type": "scatter"
           }
          ],
          "scatter3d": [
           {
            "line": {
             "colorbar": {
              "outlinewidth": 0,
              "ticks": ""
             }
            },
            "marker": {
             "colorbar": {
              "outlinewidth": 0,
              "ticks": ""
             }
            },
            "type": "scatter3d"
           }
          ],
          "scattercarpet": [
           {
            "marker": {
             "colorbar": {
              "outlinewidth": 0,
              "ticks": ""
             }
            },
            "type": "scattercarpet"
           }
          ],
          "scattergeo": [
           {
            "marker": {
             "colorbar": {
              "outlinewidth": 0,
              "ticks": ""
             }
            },
            "type": "scattergeo"
           }
          ],
          "scattergl": [
           {
            "marker": {
             "colorbar": {
              "outlinewidth": 0,
              "ticks": ""
             }
            },
            "type": "scattergl"
           }
          ],
          "scattermapbox": [
           {
            "marker": {
             "colorbar": {
              "outlinewidth": 0,
              "ticks": ""
             }
            },
            "type": "scattermapbox"
           }
          ],
          "scatterpolar": [
           {
            "marker": {
             "colorbar": {
              "outlinewidth": 0,
              "ticks": ""
             }
            },
            "type": "scatterpolar"
           }
          ],
          "scatterpolargl": [
           {
            "marker": {
             "colorbar": {
              "outlinewidth": 0,
              "ticks": ""
             }
            },
            "type": "scatterpolargl"
           }
          ],
          "scatterternary": [
           {
            "marker": {
             "colorbar": {
              "outlinewidth": 0,
              "ticks": ""
             }
            },
            "type": "scatterternary"
           }
          ],
          "surface": [
           {
            "colorbar": {
             "outlinewidth": 0,
             "ticks": ""
            },
            "colorscale": [
             [
              0,
              "#0d0887"
             ],
             [
              0.1111111111111111,
              "#46039f"
             ],
             [
              0.2222222222222222,
              "#7201a8"
             ],
             [
              0.3333333333333333,
              "#9c179e"
             ],
             [
              0.4444444444444444,
              "#bd3786"
             ],
             [
              0.5555555555555556,
              "#d8576b"
             ],
             [
              0.6666666666666666,
              "#ed7953"
             ],
             [
              0.7777777777777778,
              "#fb9f3a"
             ],
             [
              0.8888888888888888,
              "#fdca26"
             ],
             [
              1,
              "#f0f921"
             ]
            ],
            "type": "surface"
           }
          ],
          "table": [
           {
            "cells": {
             "fill": {
              "color": "#EBF0F8"
             },
             "line": {
              "color": "white"
             }
            },
            "header": {
             "fill": {
              "color": "#C8D4E3"
             },
             "line": {
              "color": "white"
             }
            },
            "type": "table"
           }
          ]
         },
         "layout": {
          "annotationdefaults": {
           "arrowcolor": "#2a3f5f",
           "arrowhead": 0,
           "arrowwidth": 1
          },
          "autotypenumbers": "strict",
          "coloraxis": {
           "colorbar": {
            "outlinewidth": 0,
            "ticks": ""
           }
          },
          "colorscale": {
           "diverging": [
            [
             0,
             "#8e0152"
            ],
            [
             0.1,
             "#c51b7d"
            ],
            [
             0.2,
             "#de77ae"
            ],
            [
             0.3,
             "#f1b6da"
            ],
            [
             0.4,
             "#fde0ef"
            ],
            [
             0.5,
             "#f7f7f7"
            ],
            [
             0.6,
             "#e6f5d0"
            ],
            [
             0.7,
             "#b8e186"
            ],
            [
             0.8,
             "#7fbc41"
            ],
            [
             0.9,
             "#4d9221"
            ],
            [
             1,
             "#276419"
            ]
           ],
           "sequential": [
            [
             0,
             "#0d0887"
            ],
            [
             0.1111111111111111,
             "#46039f"
            ],
            [
             0.2222222222222222,
             "#7201a8"
            ],
            [
             0.3333333333333333,
             "#9c179e"
            ],
            [
             0.4444444444444444,
             "#bd3786"
            ],
            [
             0.5555555555555556,
             "#d8576b"
            ],
            [
             0.6666666666666666,
             "#ed7953"
            ],
            [
             0.7777777777777778,
             "#fb9f3a"
            ],
            [
             0.8888888888888888,
             "#fdca26"
            ],
            [
             1,
             "#f0f921"
            ]
           ],
           "sequentialminus": [
            [
             0,
             "#0d0887"
            ],
            [
             0.1111111111111111,
             "#46039f"
            ],
            [
             0.2222222222222222,
             "#7201a8"
            ],
            [
             0.3333333333333333,
             "#9c179e"
            ],
            [
             0.4444444444444444,
             "#bd3786"
            ],
            [
             0.5555555555555556,
             "#d8576b"
            ],
            [
             0.6666666666666666,
             "#ed7953"
            ],
            [
             0.7777777777777778,
             "#fb9f3a"
            ],
            [
             0.8888888888888888,
             "#fdca26"
            ],
            [
             1,
             "#f0f921"
            ]
           ]
          },
          "colorway": [
           "#636efa",
           "#EF553B",
           "#00cc96",
           "#ab63fa",
           "#FFA15A",
           "#19d3f3",
           "#FF6692",
           "#B6E880",
           "#FF97FF",
           "#FECB52"
          ],
          "font": {
           "color": "#2a3f5f"
          },
          "geo": {
           "bgcolor": "white",
           "lakecolor": "white",
           "landcolor": "#E5ECF6",
           "showlakes": true,
           "showland": true,
           "subunitcolor": "white"
          },
          "hoverlabel": {
           "align": "left"
          },
          "hovermode": "closest",
          "mapbox": {
           "style": "light"
          },
          "paper_bgcolor": "white",
          "plot_bgcolor": "#E5ECF6",
          "polar": {
           "angularaxis": {
            "gridcolor": "white",
            "linecolor": "white",
            "ticks": ""
           },
           "bgcolor": "#E5ECF6",
           "radialaxis": {
            "gridcolor": "white",
            "linecolor": "white",
            "ticks": ""
           }
          },
          "scene": {
           "xaxis": {
            "backgroundcolor": "#E5ECF6",
            "gridcolor": "white",
            "gridwidth": 2,
            "linecolor": "white",
            "showbackground": true,
            "ticks": "",
            "zerolinecolor": "white"
           },
           "yaxis": {
            "backgroundcolor": "#E5ECF6",
            "gridcolor": "white",
            "gridwidth": 2,
            "linecolor": "white",
            "showbackground": true,
            "ticks": "",
            "zerolinecolor": "white"
           },
           "zaxis": {
            "backgroundcolor": "#E5ECF6",
            "gridcolor": "white",
            "gridwidth": 2,
            "linecolor": "white",
            "showbackground": true,
            "ticks": "",
            "zerolinecolor": "white"
           }
          },
          "shapedefaults": {
           "line": {
            "color": "#2a3f5f"
           }
          },
          "ternary": {
           "aaxis": {
            "gridcolor": "white",
            "linecolor": "white",
            "ticks": ""
           },
           "baxis": {
            "gridcolor": "white",
            "linecolor": "white",
            "ticks": ""
           },
           "bgcolor": "#E5ECF6",
           "caxis": {
            "gridcolor": "white",
            "linecolor": "white",
            "ticks": ""
           }
          },
          "title": {
           "x": 0.05
          },
          "xaxis": {
           "automargin": true,
           "gridcolor": "white",
           "linecolor": "white",
           "ticks": "",
           "title": {
            "standoff": 15
           },
           "zerolinecolor": "white",
           "zerolinewidth": 2
          },
          "yaxis": {
           "automargin": true,
           "gridcolor": "white",
           "linecolor": "white",
           "ticks": "",
           "title": {
            "standoff": 15
           },
           "zerolinecolor": "white",
           "zerolinewidth": 2
          }
         }
        },
        "title": {
         "text": "Only RHAS Portion"
        },
        "xaxis": {
         "rangeslider": {
          "visible": false
         }
        }
       }
      }
     },
     "metadata": {},
     "output_type": "display_data"
    }
   ],
   "source": [
    "indx = df1.query(\"date == '2020-01-08 10:50:00' | date == '2020-01-08 13:00:00'\").index\n",
    "start,end = indx[0],indx[1]\n",
    "print(start,end)\n",
    "rhas = df1.iloc[start:end,:]\n",
    "draw_candlesticks(rhas,'Only RHAS Portion',xaxis_rangeslider_visible=False)"
   ]
  },
  {
   "attachments": {},
   "cell_type": "markdown",
   "metadata": {},
   "source": [
    "# FUNCTION TO GET HIGHLIGHTED PORTION WHERE PATTERN IS FORMED"
   ]
  },
  {
   "cell_type": "code",
   "execution_count": 408,
   "metadata": {},
   "outputs": [],
   "source": [
    "def highlightPattern(data:pd.DataFrame(),pattern:pd.DataFrame(),indx)->pd.DataFrame():\n",
    "    \"\"\"\n",
    "        Data contains candlestick information, whereas pattern dataframe contains all pattern formed along with their time.\n",
    "    \"\"\"\n",
    "    startTime,endTime = pattern['start'].iloc[indx],pattern['end'].iloc[indx]\n",
    "    patternType = pattern['pattern'].iloc[indx]\n",
    "    indx = data.query(f\"date == '{startTime}' | date == '{endTime}'\").index\n",
    "    start,end = indx[0],indx[1]\n",
    "    new_df = data.iloc[start:end,:]\n",
    "    return new_df,patternType"
   ]
  },
  {
   "cell_type": "code",
   "execution_count": 409,
   "metadata": {},
   "outputs": [],
   "source": [
    "a=len(pattern1);b=len(pattern2);c=len(pattern3);d=len(pattern4)\n",
    "for i in range(a):\n",
    "    dfx,ptype = highlightPattern(df1,pattern1,i)\n",
    "    draw_candlesticks(dfx,ptype,xaxis_rangeslider_visible=False,save=True,image=f'{ptype}/image{i}.png',show=False)\n",
    "\n",
    "for j in range(b):\n",
    "    dfx,ptype = highlightPattern(df2,pattern2,j)\n",
    "    draw_candlesticks(dfx,ptype,xaxis_rangeslider_visible=False,save=True,image=f'{ptype}/image{j+a}.png',show=False)\n",
    "\n",
    "for k in range(c):\n",
    "    dfx,ptype = highlightPattern(df3,pattern3,k)\n",
    "    draw_candlesticks(dfx,ptype,xaxis_rangeslider_visible=False,save=True,image=f'{ptype}/image{k+a+b}.png',show=False)\n",
    "\n",
    "for l in range(d):\n",
    "    dfx,ptype = highlightPattern(df4,pattern4,l)\n",
    "    draw_candlesticks(dfx,ptype,xaxis_rangeslider_visible=False,save=True,image=f'{ptype}/image{l+a+b+c}.png',show=False)"
   ]
  },
  {
   "attachments": {},
   "cell_type": "markdown",
   "metadata": {},
   "source": [
    "All Images are of 500 X 700 X 3"
   ]
  },
  {
   "cell_type": "code",
   "execution_count": 268,
   "metadata": {},
   "outputs": [
    {
     "name": "stdout",
     "output_type": "stream",
     "text": [
      "(500, 700, 3)\n"
     ]
    }
   ],
   "source": [
    "img = cv2.imread('StockImages/Double Bottom/image12.png')\n",
    "print(img.shape)\n",
    "img = img[100:420,80:620] # 320 * 540\n",
    "\n",
    "cv2.imshow('image',img)\n",
    "cv2.waitKey(0)\n",
    "cv2.destroyAllWindows()"
   ]
  },
  {
   "cell_type": "code",
   "execution_count": 269,
   "metadata": {},
   "outputs": [
    {
     "data": {
      "text/plain": [
       "(320, 540, 3)"
      ]
     },
     "execution_count": 269,
     "metadata": {},
     "output_type": "execute_result"
    }
   ],
   "source": [
    "img.shape"
   ]
  },
  {
   "cell_type": "code",
   "execution_count": 270,
   "metadata": {},
   "outputs": [
    {
     "data": {
      "text/plain": [
       "(64.0, 108.0)"
      ]
     },
     "execution_count": 270,
     "metadata": {},
     "output_type": "execute_result"
    }
   ],
   "source": [
    "import math\n",
    "320/5,540/5"
   ]
  },
  {
   "cell_type": "code",
   "execution_count": 271,
   "metadata": {},
   "outputs": [],
   "source": [
    "res_img = cv2.resize(img,(108,64))\n",
    "cv2.imshow('image',res_img)\n",
    "cv2.waitKey(0)\n",
    "cv2.destroyAllWindows()"
   ]
  },
  {
   "cell_type": "code",
   "execution_count": 272,
   "metadata": {},
   "outputs": [
    {
     "data": {
      "text/plain": [
       "(64, 108, 3)"
      ]
     },
     "execution_count": 272,
     "metadata": {},
     "output_type": "execute_result"
    }
   ],
   "source": [
    "res_img.shape"
   ]
  },
  {
   "attachments": {},
   "cell_type": "markdown",
   "metadata": {},
   "source": [
    "# PROCESSING THE IMAGE (RESHAPING, RESIZING AND RGB2GRAY)\n",
    "to reduce space and unnecssary details"
   ]
  },
  {
   "cell_type": "code",
   "execution_count": 486,
   "metadata": {},
   "outputs": [],
   "source": [
    "def convertGreyScale(path):\n",
    "    \"\"\"\n",
    "        Converts RGB image to grey scale image\n",
    "    \"\"\"\n",
    "    img = cv2.imread(path)\n",
    "    grey = cv2.cvtColor(img,cv2.COLOR_BGR2GRAY)\n",
    "    cv2.imwrite(path,grey)"
   ]
  },
  {
   "cell_type": "code",
   "execution_count": 442,
   "metadata": {},
   "outputs": [],
   "source": [
    "path = os.path.join('dummy.png')\n",
    "convertGreyScale(path)"
   ]
  },
  {
   "cell_type": "code",
   "execution_count": 487,
   "metadata": {},
   "outputs": [],
   "source": [
    "def processImage(img,savepath):\n",
    "    \"\"\" \n",
    "        Reshape and Resize the image\n",
    "    \"\"\"\n",
    "    if(img.shape!=(500, 700, 3)):\n",
    "        return\n",
    "    img = img[100:420,80:620]\n",
    "    res_img = cv2.resize(img,(108,64))\n",
    "    grey = cv2.cvtColor(res_img,cv2.COLOR_BGR2GRAY)\n",
    "    cv2.imwrite(savepath,grey)"
   ]
  },
  {
   "cell_type": "code",
   "execution_count": 411,
   "metadata": {},
   "outputs": [
    {
     "name": "stdout",
     "output_type": "stream",
     "text": [
      "['Double Bottom', 'Double Top', 'Head and shoulders', 'No Pattern', 'No Pattern Compressed', 'Reverse Head and shoulders']\n"
     ]
    }
   ],
   "source": [
    "folder = 'StockImages'\n",
    "imagedir = os.listdir(folder)\n",
    "print(imagedir)"
   ]
  },
  {
   "cell_type": "code",
   "execution_count": 412,
   "metadata": {},
   "outputs": [],
   "source": [
    "for file1 in imagedir:\n",
    "    for file2 in os.listdir(os.path.join(folder,file1)):\n",
    "        img = cv2.imread(os.path.join(folder,file1,file2))\n",
    "        processImage(img,os.path.join('StockImages',file1,file2))"
   ]
  },
  {
   "attachments": {},
   "cell_type": "markdown",
   "metadata": {},
   "source": [
    "### CREATING NO PATTERN DUMMY DATA"
   ]
  },
  {
   "cell_type": "code",
   "execution_count": 309,
   "metadata": {},
   "outputs": [
    {
     "data": {
      "text/plain": [
       "True"
      ]
     },
     "execution_count": 309,
     "metadata": {},
     "output_type": "execute_result"
    }
   ],
   "source": [
    "pd.to_datetime(df1['date'].iloc[0]).date()==pd.to_datetime(df1['date'].iloc[71]).date()"
   ]
  },
  {
   "cell_type": "code",
   "execution_count": 488,
   "metadata": {},
   "outputs": [],
   "source": [
    "## getting no pattern data\n",
    "def createdummy(start,end,data):\n",
    "    \"\"\"\n",
    "        Create Data between Start and end in dataframe\n",
    "    \"\"\"\n",
    "    new_df = data.iloc[start:end]\n",
    "    return new_df"
   ]
  },
  {
   "cell_type": "code",
   "execution_count": 489,
   "metadata": {},
   "outputs": [],
   "source": [
    "def randomData(data:pd.DataFrame(),pattern:pd.DataFrame(),hrs,indx):\n",
    "    \"\"\"\n",
    "        Generates Random data for hours hrs specified \n",
    "    \"\"\"\n",
    "    jump = hrs*60//5\n",
    "    n = len(data)\n",
    "    for i in range(0,n-jump,jump):\n",
    "        dfx=createdummy(i,i+jump,data) # 3hr data\n",
    "        pattdf = pattern.query(f\"start=='{dfx['date'].iloc[0]}' | end=='{dfx['date'].iloc[jump-1]}'\")\n",
    "        if(len(pattdf)==0 and pd.to_datetime(dfx['date'].iloc[0]).date()==pd.to_datetime(dfx['date'].iloc[jump-1]).date()):\n",
    "            draw_candlesticks(dfx,'No Pattern',xaxis_rangeslider_visible=False,save=True,image=f'No Pattern/image{i+indx}.png',show=False)"
   ]
  },
  {
   "cell_type": "code",
   "execution_count": 317,
   "metadata": {},
   "outputs": [],
   "source": [
    "indx = 0\n",
    "randomData(df1,pattern1,3,indx)"
   ]
  },
  {
   "cell_type": "code",
   "execution_count": 318,
   "metadata": {},
   "outputs": [],
   "source": [
    "indx += len(df1)\n",
    "randomData(df2,pattern2,3,indx)"
   ]
  },
  {
   "cell_type": "code",
   "execution_count": 320,
   "metadata": {},
   "outputs": [],
   "source": [
    "indx += len(df2) \n",
    "randomData(df3,pattern3,3,indx)"
   ]
  },
  {
   "cell_type": "code",
   "execution_count": 321,
   "metadata": {},
   "outputs": [],
   "source": [
    "indx += len(df3) \n",
    "randomData(df4,pattern4,3,indx)"
   ]
  },
  {
   "cell_type": "code",
   "execution_count": 415,
   "metadata": {},
   "outputs": [
    {
     "data": {
      "text/plain": [
       "2922"
      ]
     },
     "execution_count": 415,
     "metadata": {},
     "output_type": "execute_result"
    }
   ],
   "source": [
    "## preprocess the data\n",
    "len(os.listdir(os.path.join('StockImages','No Pattern')))"
   ]
  },
  {
   "cell_type": "code",
   "execution_count": 416,
   "metadata": {},
   "outputs": [
    {
     "name": "stdout",
     "output_type": "stream",
     "text": [
      "StockImages\\No Pattern\n"
     ]
    }
   ],
   "source": [
    "path = os.path.join('StockImages','No Pattern')\n",
    "print(path)"
   ]
  },
  {
   "cell_type": "code",
   "execution_count": 324,
   "metadata": {},
   "outputs": [],
   "source": [
    "for image in os.listdir(path):\n",
    "    img = cv2.imread(os.path.join(path,image))\n",
    "    processImage(img,os.path.join(path,image))"
   ]
  },
  {
   "cell_type": "code",
   "execution_count": 420,
   "metadata": {},
   "outputs": [
    {
     "name": "stdout",
     "output_type": "stream",
     "text": [
      "2922\n",
      "1200\n"
     ]
    }
   ],
   "source": [
    "# since data is too large, only keeping random 1200 images of no pattern\n",
    "import shutil\n",
    "src = os.path.join('StockImages','No Pattern')\n",
    "dest = os.path.join('StockImages','No Pattern Compressed')\n",
    "\n",
    "images = os.listdir(src)\n",
    "print(len(images))\n",
    "collect = random.sample(images,1200)\n",
    "print(len(collect))\n",
    "for files in collect:\n",
    "    shutil.copyfile(os.path.join(src,files),os.path.join(dest,files))"
   ]
  },
  {
   "attachments": {},
   "cell_type": "markdown",
   "metadata": {},
   "source": [
    "# CREATING DATA CAPABLE OF TRAINING"
   ]
  },
  {
   "cell_type": "code",
   "execution_count": 421,
   "metadata": {},
   "outputs": [
    {
     "data": {
      "text/plain": [
       "{0: 'No Pattern',\n",
       " 1: 'Double Bottom',\n",
       " 2: 'Double Top',\n",
       " 3: 'Head and Shoulders',\n",
       " 4: 'Reverse Head and Shoulders'}"
      ]
     },
     "execution_count": 421,
     "metadata": {},
     "output_type": "execute_result"
    }
   ],
   "source": [
    "pattern_val = {0:'No Pattern',1:'Double Bottom',2:'Double Top',3:'Head and Shoulders',4:'Reverse Head and Shoulders'}\n",
    "pattern_val"
   ]
  },
  {
   "cell_type": "code",
   "execution_count": 422,
   "metadata": {},
   "outputs": [],
   "source": [
    "X = []\n",
    "y = []\n",
    "path0 = os.path.join('StockImages','No Pattern')\n",
    "path1 = os.path.join('StockImages','Double Bottom')\n",
    "path2 = os.path.join('StockImages','Double Top')\n",
    "path3 = os.path.join('StockImages','Head and Shoulders')\n",
    "path4 = os.path.join('StockImages','Reverse Head and Shoulders')\n",
    "\n",
    "for i in os.listdir(path0):\n",
    "    img = cv2.imread(os.path.join(path0,i))\n",
    "    X.append(img)\n",
    "    y.append(0)\n",
    "\n",
    "for i in os.listdir(path1):\n",
    "    img = cv2.imread(os.path.join(path1,i))\n",
    "    X.append(img)\n",
    "    y.append(1)\n",
    "\n",
    "for i in os.listdir(path2):\n",
    "    img = cv2.imread(os.path.join(path2,i))\n",
    "    X.append(img)\n",
    "    y.append(2)\n",
    "\n",
    "for i in os.listdir(path3):\n",
    "    img = cv2.imread(os.path.join(path3,i))\n",
    "    X.append(img)\n",
    "    y.append(3)\n",
    "\n",
    "for i in os.listdir(path4):\n",
    "    img = cv2.imread(os.path.join(path4,i))\n",
    "    X.append(img)\n",
    "    y.append(4)"
   ]
  },
  {
   "cell_type": "code",
   "execution_count": 448,
   "metadata": {},
   "outputs": [],
   "source": [
    "X = np.array(X)\n",
    "y = np.array(y)"
   ]
  },
  {
   "cell_type": "code",
   "execution_count": 452,
   "metadata": {},
   "outputs": [],
   "source": [
    "from keras.utils import np_utils\n",
    "y = np_utils.to_categorical(y)"
   ]
  },
  {
   "cell_type": "code",
   "execution_count": 453,
   "metadata": {},
   "outputs": [
    {
     "name": "stdout",
     "output_type": "stream",
     "text": [
      "(3687, 64, 108, 3)\n",
      "(3687, 5)\n"
     ]
    }
   ],
   "source": [
    "# 3687 pattern images of size 64 X 108 (RGB) \n",
    "print(X.shape)\n",
    "print(y.shape)"
   ]
  },
  {
   "cell_type": "code",
   "execution_count": 454,
   "metadata": {},
   "outputs": [],
   "source": [
    "# shuffle the array\n",
    "shuff = np.random.permutation(X.shape[0])\n",
    "X = X[shuff]\n",
    "y = y[shuff]\n",
    "shuff = np.random.permutation(X.shape[0])\n",
    "X = X[shuff]\n",
    "y = y[shuff]"
   ]
  },
  {
   "cell_type": "code",
   "execution_count": 455,
   "metadata": {},
   "outputs": [],
   "source": [
    "from sklearn.model_selection import train_test_split\n",
    "\n",
    "X_train,X_test,y_train,y_test = train_test_split(X,y,random_state=40,test_size=0.25,stratify=y)"
   ]
  },
  {
   "cell_type": "code",
   "execution_count": 456,
   "metadata": {},
   "outputs": [
    {
     "name": "stdout",
     "output_type": "stream",
     "text": [
      "(2765, 64, 108, 3)\n",
      "(2765, 5)\n",
      "(922, 64, 108, 3)\n",
      "(922, 5)\n"
     ]
    }
   ],
   "source": [
    "print(X_train.shape)\n",
    "print(y_train.shape)\n",
    "\n",
    "print(X_test.shape)\n",
    "print(y_test.shape)"
   ]
  },
  {
   "cell_type": "code",
   "execution_count": 438,
   "metadata": {},
   "outputs": [
    {
     "data": {
      "text/plain": [
       "<matplotlib.image.AxesImage at 0x1daa74c2130>"
      ]
     },
     "execution_count": 438,
     "metadata": {},
     "output_type": "execute_result"
    },
    {
     "data": {
      "image/png": "[encoded data removed]",
      "text/plain": [
       "<Figure size 432x288 with 1 Axes>"
      ]
     },
     "metadata": {
      "needs_background": "light"
     },
     "output_type": "display_data"
    }
   ],
   "source": [
    "plt.imshow(X_train[0])"
   ]
  },
  {
   "attachments": {},
   "cell_type": "markdown",
   "metadata": {},
   "source": [
    "### PREPROCESSING DATA -> NORMALIZE /255"
   ]
  },
  {
   "cell_type": "code",
   "execution_count": 457,
   "metadata": {},
   "outputs": [],
   "source": [
    "X_train=X_train/255\n",
    "X_test=X_test/255"
   ]
  },
  {
   "cell_type": "code",
   "execution_count": 440,
   "metadata": {},
   "outputs": [
    {
     "data": {
      "text/plain": [
       "<matplotlib.image.AxesImage at 0x1daa75f1760>"
      ]
     },
     "execution_count": 440,
     "metadata": {},
     "output_type": "execute_result"
    },
    {
     "data": {
      "image/png": "[encoded data removed]",
      "text/plain": [
       "<Figure size 432x288 with 1 Axes>"
      ]
     },
     "metadata": {
      "needs_background": "light"
     },
     "output_type": "display_data"
    }
   ],
   "source": [
    "plt.imshow(X_train[0])"
   ]
  },
  {
   "attachments": {},
   "cell_type": "markdown",
   "metadata": {},
   "source": [
    "# CNN ARCHITECTURE"
   ]
  },
  {
   "cell_type": "code",
   "execution_count": 460,
   "metadata": {},
   "outputs": [],
   "source": [
    "from keras.models import Sequential,Model\n",
    "from keras.layers import Dense,Flatten"
   ]
  },
  {
   "cell_type": "code",
   "execution_count": 459,
   "metadata": {},
   "outputs": [
    {
     "name": "stdout",
     "output_type": "stream",
     "text": [
      "Downloading data from https://storage.googleapis.com/tensorflow/keras-applications/vgg16/vgg16_weights_tf_dim_ordering_tf_kernels_notop.h5\n",
      "58892288/58889256 [==============================] - 78s 1us/step\n",
      "58900480/58889256 [==============================] - 78s 1us/step\n"
     ]
    }
   ],
   "source": [
    "from keras.applications import vgg16\n",
    "\n",
    "vgg = vgg16.VGG16(input_shape=(64,108,3),weights='imagenet',include_top=False) # it is trained for 1000 class classification task hence, removing output layer\n",
    "\n",
    "# don't let the model to train weights, it is already trained\n",
    "for layer in vgg.layers:\n",
    "    layer.trainable = False"
   ]
  },
  {
   "cell_type": "code",
   "execution_count": 461,
   "metadata": {},
   "outputs": [
    {
     "name": "stdout",
     "output_type": "stream",
     "text": [
      "Model: \"model\"\n",
      "_________________________________________________________________\n",
      " Layer (type)                Output Shape              Param #   \n",
      "=================================================================\n",
      " input_4 (InputLayer)        [(None, 64, 108, 3)]      0         \n",
      "                                                                 \n",
      " block1_conv1 (Conv2D)       (None, 64, 108, 64)       1792      \n",
      "                                                                 \n",
      " block1_conv2 (Conv2D)       (None, 64, 108, 64)       36928     \n",
      "                                                                 \n",
      " block1_pool (MaxPooling2D)  (None, 32, 54, 64)        0         \n",
      "                                                                 \n",
      " block2_conv1 (Conv2D)       (None, 32, 54, 128)       73856     \n",
      "                                                                 \n",
      " block2_conv2 (Conv2D)       (None, 32, 54, 128)       147584    \n",
      "                                                                 \n",
      " block2_pool (MaxPooling2D)  (None, 16, 27, 128)       0         \n",
      "                                                                 \n",
      " block3_conv1 (Conv2D)       (None, 16, 27, 256)       295168    \n",
      "                                                                 \n",
      " block3_conv2 (Conv2D)       (None, 16, 27, 256)       590080    \n",
      "                                                                 \n",
      " block3_conv3 (Conv2D)       (None, 16, 27, 256)       590080    \n",
      "                                                                 \n",
      " block3_pool (MaxPooling2D)  (None, 8, 13, 256)        0         \n",
      "                                                                 \n",
      " block4_conv1 (Conv2D)       (None, 8, 13, 512)        1180160   \n",
      "                                                                 \n",
      " block4_conv2 (Conv2D)       (None, 8, 13, 512)        2359808   \n",
      "                                                                 \n",
      " block4_conv3 (Conv2D)       (None, 8, 13, 512)        2359808   \n",
      "                                                                 \n",
      " block4_pool (MaxPooling2D)  (None, 4, 6, 512)         0         \n",
      "                                                                 \n",
      " block5_conv1 (Conv2D)       (None, 4, 6, 512)         2359808   \n",
      "                                                                 \n",
      " block5_conv2 (Conv2D)       (None, 4, 6, 512)         2359808   \n",
      "                                                                 \n",
      " block5_conv3 (Conv2D)       (None, 4, 6, 512)         2359808   \n",
      "                                                                 \n",
      " block5_pool (MaxPooling2D)  (None, 2, 3, 512)         0         \n",
      "                                                                 \n",
      " flatten (Flatten)           (None, 3072)              0         \n",
      "                                                                 \n",
      " dense (Dense)               (None, 5)                 15365     \n",
      "                                                                 \n",
      "=================================================================\n",
      "Total params: 14,730,053\n",
      "Trainable params: 15,365\n",
      "Non-trainable params: 14,714,688\n",
      "_________________________________________________________________\n"
     ]
    }
   ],
   "source": [
    "flat = Flatten()(vgg.output)\n",
    "\n",
    "final = Dense(5,activation='softmax')(flat)\n",
    "\n",
    "model = Model(inputs=vgg.input,outputs=final)\n",
    "model.summary()"
   ]
  },
  {
   "cell_type": "code",
   "execution_count": 462,
   "metadata": {},
   "outputs": [],
   "source": [
    "model.compile(loss='categorical_crossentropy',optimizer='adam',metrics=['accuracy'])"
   ]
  },
  {
   "cell_type": "code",
   "execution_count": 464,
   "metadata": {},
   "outputs": [
    {
     "name": "stdout",
     "output_type": "stream",
     "text": [
      "Epoch 1/20\n",
      "87/87 [==============================] - 97s 1s/step - loss: 0.3231 - accuracy: 0.9081 - val_loss: 0.1569 - val_accuracy: 0.9696\n",
      "Epoch 2/20\n",
      "87/87 [==============================] - 106s 1s/step - loss: 0.1018 - accuracy: 0.9928 - val_loss: 0.0790 - val_accuracy: 0.9967\n",
      "Epoch 3/20\n",
      "87/87 [==============================] - 103s 1s/step - loss: 0.0585 - accuracy: 0.9967 - val_loss: 0.0538 - val_accuracy: 0.9989\n",
      "Epoch 4/20\n",
      "87/87 [==============================] - 101s 1s/step - loss: 0.0397 - accuracy: 0.9982 - val_loss: 0.0391 - val_accuracy: 1.0000\n",
      "Epoch 5/20\n",
      "87/87 [==============================] - 104s 1s/step - loss: 0.0298 - accuracy: 0.9989 - val_loss: 0.0321 - val_accuracy: 0.9967\n",
      "Epoch 6/20\n",
      "87/87 [==============================] - 102s 1s/step - loss: 0.0240 - accuracy: 0.9986 - val_loss: 0.0268 - val_accuracy: 0.9978\n",
      "Epoch 7/20\n",
      "87/87 [==============================] - 101s 1s/step - loss: 0.0199 - accuracy: 0.9989 - val_loss: 0.0205 - val_accuracy: 1.0000\n",
      "Epoch 8/20\n",
      "87/87 [==============================] - 102s 1s/step - loss: 0.0165 - accuracy: 0.9993 - val_loss: 0.0179 - val_accuracy: 1.0000\n",
      "Epoch 9/20\n",
      "87/87 [==============================] - 102s 1s/step - loss: 0.0146 - accuracy: 0.9996 - val_loss: 0.0159 - val_accuracy: 1.0000\n",
      "Epoch 10/20\n",
      "87/87 [==============================] - 101s 1s/step - loss: 0.0119 - accuracy: 0.9996 - val_loss: 0.0139 - val_accuracy: 1.0000\n",
      "Epoch 11/20\n",
      "87/87 [==============================] - 101s 1s/step - loss: 0.0106 - accuracy: 0.9996 - val_loss: 0.0128 - val_accuracy: 1.0000\n",
      "Epoch 12/20\n",
      "87/87 [==============================] - 102s 1s/step - loss: 0.0094 - accuracy: 0.9996 - val_loss: 0.0122 - val_accuracy: 1.0000\n",
      "Epoch 13/20\n",
      "87/87 [==============================] - 101s 1s/step - loss: 0.0084 - accuracy: 0.9996 - val_loss: 0.0105 - val_accuracy: 1.0000\n",
      "Epoch 14/20\n",
      "87/87 [==============================] - 100s 1s/step - loss: 0.0077 - accuracy: 0.9996 - val_loss: 0.0096 - val_accuracy: 1.0000\n",
      "Epoch 15/20\n",
      "87/87 [==============================] - 104s 1s/step - loss: 0.0070 - accuracy: 0.9996 - val_loss: 0.0085 - val_accuracy: 1.0000\n",
      "Epoch 16/20\n",
      "87/87 [==============================] - 102s 1s/step - loss: 0.0063 - accuracy: 0.9996 - val_loss: 0.0080 - val_accuracy: 1.0000\n",
      "Epoch 17/20\n",
      "87/87 [==============================] - 101s 1s/step - loss: 0.0057 - accuracy: 0.9996 - val_loss: 0.0074 - val_accuracy: 1.0000\n",
      "Epoch 18/20\n",
      "87/87 [==============================] - 100s 1s/step - loss: 0.0053 - accuracy: 0.9996 - val_loss: 0.0073 - val_accuracy: 1.0000\n",
      "Epoch 19/20\n",
      "87/87 [==============================] - 106s 1s/step - loss: 0.0048 - accuracy: 0.9996 - val_loss: 0.0072 - val_accuracy: 1.0000\n",
      "Epoch 20/20\n",
      "87/87 [==============================] - 114s 1s/step - loss: 0.0044 - accuracy: 0.9996 - val_loss: 0.0060 - val_accuracy: 1.0000\n"
     ]
    },
    {
     "data": {
      "text/plain": [
       "<keras.callbacks.History at 0x1daa9c45fa0>"
      ]
     },
     "execution_count": 464,
     "metadata": {},
     "output_type": "execute_result"
    }
   ],
   "source": [
    "model.fit(X_train,y_train,epochs=20,validation_data=(X_test,y_test),verbose=1)"
   ]
  },
  {
   "cell_type": "code",
   "execution_count": 465,
   "metadata": {},
   "outputs": [
    {
     "name": "stdout",
     "output_type": "stream",
     "text": [
      "29/29 [==============================] - 26s 907ms/step - loss: 0.0060 - accuracy: 1.0000\n",
      "Loss : 0.005959427449852228 , Accuracy : 1.0\n"
     ]
    }
   ],
   "source": [
    "score = model.evaluate(X_test,y_test)\n",
    "print(f'Loss : {score[0]} , Accuracy : {score[1]}')"
   ]
  },
  {
   "cell_type": "code",
   "execution_count": 503,
   "metadata": {},
   "outputs": [
    {
     "data": {
      "text/plain": [
       "(64, 108, 3)"
      ]
     },
     "execution_count": 503,
     "metadata": {},
     "output_type": "execute_result"
    }
   ],
   "source": [
    "X_test[0].shape"
   ]
  },
  {
   "cell_type": "code",
   "execution_count": 506,
   "metadata": {},
   "outputs": [],
   "source": [
    "val = model.predict(X_test)"
   ]
  },
  {
   "cell_type": "code",
   "execution_count": 466,
   "metadata": {},
   "outputs": [],
   "source": [
    "model.save('model_vgg16.h5')"
   ]
  },
  {
   "attachments": {},
   "cell_type": "markdown",
   "metadata": {},
   "source": [
    "### PREDICTION -> DIRECT FUNCTION AT LAST"
   ]
  },
  {
   "cell_type": "code",
   "execution_count": 468,
   "metadata": {},
   "outputs": [
    {
     "data": {
      "text/html": [
       "<div>\n",
       "<style scoped>\n",
       "    .dataframe tbody tr th:only-of-type {\n",
       "        vertical-align: middle;\n",
       "    }\n",
       "\n",
       "    .dataframe tbody tr th {\n",
       "        vertical-align: top;\n",
       "    }\n",
       "\n",
       "    .dataframe thead th {\n",
       "        text-align: right;\n",
       "    }\n",
       "</style>\n",
       "<table border=\"1\" class=\"dataframe\">\n",
       "  <thead>\n",
       "    <tr style=\"text-align: right;\">\n",
       "      <th></th>\n",
       "      <th>Unnamed: 0</th>\n",
       "      <th>open</th>\n",
       "      <th>close</th>\n",
       "      <th>low</th>\n",
       "      <th>high</th>\n",
       "      <th>date</th>\n",
       "    </tr>\n",
       "  </thead>\n",
       "  <tbody>\n",
       "    <tr>\n",
       "      <th>0</th>\n",
       "      <td>0</td>\n",
       "      <td>1541.130000</td>\n",
       "      <td>1547.777449</td>\n",
       "      <td>1536.242463</td>\n",
       "      <td>1552.664986</td>\n",
       "      <td>2020-01-02 09:00:00</td>\n",
       "    </tr>\n",
       "    <tr>\n",
       "      <th>1</th>\n",
       "      <td>1</td>\n",
       "      <td>1547.777449</td>\n",
       "      <td>1550.119675</td>\n",
       "      <td>1535.531174</td>\n",
       "      <td>1562.365950</td>\n",
       "      <td>2020-01-02 09:05:00</td>\n",
       "    </tr>\n",
       "    <tr>\n",
       "      <th>2</th>\n",
       "      <td>2</td>\n",
       "      <td>1550.119675</td>\n",
       "      <td>1555.196241</td>\n",
       "      <td>1541.053843</td>\n",
       "      <td>1564.262073</td>\n",
       "      <td>2020-01-02 09:10:00</td>\n",
       "    </tr>\n",
       "    <tr>\n",
       "      <th>3</th>\n",
       "      <td>3</td>\n",
       "      <td>1555.196241</td>\n",
       "      <td>1562.850000</td>\n",
       "      <td>1547.670809</td>\n",
       "      <td>1570.375432</td>\n",
       "      <td>2020-01-02 09:15:00</td>\n",
       "    </tr>\n",
       "    <tr>\n",
       "      <th>4</th>\n",
       "      <td>4</td>\n",
       "      <td>1562.850000</td>\n",
       "      <td>1565.715472</td>\n",
       "      <td>1557.312400</td>\n",
       "      <td>1571.253072</td>\n",
       "      <td>2020-01-02 09:20:00</td>\n",
       "    </tr>\n",
       "    <tr>\n",
       "      <th>...</th>\n",
       "      <td>...</td>\n",
       "      <td>...</td>\n",
       "      <td>...</td>\n",
       "      <td>...</td>\n",
       "      <td>...</td>\n",
       "      <td>...</td>\n",
       "    </tr>\n",
       "    <tr>\n",
       "      <th>21590</th>\n",
       "      <td>67</td>\n",
       "      <td>29292.257173</td>\n",
       "      <td>29752.035126</td>\n",
       "      <td>29130.933279</td>\n",
       "      <td>29913.359020</td>\n",
       "      <td>2021-02-24 14:35:00</td>\n",
       "    </tr>\n",
       "    <tr>\n",
       "      <th>21591</th>\n",
       "      <td>68</td>\n",
       "      <td>29752.035126</td>\n",
       "      <td>29539.941461</td>\n",
       "      <td>29534.733980</td>\n",
       "      <td>29757.242607</td>\n",
       "      <td>2021-02-24 14:40:00</td>\n",
       "    </tr>\n",
       "    <tr>\n",
       "      <th>21592</th>\n",
       "      <td>69</td>\n",
       "      <td>29539.941461</td>\n",
       "      <td>29599.132840</td>\n",
       "      <td>29539.576870</td>\n",
       "      <td>29599.497431</td>\n",
       "      <td>2021-02-24 14:45:00</td>\n",
       "    </tr>\n",
       "    <tr>\n",
       "      <th>21593</th>\n",
       "      <td>70</td>\n",
       "      <td>29599.132840</td>\n",
       "      <td>29849.730754</td>\n",
       "      <td>29436.477258</td>\n",
       "      <td>30012.386336</td>\n",
       "      <td>2021-02-24 14:50:00</td>\n",
       "    </tr>\n",
       "    <tr>\n",
       "      <th>21594</th>\n",
       "      <td>71</td>\n",
       "      <td>29849.730754</td>\n",
       "      <td>30110.349346</td>\n",
       "      <td>29640.927511</td>\n",
       "      <td>30319.152589</td>\n",
       "      <td>2021-02-24 14:55:00</td>\n",
       "    </tr>\n",
       "  </tbody>\n",
       "</table>\n",
       "<p>21595 rows × 6 columns</p>\n",
       "</div>"
      ],
      "text/plain": [
       "       Unnamed: 0          open         close           low          high  \\\n",
       "0               0   1541.130000   1547.777449   1536.242463   1552.664986   \n",
       "1               1   1547.777449   1550.119675   1535.531174   1562.365950   \n",
       "2               2   1550.119675   1555.196241   1541.053843   1564.262073   \n",
       "3               3   1555.196241   1562.850000   1547.670809   1570.375432   \n",
       "4               4   1562.850000   1565.715472   1557.312400   1571.253072   \n",
       "...           ...           ...           ...           ...           ...   \n",
       "21590          67  29292.257173  29752.035126  29130.933279  29913.359020   \n",
       "21591          68  29752.035126  29539.941461  29534.733980  29757.242607   \n",
       "21592          69  29539.941461  29599.132840  29539.576870  29599.497431   \n",
       "21593          70  29599.132840  29849.730754  29436.477258  30012.386336   \n",
       "21594          71  29849.730754  30110.349346  29640.927511  30319.152589   \n",
       "\n",
       "                      date  \n",
       "0      2020-01-02 09:00:00  \n",
       "1      2020-01-02 09:05:00  \n",
       "2      2020-01-02 09:10:00  \n",
       "3      2020-01-02 09:15:00  \n",
       "4      2020-01-02 09:20:00  \n",
       "...                    ...  \n",
       "21590  2021-02-24 14:35:00  \n",
       "21591  2021-02-24 14:40:00  \n",
       "21592  2021-02-24 14:45:00  \n",
       "21593  2021-02-24 14:50:00  \n",
       "21594  2021-02-24 14:55:00  \n",
       "\n",
       "[21595 rows x 6 columns]"
      ]
     },
     "execution_count": 468,
     "metadata": {},
     "output_type": "execute_result"
    }
   ],
   "source": [
    "testdf"
   ]
  },
  {
   "cell_type": "code",
   "execution_count": 469,
   "metadata": {},
   "outputs": [
    {
     "name": "stdout",
     "output_type": "stream",
     "text": [
      "67 2083\n",
      "299\n"
     ]
    }
   ],
   "source": [
    "irregularDay(testdf)"
   ]
  },
  {
   "cell_type": "code",
   "execution_count": 602,
   "metadata": {},
   "outputs": [
    {
     "data": {
      "text/plain": [
       "2016"
      ]
     },
     "execution_count": 602,
     "metadata": {},
     "output_type": "execute_result"
    }
   ],
   "source": [
    "2083-67"
   ]
  },
  {
   "cell_type": "code",
   "execution_count": 483,
   "metadata": {},
   "outputs": [
    {
     "data": {
      "text/html": [
       "<div>\n",
       "<style scoped>\n",
       "    .dataframe tbody tr th:only-of-type {\n",
       "        vertical-align: middle;\n",
       "    }\n",
       "\n",
       "    .dataframe tbody tr th {\n",
       "        vertical-align: top;\n",
       "    }\n",
       "\n",
       "    .dataframe thead th {\n",
       "        text-align: right;\n",
       "    }\n",
       "</style>\n",
       "<table border=\"1\" class=\"dataframe\">\n",
       "  <thead>\n",
       "    <tr style=\"text-align: right;\">\n",
       "      <th></th>\n",
       "      <th>Unnamed: 0</th>\n",
       "      <th>open</th>\n",
       "      <th>close</th>\n",
       "      <th>low</th>\n",
       "      <th>high</th>\n",
       "      <th>date</th>\n",
       "    </tr>\n",
       "  </thead>\n",
       "  <tbody>\n",
       "    <tr>\n",
       "      <th>2016</th>\n",
       "      <td>0</td>\n",
       "      <td>2975.886292</td>\n",
       "      <td>2979.978816</td>\n",
       "      <td>2968.479283</td>\n",
       "      <td>2987.385826</td>\n",
       "      <td>2020-02-11 09:00:00</td>\n",
       "    </tr>\n",
       "    <tr>\n",
       "      <th>2017</th>\n",
       "      <td>1</td>\n",
       "      <td>2979.978816</td>\n",
       "      <td>2997.374906</td>\n",
       "      <td>2979.514290</td>\n",
       "      <td>2997.839432</td>\n",
       "      <td>2020-02-11 09:05:00</td>\n",
       "    </tr>\n",
       "    <tr>\n",
       "      <th>2018</th>\n",
       "      <td>2</td>\n",
       "      <td>2997.374906</td>\n",
       "      <td>2988.254034</td>\n",
       "      <td>2967.229103</td>\n",
       "      <td>3018.399838</td>\n",
       "      <td>2020-02-11 09:10:00</td>\n",
       "    </tr>\n",
       "    <tr>\n",
       "      <th>2019</th>\n",
       "      <td>3</td>\n",
       "      <td>2988.254034</td>\n",
       "      <td>3004.272208</td>\n",
       "      <td>2977.901244</td>\n",
       "      <td>3014.624998</td>\n",
       "      <td>2020-02-11 09:15:00</td>\n",
       "    </tr>\n",
       "    <tr>\n",
       "      <th>2020</th>\n",
       "      <td>4</td>\n",
       "      <td>3004.272208</td>\n",
       "      <td>3008.693858</td>\n",
       "      <td>2984.304753</td>\n",
       "      <td>3028.661313</td>\n",
       "      <td>2020-02-11 09:20:00</td>\n",
       "    </tr>\n",
       "    <tr>\n",
       "      <th>...</th>\n",
       "      <td>...</td>\n",
       "      <td>...</td>\n",
       "      <td>...</td>\n",
       "      <td>...</td>\n",
       "      <td>...</td>\n",
       "      <td>...</td>\n",
       "    </tr>\n",
       "    <tr>\n",
       "      <th>2078</th>\n",
       "      <td>62</td>\n",
       "      <td>3057.005806</td>\n",
       "      <td>3054.278124</td>\n",
       "      <td>3052.025951</td>\n",
       "      <td>3059.257978</td>\n",
       "      <td>2020-02-11 14:10:00</td>\n",
       "    </tr>\n",
       "    <tr>\n",
       "      <th>2079</th>\n",
       "      <td>63</td>\n",
       "      <td>3054.278124</td>\n",
       "      <td>3051.842491</td>\n",
       "      <td>3028.531474</td>\n",
       "      <td>3077.589141</td>\n",
       "      <td>2020-02-11 14:15:00</td>\n",
       "    </tr>\n",
       "    <tr>\n",
       "      <th>2080</th>\n",
       "      <td>64</td>\n",
       "      <td>3051.842491</td>\n",
       "      <td>3054.089149</td>\n",
       "      <td>3050.707140</td>\n",
       "      <td>3055.224501</td>\n",
       "      <td>2020-02-11 14:20:00</td>\n",
       "    </tr>\n",
       "    <tr>\n",
       "      <th>2081</th>\n",
       "      <td>65</td>\n",
       "      <td>3054.089149</td>\n",
       "      <td>3050.062847</td>\n",
       "      <td>3038.412839</td>\n",
       "      <td>3065.739157</td>\n",
       "      <td>2020-02-11 14:25:00</td>\n",
       "    </tr>\n",
       "    <tr>\n",
       "      <th>2082</th>\n",
       "      <td>66</td>\n",
       "      <td>3050.062847</td>\n",
       "      <td>3049.823446</td>\n",
       "      <td>3041.279643</td>\n",
       "      <td>3058.606650</td>\n",
       "      <td>2020-02-11 14:30:00</td>\n",
       "    </tr>\n",
       "  </tbody>\n",
       "</table>\n",
       "<p>67 rows × 6 columns</p>\n",
       "</div>"
      ],
      "text/plain": [
       "      Unnamed: 0         open        close          low         high  \\\n",
       "2016           0  2975.886292  2979.978816  2968.479283  2987.385826   \n",
       "2017           1  2979.978816  2997.374906  2979.514290  2997.839432   \n",
       "2018           2  2997.374906  2988.254034  2967.229103  3018.399838   \n",
       "2019           3  2988.254034  3004.272208  2977.901244  3014.624998   \n",
       "2020           4  3004.272208  3008.693858  2984.304753  3028.661313   \n",
       "...          ...          ...          ...          ...          ...   \n",
       "2078          62  3057.005806  3054.278124  3052.025951  3059.257978   \n",
       "2079          63  3054.278124  3051.842491  3028.531474  3077.589141   \n",
       "2080          64  3051.842491  3054.089149  3050.707140  3055.224501   \n",
       "2081          65  3054.089149  3050.062847  3038.412839  3065.739157   \n",
       "2082          66  3050.062847  3049.823446  3041.279643  3058.606650   \n",
       "\n",
       "                     date  \n",
       "2016  2020-02-11 09:00:00  \n",
       "2017  2020-02-11 09:05:00  \n",
       "2018  2020-02-11 09:10:00  \n",
       "2019  2020-02-11 09:15:00  \n",
       "2020  2020-02-11 09:20:00  \n",
       "...                   ...  \n",
       "2078  2020-02-11 14:10:00  \n",
       "2079  2020-02-11 14:15:00  \n",
       "2080  2020-02-11 14:20:00  \n",
       "2081  2020-02-11 14:25:00  \n",
       "2082  2020-02-11 14:30:00  \n",
       "\n",
       "[67 rows x 6 columns]"
      ]
     },
     "execution_count": 483,
     "metadata": {},
     "output_type": "execute_result"
    }
   ],
   "source": [
    "testdf.iloc[2016:2016+67]"
   ]
  },
  {
   "cell_type": "code",
   "execution_count": 607,
   "metadata": {},
   "outputs": [
    {
     "data": {
      "text/plain": [
       "[(67, 2016)]"
      ]
     },
     "execution_count": 607,
     "metadata": {},
     "output_type": "execute_result"
    }
   ],
   "source": [
    "def iregularDay(dfx):\n",
    "        irr = []\n",
    "        check = dfx.to_numpy()\n",
    "        count = 0\n",
    "        i=0\n",
    "        while(i<len(check)):\n",
    "            for j in range(i+1,i+72):\n",
    "                if(check[j][0]==0):\n",
    "                    v1 = j-i\n",
    "                    i+=(j-i)\n",
    "                    v2 = i - v1\n",
    "                    irr.append((v1,v2))\n",
    "                    break\n",
    "            else:\n",
    "                i+=72\n",
    "                count+=1\n",
    "        return irr\n",
    "\n",
    "iregularDay(testdf)"
   ]
  },
  {
   "cell_type": "code",
   "execution_count": 516,
   "metadata": {},
   "outputs": [],
   "source": [
    "n = len(testdf)\n",
    "i=0\n",
    "dates = []\n",
    "\n",
    "while(i<n-71):\n",
    "\n",
    "    if(i==2016):\n",
    "\n",
    "        date = pd.to_datetime(testdf['date'].iloc[i]).date()\n",
    "        dates.append(date)\n",
    "        dfx = testdf.iloc[i:i+67]\n",
    "\n",
    "        draw_candlesticks(dfx,'',xaxis_rangeslider_visible=False,save=True,image=os.path.join('Test Image',f'image{i}.png'),show=False)\n",
    "\n",
    "        i+=67\n",
    "    else:\n",
    "\n",
    "        date = pd.to_datetime(testdf['date'].iloc[i]).date()\n",
    "        dates.append(date)\n",
    "        dfx = testdf.iloc[i:i+72]\n",
    "\n",
    "        draw_candlesticks(dfx,'',xaxis_rangeslider_visible=False,save=True,image=os.path.join('Test Image',f'image{i}.png'),show=False)\n",
    "        \n",
    "        i+=72"
   ]
  },
  {
   "cell_type": "code",
   "execution_count": 517,
   "metadata": {},
   "outputs": [],
   "source": [
    "path = os.path.join('StockImages','Test Image')\n",
    "for image in os.listdir(path):\n",
    "    img = cv2.imread(os.path.join(path,image))\n",
    "    processImage(img,os.path.join(path,image))"
   ]
  },
  {
   "cell_type": "code",
   "execution_count": 518,
   "metadata": {},
   "outputs": [],
   "source": [
    "X_input = []\n",
    "path = os.path.join('StockImages','Test Image')\n",
    "for image in os.listdir(path):\n",
    "    img = cv2.imread(os.path.join(path,image))\n",
    "    X_input.append(img)\n",
    "X_input = np.array(X_input)"
   ]
  },
  {
   "cell_type": "code",
   "execution_count": 519,
   "metadata": {},
   "outputs": [
    {
     "data": {
      "text/plain": [
       "(300, 64, 108, 3)"
      ]
     },
     "execution_count": 519,
     "metadata": {},
     "output_type": "execute_result"
    }
   ],
   "source": [
    "X_input.shape"
   ]
  },
  {
   "cell_type": "code",
   "execution_count": 529,
   "metadata": {},
   "outputs": [],
   "source": [
    "X_input = X_input/255"
   ]
  },
  {
   "cell_type": "code",
   "execution_count": 629,
   "metadata": {},
   "outputs": [],
   "source": [
    "patterns = model.predict(X_input)"
   ]
  },
  {
   "cell_type": "code",
   "execution_count": 541,
   "metadata": {},
   "outputs": [
    {
     "data": {
      "text/plain": [
       "{0: 'No Pattern',\n",
       " 1: 'Double Bottom',\n",
       " 2: 'Double Top',\n",
       " 3: 'Head and Shoulders',\n",
       " 4: 'Reverse Head and Shoulders'}"
      ]
     },
     "execution_count": 541,
     "metadata": {},
     "output_type": "execute_result"
    }
   ],
   "source": [
    "pattern_val"
   ]
  },
  {
   "cell_type": "code",
   "execution_count": 621,
   "metadata": {},
   "outputs": [],
   "source": [
    "## it decides the winner\n",
    "def decideWinner(patterns,indx):\n",
    "    avg = patterns.mean(axis=0)\n",
    "    val = patterns[indx]\n",
    "\n",
    "    mask = val>avg\n",
    "    pos = abs(avg-val)\n",
    "\n",
    "    maxi = -1000\n",
    "    idx = 0\n",
    "    for i in range(len(mask)):\n",
    "        if(mask[i] and pos[i]>maxi):\n",
    "            maxi=pos[i]\n",
    "            idx=i\n",
    "    return idx"
   ]
  },
  {
   "cell_type": "code",
   "execution_count": 630,
   "metadata": {},
   "outputs": [
    {
     "data": {
      "text/html": [
       "<div>\n",
       "<style scoped>\n",
       "    .dataframe tbody tr th:only-of-type {\n",
       "        vertical-align: middle;\n",
       "    }\n",
       "\n",
       "    .dataframe tbody tr th {\n",
       "        vertical-align: top;\n",
       "    }\n",
       "\n",
       "    .dataframe thead th {\n",
       "        text-align: right;\n",
       "    }\n",
       "</style>\n",
       "<table border=\"1\" class=\"dataframe\">\n",
       "  <thead>\n",
       "    <tr style=\"text-align: right;\">\n",
       "      <th></th>\n",
       "      <th>date</th>\n",
       "      <th>pattern</th>\n",
       "    </tr>\n",
       "  </thead>\n",
       "  <tbody>\n",
       "    <tr>\n",
       "      <th>0</th>\n",
       "      <td>2020-01-02</td>\n",
       "      <td>Double Bottom</td>\n",
       "    </tr>\n",
       "    <tr>\n",
       "      <th>1</th>\n",
       "      <td>2020-01-03</td>\n",
       "      <td>Double Top</td>\n",
       "    </tr>\n",
       "    <tr>\n",
       "      <th>2</th>\n",
       "      <td>2020-01-06</td>\n",
       "      <td>Double Bottom</td>\n",
       "    </tr>\n",
       "    <tr>\n",
       "      <th>3</th>\n",
       "      <td>2020-01-07</td>\n",
       "      <td>Double Bottom</td>\n",
       "    </tr>\n",
       "    <tr>\n",
       "      <th>4</th>\n",
       "      <td>2020-01-08</td>\n",
       "      <td>No Pattern</td>\n",
       "    </tr>\n",
       "    <tr>\n",
       "      <th>...</th>\n",
       "      <td>...</td>\n",
       "      <td>...</td>\n",
       "    </tr>\n",
       "    <tr>\n",
       "      <th>295</th>\n",
       "      <td>2021-02-18</td>\n",
       "      <td>Double Bottom</td>\n",
       "    </tr>\n",
       "    <tr>\n",
       "      <th>296</th>\n",
       "      <td>2021-02-19</td>\n",
       "      <td>Double Bottom</td>\n",
       "    </tr>\n",
       "    <tr>\n",
       "      <th>297</th>\n",
       "      <td>2021-02-22</td>\n",
       "      <td>Double Bottom</td>\n",
       "    </tr>\n",
       "    <tr>\n",
       "      <th>298</th>\n",
       "      <td>2021-02-23</td>\n",
       "      <td>No Pattern</td>\n",
       "    </tr>\n",
       "    <tr>\n",
       "      <th>299</th>\n",
       "      <td>2021-02-24</td>\n",
       "      <td>Double Bottom</td>\n",
       "    </tr>\n",
       "  </tbody>\n",
       "</table>\n",
       "<p>300 rows × 2 columns</p>\n",
       "</div>"
      ],
      "text/plain": [
       "           date        pattern\n",
       "0    2020-01-02  Double Bottom\n",
       "1    2020-01-03     Double Top\n",
       "2    2020-01-06  Double Bottom\n",
       "3    2020-01-07  Double Bottom\n",
       "4    2020-01-08     No Pattern\n",
       "..          ...            ...\n",
       "295  2021-02-18  Double Bottom\n",
       "296  2021-02-19  Double Bottom\n",
       "297  2021-02-22  Double Bottom\n",
       "298  2021-02-23     No Pattern\n",
       "299  2021-02-24  Double Bottom\n",
       "\n",
       "[300 rows x 2 columns]"
      ]
     },
     "execution_count": 630,
     "metadata": {},
     "output_type": "execute_result"
    }
   ],
   "source": [
    "answer = np.array([pattern_val[decideWinner(patterns,i)] for i in range(len(patterns))])\n",
    "testGT = pd.DataFrame({'date':dates,'pattern':answer})\n",
    "testGT"
   ]
  },
  {
   "attachments": {},
   "cell_type": "markdown",
   "metadata": {},
   "source": [
    "# TAKES ANY CANDLESTICK DATA FILE AND PRODUCES OUTPUT FILE\n",
    "the limitation is this can not tell the start and end time of the pattern as it uses CNN"
   ]
  },
  {
   "cell_type": "code",
   "execution_count": 636,
   "metadata": {},
   "outputs": [],
   "source": [
    "from keras.models import load_model\n",
    "def predictPattern(input_file,save_file,dir='./')->pd.DataFrame(): # dir for storing image files\n",
    "    \"\"\"\n",
    "    It converts any given input candlestick data file to predicted pattern data\n",
    "    \"\"\"\n",
    "    df = pd.read_csv(input_file)\n",
    "    n = len(df)\n",
    "    i=0\n",
    "    dates = []\n",
    "\n",
    "    # filtering out the odd dates\n",
    "    def iregularDay(dfx):\n",
    "        irr = []\n",
    "        check = dfx.to_numpy()\n",
    "        count = 0\n",
    "        i=0\n",
    "        while(i<len(check)):\n",
    "            for j in range(i+1,i+72):\n",
    "                if(check[j][0]==0):\n",
    "                    v1 = j-i\n",
    "                    i+=(j-i)\n",
    "                    v2 = i - v1\n",
    "                    irr.append((v1,v2))\n",
    "                    break\n",
    "            else:\n",
    "                i+=72\n",
    "                count+=1\n",
    "        return irr\n",
    "\n",
    "    irr = iregularDay(df)\n",
    "    ind = 0\n",
    "    while(i<n-71):\n",
    "\n",
    "        if(ind<len(irr) and i==irr[ind][1]):\n",
    "            date = pd.to_datetime(df['date'].iloc[i]).date()\n",
    "            dates.append(date)\n",
    "            dfx = df.iloc[i:i+irr[ind][0]]\n",
    "\n",
    "            draw_candlesticks(dfx,'',xaxis_rangeslider_visible=False,save=True,image=os.path.join(dir,f'image{i}.png'),show=False)\n",
    "\n",
    "            i+=irr[ind][0]\n",
    "            ind+=1\n",
    "        else:\n",
    "\n",
    "            date = pd.to_datetime(df['date'].iloc[i]).date()\n",
    "            dates.append(date)\n",
    "            dfx = df.iloc[i:i+72]\n",
    "\n",
    "            draw_candlesticks(dfx,'',xaxis_rangeslider_visible=False,save=True,image=os.path.join(dir,f'image{i}.png'),show=False)\n",
    "\n",
    "            i+=72\n",
    "\n",
    "    # preprocessing images\n",
    "\n",
    "    path = os.path.join('StockImages',dir)\n",
    "    for image in os.listdir(path):\n",
    "        img = cv2.imread(os.path.join(path,image))\n",
    "        processImage(img,os.path.join(path,image))\n",
    "\n",
    "    # test data creation\n",
    "    \n",
    "    X_input = []\n",
    "    path = os.path.join('StockImages',dir)\n",
    "    for image in os.listdir(path):\n",
    "        img = cv2.imread(os.path.join(path,image))\n",
    "        X_input.append(img)\n",
    "    X_input = np.array(X_input)\n",
    "\n",
    "    # normalizing\n",
    "\n",
    "    X_input = X_input/255\n",
    "\n",
    "    # prediction\n",
    "    model = load_model('model_vgg16.h5')\n",
    "\n",
    "    pattern_val = {0:'No Pattern',1:'Double Bottom',2:'Double Top',3:'Head and Shoulders',4:'Reverse Head and Shoulders'}\n",
    "    patterns = model.predict(X_input)\n",
    "\n",
    "    ## it decides the winner\n",
    "\n",
    "    def decideWinner(patterns,indx):\n",
    "        avg = patterns.mean(axis=0)\n",
    "        val = patterns[indx]\n",
    "\n",
    "        mask = val>avg\n",
    "\n",
    "        pos = abs(avg-val)\n",
    "\n",
    "        maxi = -1000\n",
    "        idx = 0\n",
    "        for i in range(5):\n",
    "            if(mask[i] and pos[i]>maxi):\n",
    "                maxi=pos[i]\n",
    "                idx=i\n",
    "        return idx\n",
    "    \n",
    "    answer = np.array([pattern_val[decideWinner(patterns,i)] for i in range(len(patterns))])\n",
    "    testGT = pd.DataFrame({'date':dates,'pattern':answer})\n",
    "    testGT.to_csv(save_file)\n",
    "    return testGT\n",
    "    "
   ]
  },
  {
   "cell_type": "code",
   "execution_count": 637,
   "metadata": {},
   "outputs": [
    {
     "data": {
      "text/html": [
       "<div>\n",
       "<style scoped>\n",
       "    .dataframe tbody tr th:only-of-type {\n",
       "        vertical-align: middle;\n",
       "    }\n",
       "\n",
       "    .dataframe tbody tr th {\n",
       "        vertical-align: top;\n",
       "    }\n",
       "\n",
       "    .dataframe thead th {\n",
       "        text-align: right;\n",
       "    }\n",
       "</style>\n",
       "<table border=\"1\" class=\"dataframe\">\n",
       "  <thead>\n",
       "    <tr style=\"text-align: right;\">\n",
       "      <th></th>\n",
       "      <th>date</th>\n",
       "      <th>pattern</th>\n",
       "    </tr>\n",
       "  </thead>\n",
       "  <tbody>\n",
       "    <tr>\n",
       "      <th>0</th>\n",
       "      <td>2020-01-02</td>\n",
       "      <td>No Pattern</td>\n",
       "    </tr>\n",
       "    <tr>\n",
       "      <th>1</th>\n",
       "      <td>2020-01-03</td>\n",
       "      <td>No Pattern</td>\n",
       "    </tr>\n",
       "    <tr>\n",
       "      <th>2</th>\n",
       "      <td>2020-01-06</td>\n",
       "      <td>Head and Shoulders</td>\n",
       "    </tr>\n",
       "    <tr>\n",
       "      <th>3</th>\n",
       "      <td>2020-01-07</td>\n",
       "      <td>No Pattern</td>\n",
       "    </tr>\n",
       "    <tr>\n",
       "      <th>4</th>\n",
       "      <td>2020-01-08</td>\n",
       "      <td>No Pattern</td>\n",
       "    </tr>\n",
       "    <tr>\n",
       "      <th>...</th>\n",
       "      <td>...</td>\n",
       "      <td>...</td>\n",
       "    </tr>\n",
       "    <tr>\n",
       "      <th>295</th>\n",
       "      <td>2021-02-18</td>\n",
       "      <td>No Pattern</td>\n",
       "    </tr>\n",
       "    <tr>\n",
       "      <th>296</th>\n",
       "      <td>2021-02-19</td>\n",
       "      <td>Double Top</td>\n",
       "    </tr>\n",
       "    <tr>\n",
       "      <th>297</th>\n",
       "      <td>2021-02-22</td>\n",
       "      <td>No Pattern</td>\n",
       "    </tr>\n",
       "    <tr>\n",
       "      <th>298</th>\n",
       "      <td>2021-02-23</td>\n",
       "      <td>Reverse Head and Shoulders</td>\n",
       "    </tr>\n",
       "    <tr>\n",
       "      <th>299</th>\n",
       "      <td>2021-02-24</td>\n",
       "      <td>No Pattern</td>\n",
       "    </tr>\n",
       "  </tbody>\n",
       "</table>\n",
       "<p>300 rows × 2 columns</p>\n",
       "</div>"
      ],
      "text/plain": [
       "           date                     pattern\n",
       "0    2020-01-02                  No Pattern\n",
       "1    2020-01-03                  No Pattern\n",
       "2    2020-01-06          Head and Shoulders\n",
       "3    2020-01-07                  No Pattern\n",
       "4    2020-01-08                  No Pattern\n",
       "..          ...                         ...\n",
       "295  2021-02-18                  No Pattern\n",
       "296  2021-02-19                  Double Top\n",
       "297  2021-02-22                  No Pattern\n",
       "298  2021-02-23  Reverse Head and Shoulders\n",
       "299  2021-02-24                  No Pattern\n",
       "\n",
       "[300 rows x 2 columns]"
      ]
     },
     "execution_count": 637,
     "metadata": {},
     "output_type": "execute_result"
    }
   ],
   "source": [
    "predictPattern(input_file='TestData.csv',save_file='TestDataGT.csv',dir = os.path.join('Test Image'))"
   ]
  }
 ],
 "metadata": {
  "kernelspec": {
   "display_name": "Python 3 (ipykernel)",
   "language": "python",
   "name": "python3"
  },
  "language_info": {
   "codemirror_mode": {
    "name": "ipython",
    "version": 3
   },
   "file_extension": ".py",
   "mimetype": "text/x-python",
   "name": "python",
   "nbconvert_exporter": "python",
   "pygments_lexer": "ipython3",
   "version": "3.9.7"
  },
  "vscode": {
   "interpreter": {
    "hash": "245b9fdd41826652eab311a2b791c6ecb0e15947c319e7e2516aa9c02c583d40"
   }
  }
 },
 "nbformat": 4,
 "nbformat_minor": 2
}
